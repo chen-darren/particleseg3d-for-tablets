{
 "cells": [
  {
   "cell_type": "code",
   "execution_count": 2,
   "metadata": {},
   "outputs": [
    {
     "name": "stdout",
     "output_type": "stream",
     "text": [
      "{'all_sizes': [], 'all_spacings': [], 'all_classes': [1, 2], 'modalities': {0: 'noNorm'}, 'intensityproperties': None, 'size_reductions': OrderedDict()}\n"
     ]
    }
   ],
   "source": [
    "import pickle\n",
    "\n",
    "# file_path = r'd:\\Darren\\Files\\training\\nnUNet_raw_data_base\\nnUNet_cropped_data\\Task500_ParticleSeg3D\\dataset_properties.pkl'\n",
    "file_path = r'd:\\Darren\\Files\\training\\nnUNet_preprocessed\\Task500_ParticleSeg3D\\dataset_properties.pkl'\n",
    "\n",
    "with open(file_path, 'rb') as f:\n",
    "    data = pickle.load(f)  # Load the pickled object\n",
    "\n",
    "print(data)\n"
   ]
  },
  {
   "cell_type": "code",
   "execution_count": 3,
   "metadata": {},
   "outputs": [
    {
     "name": "stdout",
     "output_type": "stream",
     "text": [
      "OrderedDict([('original_size_of_raw_data', array([ 889, 1425, 1120])), ('original_spacing', array([0.1, 0.1, 0.1])), ('list_of_data_files', ['D:\\\\Darren\\\\Files\\\\training\\\\nnUNet_raw_data_base\\\\nnUNet_raw_data\\\\Task500_ParticleSeg3D\\\\imagesTr\\\\2_Tablet_Aug1_0000.nii.gz']), ('seg_file', 'D:\\\\Darren\\\\Files\\\\training\\\\nnUNet_raw_data_base\\\\nnUNet_raw_data\\\\Task500_ParticleSeg3D\\\\labelsTr\\\\2_Tablet_Aug1.nii.gz'), ('itk_origin', (0.0, 0.0, 0.0)), ('itk_spacing', (0.10000000149011612, 0.10000000149011612, 0.10000000149011612)), ('itk_direction', (1.0, 0.0, 0.0, 0.0, 1.0, 0.0, 0.0, 0.0, 1.0)), ('crop_bbox', [[0, 889], [0, 1425], [0, 1120]]), ('classes', array([0., 1., 2.], dtype=float32)), ('size_after_cropping', (889, 1425, 1120))])\n"
     ]
    }
   ],
   "source": [
    "import pickle\n",
    "\n",
    "file_path = r'd:\\Darren\\Files\\training\\nnUNet_raw_data_base\\nnUNet_raw_data\\Task500_ParticleSeg3D\\imagesTr\\2_Tablet_Aug1.pkl'\n",
    "\n",
    "with open(file_path, 'rb') as f:\n",
    "    data = pickle.load(f)  # Load the pickled object\n",
    "\n",
    "print(data)\n"
   ]
  },
  {
   "cell_type": "code",
   "execution_count": 1,
   "metadata": {},
   "outputs": [
    {
     "name": "stdout",
     "output_type": "stream",
     "text": [
      "{'num_stages': 2, 'num_modalities': 1, 'modalities': {0: 'noNorm'}, 'normalization_schemes': OrderedDict([(0, 'noNorm')]), 'dataset_properties': {'all_sizes': [(235, 941, 941), (235, 941, 941), (235, 941, 941), (304, 1217, 1217), (304, 1217, 1217), (304, 1217, 1217), (222, 887, 887), (222, 887, 887), (222, 887, 887), (130, 519, 519), (130, 519, 519), (130, 519, 519), (430, 860, 860), (168, 337, 337), (207, 414, 414), (207, 414, 414), (207, 414, 414), (272, 1086, 1086), (272, 1086, 1086), (272, 1086, 1086), (117, 467, 467), (117, 467, 467), (117, 467, 467), (94, 375, 375), (94, 375, 375), (94, 375, 375), (240, 480, 480), (151, 302, 302), (151, 302, 302), (151, 302, 302), (339, 679, 679), (379, 758, 758), (170, 340, 340), (170, 340, 340), (170, 340, 340), (200, 401, 401), (200, 401, 401), (177, 354, 354), (48, 193, 193), (48, 193, 193), (179, 359, 359)], 'all_spacings': [array([0.1, 0.1, 0.1]), array([0.1, 0.1, 0.1]), array([0.1, 0.1, 0.1]), array([0.1, 0.1, 0.1]), array([0.1, 0.1, 0.1]), array([0.1, 0.1, 0.1]), array([0.1, 0.1, 0.1]), array([0.1, 0.1, 0.1]), array([0.1, 0.1, 0.1]), array([0.1, 0.1, 0.1]), array([0.1, 0.1, 0.1]), array([0.1, 0.1, 0.1]), array([0.1, 0.1, 0.1]), array([0.1, 0.1, 0.1]), array([0.1, 0.1, 0.1]), array([0.1, 0.1, 0.1]), array([0.1, 0.1, 0.1]), array([0.1, 0.1, 0.1]), array([0.1, 0.1, 0.1]), array([0.1, 0.1, 0.1]), array([0.1, 0.1, 0.1]), array([0.1, 0.1, 0.1]), array([0.1, 0.1, 0.1]), array([0.1, 0.1, 0.1]), array([0.1, 0.1, 0.1]), array([0.1, 0.1, 0.1]), array([0.1, 0.1, 0.1]), array([0.1, 0.1, 0.1]), array([0.1, 0.1, 0.1]), array([0.1, 0.1, 0.1]), array([0.1, 0.1, 0.1]), array([0.1, 0.1, 0.1]), array([0.1, 0.1, 0.1]), array([0.1, 0.1, 0.1]), array([0.1, 0.1, 0.1]), array([0.1, 0.1, 0.1]), array([0.1, 0.1, 0.1]), array([0.1, 0.1, 0.1]), array([0.1, 0.1, 0.1]), array([0.1, 0.1, 0.1]), array([0.1, 0.1, 0.1])], 'all_classes': [1, 2], 'modalities': {0: 'noNorm'}, 'intensityproperties': None, 'size_reductions': OrderedDict([('AFK_M1f_patch_1_00000', 1.0), ('AFK_M1f_patch_2_00000', 1.0), ('AFK_M1f_patch_3_00000', 1.0), ('AFK_M4c_patch_1_00000', 1.0), ('AFK_M4c_patch_2_00000', 1.0), ('AFK_M4c_patch_3_00000', 1.0), ('AFK_M5t_patch_1_00000', 1.0), ('AFK_M5t_patch_2_00000', 1.0), ('AFK_M5t_patch_3_00000', 1.0), ('BateriesAcourecDec19_patch_1_00000', 1.0), ('BateriesAcourecDec19_patch_2_00000', 1.0), ('BateriesAcourecDec19_patch_3_00000', 1.0), ('Calcite_10_voxel_size_patch_1_00000', 1.0), ('Calcite_SPP2315_Reference_patch_1_00000', 1.0), ('GR_AR1_16_012_patch_1_00000', 1.0), ('GR_AR1_16_012_patch_2_00000', 1.0), ('GR_AR1_16_012_patch_3_00000', 1.0), ('Kemi+75_patch_1_00000', 1.0), ('Kemi+75_patch_2_00000', 1.0), ('Kemi+75_patch_3_00000', 1.0), ('Kemi300_patch_1_00000', 1.0), ('Kemi300_patch_2_00000', 1.0), ('Kemi300_patch_3_00000', 1.0), ('Kemi850_35mm_patch_1_00000', 1.0), ('Kemi850_35mm_patch_2_00000', 1.0), ('Kemi850_35mm_patch_3_00000', 1.0), ('Lepidolite_6mm_patch_1_00000', 1.0), ('Mag_CORE_1_425to600_patch_1_00000', 1.0), ('Mag_CORE_1_425to600_patch_2_00000', 1.0), ('Mag_CORE_1_425to600_patch_3_00000', 1.0), ('Mittersill_B_patch_1_00000', 1.0), ('MixedParticles_patch_1_00000', 1.0), ('Mixed_SPP2315_Reference_patch_1_00000', 1.0), ('Mixed_SPP2315_Reference_patch_2_00000', 1.0), ('Mixed_SPP2315_Reference_patch_3_00000', 1.0), ('Quartz_calcite_florite_patch_1_00000', 1.0), ('Quartz_calcite_florite_patch_2_00000', 1.0), ('Quatz_and_liupidolite_5_5vs_patch_1_00000', 1.0), ('SPP2315_160-250_patch_1_00000', 1.0), ('SPP2315_160-250_patch_2_00000', 1.0), ('Sulphide_Core_patch_1_00000', 1.0)])}, 'list_of_npz_files': ['/dkfz/cluster/gpu/data/OE0441/k539i/preprocessed/nnUNet/nnUNet_raw_data/nnUNet_cropped_data/Task310_particle_seg/AFK_M1f_patch_1_00000.npz', '/dkfz/cluster/gpu/data/OE0441/k539i/preprocessed/nnUNet/nnUNet_raw_data/nnUNet_cropped_data/Task310_particle_seg/AFK_M1f_patch_2_00000.npz', '/dkfz/cluster/gpu/data/OE0441/k539i/preprocessed/nnUNet/nnUNet_raw_data/nnUNet_cropped_data/Task310_particle_seg/AFK_M1f_patch_3_00000.npz', '/dkfz/cluster/gpu/data/OE0441/k539i/preprocessed/nnUNet/nnUNet_raw_data/nnUNet_cropped_data/Task310_particle_seg/AFK_M4c_patch_1_00000.npz', '/dkfz/cluster/gpu/data/OE0441/k539i/preprocessed/nnUNet/nnUNet_raw_data/nnUNet_cropped_data/Task310_particle_seg/AFK_M4c_patch_2_00000.npz', '/dkfz/cluster/gpu/data/OE0441/k539i/preprocessed/nnUNet/nnUNet_raw_data/nnUNet_cropped_data/Task310_particle_seg/AFK_M4c_patch_3_00000.npz', '/dkfz/cluster/gpu/data/OE0441/k539i/preprocessed/nnUNet/nnUNet_raw_data/nnUNet_cropped_data/Task310_particle_seg/AFK_M5t_patch_1_00000.npz', '/dkfz/cluster/gpu/data/OE0441/k539i/preprocessed/nnUNet/nnUNet_raw_data/nnUNet_cropped_data/Task310_particle_seg/AFK_M5t_patch_2_00000.npz', '/dkfz/cluster/gpu/data/OE0441/k539i/preprocessed/nnUNet/nnUNet_raw_data/nnUNet_cropped_data/Task310_particle_seg/AFK_M5t_patch_3_00000.npz', '/dkfz/cluster/gpu/data/OE0441/k539i/preprocessed/nnUNet/nnUNet_raw_data/nnUNet_cropped_data/Task310_particle_seg/BateriesAcourecDec19_patch_1_00000.npz', '/dkfz/cluster/gpu/data/OE0441/k539i/preprocessed/nnUNet/nnUNet_raw_data/nnUNet_cropped_data/Task310_particle_seg/BateriesAcourecDec19_patch_2_00000.npz', '/dkfz/cluster/gpu/data/OE0441/k539i/preprocessed/nnUNet/nnUNet_raw_data/nnUNet_cropped_data/Task310_particle_seg/BateriesAcourecDec19_patch_3_00000.npz', '/dkfz/cluster/gpu/data/OE0441/k539i/preprocessed/nnUNet/nnUNet_raw_data/nnUNet_cropped_data/Task310_particle_seg/Calcite_10_voxel_size_patch_1_00000.npz', '/dkfz/cluster/gpu/data/OE0441/k539i/preprocessed/nnUNet/nnUNet_raw_data/nnUNet_cropped_data/Task310_particle_seg/Calcite_SPP2315_Reference_patch_1_00000.npz', '/dkfz/cluster/gpu/data/OE0441/k539i/preprocessed/nnUNet/nnUNet_raw_data/nnUNet_cropped_data/Task310_particle_seg/GR_AR1_16_012_patch_1_00000.npz', '/dkfz/cluster/gpu/data/OE0441/k539i/preprocessed/nnUNet/nnUNet_raw_data/nnUNet_cropped_data/Task310_particle_seg/GR_AR1_16_012_patch_2_00000.npz', '/dkfz/cluster/gpu/data/OE0441/k539i/preprocessed/nnUNet/nnUNet_raw_data/nnUNet_cropped_data/Task310_particle_seg/GR_AR1_16_012_patch_3_00000.npz', '/dkfz/cluster/gpu/data/OE0441/k539i/preprocessed/nnUNet/nnUNet_raw_data/nnUNet_cropped_data/Task310_particle_seg/Kemi+75_patch_1_00000.npz', '/dkfz/cluster/gpu/data/OE0441/k539i/preprocessed/nnUNet/nnUNet_raw_data/nnUNet_cropped_data/Task310_particle_seg/Kemi+75_patch_2_00000.npz', '/dkfz/cluster/gpu/data/OE0441/k539i/preprocessed/nnUNet/nnUNet_raw_data/nnUNet_cropped_data/Task310_particle_seg/Kemi+75_patch_3_00000.npz', '/dkfz/cluster/gpu/data/OE0441/k539i/preprocessed/nnUNet/nnUNet_raw_data/nnUNet_cropped_data/Task310_particle_seg/Kemi300_patch_1_00000.npz', '/dkfz/cluster/gpu/data/OE0441/k539i/preprocessed/nnUNet/nnUNet_raw_data/nnUNet_cropped_data/Task310_particle_seg/Kemi300_patch_2_00000.npz', '/dkfz/cluster/gpu/data/OE0441/k539i/preprocessed/nnUNet/nnUNet_raw_data/nnUNet_cropped_data/Task310_particle_seg/Kemi300_patch_3_00000.npz', '/dkfz/cluster/gpu/data/OE0441/k539i/preprocessed/nnUNet/nnUNet_raw_data/nnUNet_cropped_data/Task310_particle_seg/Kemi850_35mm_patch_1_00000.npz', '/dkfz/cluster/gpu/data/OE0441/k539i/preprocessed/nnUNet/nnUNet_raw_data/nnUNet_cropped_data/Task310_particle_seg/Kemi850_35mm_patch_2_00000.npz', '/dkfz/cluster/gpu/data/OE0441/k539i/preprocessed/nnUNet/nnUNet_raw_data/nnUNet_cropped_data/Task310_particle_seg/Kemi850_35mm_patch_3_00000.npz', '/dkfz/cluster/gpu/data/OE0441/k539i/preprocessed/nnUNet/nnUNet_raw_data/nnUNet_cropped_data/Task310_particle_seg/Lepidolite_6mm_patch_1_00000.npz', '/dkfz/cluster/gpu/data/OE0441/k539i/preprocessed/nnUNet/nnUNet_raw_data/nnUNet_cropped_data/Task310_particle_seg/Mag_CORE_1_425to600_patch_1_00000.npz', '/dkfz/cluster/gpu/data/OE0441/k539i/preprocessed/nnUNet/nnUNet_raw_data/nnUNet_cropped_data/Task310_particle_seg/Mag_CORE_1_425to600_patch_2_00000.npz', '/dkfz/cluster/gpu/data/OE0441/k539i/preprocessed/nnUNet/nnUNet_raw_data/nnUNet_cropped_data/Task310_particle_seg/Mag_CORE_1_425to600_patch_3_00000.npz', '/dkfz/cluster/gpu/data/OE0441/k539i/preprocessed/nnUNet/nnUNet_raw_data/nnUNet_cropped_data/Task310_particle_seg/Mittersill_B_patch_1_00000.npz', '/dkfz/cluster/gpu/data/OE0441/k539i/preprocessed/nnUNet/nnUNet_raw_data/nnUNet_cropped_data/Task310_particle_seg/MixedParticles_patch_1_00000.npz', '/dkfz/cluster/gpu/data/OE0441/k539i/preprocessed/nnUNet/nnUNet_raw_data/nnUNet_cropped_data/Task310_particle_seg/Mixed_SPP2315_Reference_patch_1_00000.npz', '/dkfz/cluster/gpu/data/OE0441/k539i/preprocessed/nnUNet/nnUNet_raw_data/nnUNet_cropped_data/Task310_particle_seg/Mixed_SPP2315_Reference_patch_2_00000.npz', '/dkfz/cluster/gpu/data/OE0441/k539i/preprocessed/nnUNet/nnUNet_raw_data/nnUNet_cropped_data/Task310_particle_seg/Mixed_SPP2315_Reference_patch_3_00000.npz', '/dkfz/cluster/gpu/data/OE0441/k539i/preprocessed/nnUNet/nnUNet_raw_data/nnUNet_cropped_data/Task310_particle_seg/Quartz_calcite_florite_patch_1_00000.npz', '/dkfz/cluster/gpu/data/OE0441/k539i/preprocessed/nnUNet/nnUNet_raw_data/nnUNet_cropped_data/Task310_particle_seg/Quartz_calcite_florite_patch_2_00000.npz', '/dkfz/cluster/gpu/data/OE0441/k539i/preprocessed/nnUNet/nnUNet_raw_data/nnUNet_cropped_data/Task310_particle_seg/Quatz_and_liupidolite_5_5vs_patch_1_00000.npz', '/dkfz/cluster/gpu/data/OE0441/k539i/preprocessed/nnUNet/nnUNet_raw_data/nnUNet_cropped_data/Task310_particle_seg/SPP2315_160-250_patch_1_00000.npz', '/dkfz/cluster/gpu/data/OE0441/k539i/preprocessed/nnUNet/nnUNet_raw_data/nnUNet_cropped_data/Task310_particle_seg/SPP2315_160-250_patch_2_00000.npz', '/dkfz/cluster/gpu/data/OE0441/k539i/preprocessed/nnUNet/nnUNet_raw_data/nnUNet_cropped_data/Task310_particle_seg/Sulphide_Core_patch_1_00000.npz'], 'original_spacings': [array([0.1, 0.1, 0.1]), array([0.1, 0.1, 0.1]), array([0.1, 0.1, 0.1]), array([0.1, 0.1, 0.1]), array([0.1, 0.1, 0.1]), array([0.1, 0.1, 0.1]), array([0.1, 0.1, 0.1]), array([0.1, 0.1, 0.1]), array([0.1, 0.1, 0.1]), array([0.1, 0.1, 0.1]), array([0.1, 0.1, 0.1]), array([0.1, 0.1, 0.1]), array([0.1, 0.1, 0.1]), array([0.1, 0.1, 0.1]), array([0.1, 0.1, 0.1]), array([0.1, 0.1, 0.1]), array([0.1, 0.1, 0.1]), array([0.1, 0.1, 0.1]), array([0.1, 0.1, 0.1]), array([0.1, 0.1, 0.1]), array([0.1, 0.1, 0.1]), array([0.1, 0.1, 0.1]), array([0.1, 0.1, 0.1]), array([0.1, 0.1, 0.1]), array([0.1, 0.1, 0.1]), array([0.1, 0.1, 0.1]), array([0.1, 0.1, 0.1]), array([0.1, 0.1, 0.1]), array([0.1, 0.1, 0.1]), array([0.1, 0.1, 0.1]), array([0.1, 0.1, 0.1]), array([0.1, 0.1, 0.1]), array([0.1, 0.1, 0.1]), array([0.1, 0.1, 0.1]), array([0.1, 0.1, 0.1]), array([0.1, 0.1, 0.1]), array([0.1, 0.1, 0.1]), array([0.1, 0.1, 0.1]), array([0.1, 0.1, 0.1]), array([0.1, 0.1, 0.1]), array([0.1, 0.1, 0.1])], 'original_sizes': [(235, 941, 941), (235, 941, 941), (235, 941, 941), (304, 1217, 1217), (304, 1217, 1217), (304, 1217, 1217), (222, 887, 887), (222, 887, 887), (222, 887, 887), (130, 519, 519), (130, 519, 519), (130, 519, 519), (430, 860, 860), (168, 337, 337), (207, 414, 414), (207, 414, 414), (207, 414, 414), (272, 1086, 1086), (272, 1086, 1086), (272, 1086, 1086), (117, 467, 467), (117, 467, 467), (117, 467, 467), (94, 375, 375), (94, 375, 375), (94, 375, 375), (240, 480, 480), (151, 302, 302), (151, 302, 302), (151, 302, 302), (339, 679, 679), (379, 758, 758), (170, 340, 340), (170, 340, 340), (170, 340, 340), (200, 401, 401), (200, 401, 401), (177, 354, 354), (48, 193, 193), (48, 193, 193), (179, 359, 359)], 'preprocessed_data_folder': '/dkfz/cluster/gpu/data/OE0441/k539i/preprocessed/nnUNet/nnUNet_preprocessed/Task310_particle_seg', 'num_classes': 2, 'all_classes': [1, 2], 'base_num_features': 32, 'use_mask_for_norm': OrderedDict([(0, False)]), 'keep_only_largest_region': None, 'min_region_size_per_class': None, 'min_size_per_class': None, 'transpose_forward': [0, 1, 2], 'transpose_backward': [0, 1, 2], 'data_identifier': 'nnUNetData_plans_v2.1', 'plans_per_stage': {0: {'batch_size': 2, 'num_pool_per_axis': [4, 5, 5], 'patch_size': array([ 80, 192, 160], dtype=int64), 'median_patient_size_in_voxels': array([122, 284, 284], dtype=int64), 'current_spacing': array([0.16446318, 0.16446318, 0.16446318]), 'original_spacing': array([0.1, 0.1, 0.1]), 'do_dummy_2D_data_aug': False, 'pool_op_kernel_sizes': [[2, 2, 2], [2, 2, 2], [2, 2, 2], [2, 2, 2], [1, 2, 2]], 'conv_kernel_sizes': [[3, 3, 3], [3, 3, 3], [3, 3, 3], [3, 3, 3], [3, 3, 3], [3, 3, 3]]}, 1: {'batch_size': 2, 'num_pool_per_axis': [4, 5, 5], 'patch_size': array([ 80, 192, 160], dtype=int64), 'median_patient_size_in_voxels': array([200, 467, 467], dtype=int64), 'current_spacing': array([0.1, 0.1, 0.1]), 'original_spacing': array([0.1, 0.1, 0.1]), 'do_dummy_2D_data_aug': False, 'pool_op_kernel_sizes': [[2, 2, 2], [2, 2, 2], [2, 2, 2], [2, 2, 2], [1, 2, 2]], 'conv_kernel_sizes': [[3, 3, 3], [3, 3, 3], [3, 3, 3], [3, 3, 3], [3, 3, 3], [3, 3, 3]]}}, 'preprocessor_name': 'GenericPreprocessor', 'conv_per_stage': 2}\n"
     ]
    }
   ],
   "source": [
    "import pickle\n",
    "\n",
    "file_path = r'd:\\Senior_Design\\weights\\original_particle_seg\\nnUNetTrainerV2_slimDA5_touchV5__nnUNetPlansv2.1\\plans.pkl'\n",
    "\n",
    "with open(file_path, 'rb') as f:\n",
    "    data = pickle.load(f)  # Load the pickled object\n",
    "\n",
    "print(data)\n"
   ]
  },
  {
   "cell_type": "code",
   "execution_count": 2,
   "metadata": {},
   "outputs": [
    {
     "name": "stdout",
     "output_type": "stream",
     "text": [
      "{'num_stages': 2, 'num_modalities': 1, 'modalities': {0: 'noNorm'}, 'normalization_schemes': OrderedDict([(0, 'noNorm')]), 'dataset_properties': {'all_sizes': [(889, 1425, 1120), (1120, 889, 1425), (1425, 1120, 889), (889, 1425, 1120), (1120, 889, 1425), (975, 1639, 1635), (1635, 975, 1639), (1639, 1635, 975), (975, 1639, 1635), (1635, 975, 1639), (1010, 1728, 1721), (1721, 1010, 1728), (1728, 1721, 1010), (1010, 1728, 1721), (1721, 1010, 1728)], 'all_spacings': [array([0.1, 0.1, 0.1]), array([0.1, 0.1, 0.1]), array([0.1, 0.1, 0.1]), array([0.1, 0.1, 0.1]), array([0.1, 0.1, 0.1]), array([0.1, 0.1, 0.1]), array([0.1, 0.1, 0.1]), array([0.1, 0.1, 0.1]), array([0.1, 0.1, 0.1]), array([0.1, 0.1, 0.1]), array([0.1, 0.1, 0.1]), array([0.1, 0.1, 0.1]), array([0.1, 0.1, 0.1]), array([0.1, 0.1, 0.1]), array([0.1, 0.1, 0.1])], 'all_classes': [1, 2], 'modalities': {0: 'noNorm'}, 'intensityproperties': None, 'size_reductions': OrderedDict([('2_Tablet_Aug1', 1.0), ('2_Tablet_Aug2', 1.0), ('2_Tablet_Aug3', 1.0), ('2_Tablet_Aug4', 1.0), ('2_Tablet_Aug5', 1.0), ('4_GenericD12_Aug1', 1.0), ('4_GenericD12_Aug2', 1.0), ('4_GenericD12_Aug3', 1.0), ('4_GenericD12_Aug4', 1.0), ('4_GenericD12_Aug5', 1.0), ('5_ClaritinD12_Aug1', 1.0), ('5_ClaritinD12_Aug2', 1.0), ('5_ClaritinD12_Aug3', 1.0), ('5_ClaritinD12_Aug4', 1.0), ('5_ClaritinD12_Aug5', 1.0)])}, 'list_of_npz_files': ['/home/dchen/Senior_Design/training/nnUNet_raw_data_base/nnUNet_cropped_data/Task502_ParticleSeg3D/2_Tablet_Aug1.npz', '/home/dchen/Senior_Design/training/nnUNet_raw_data_base/nnUNet_cropped_data/Task502_ParticleSeg3D/2_Tablet_Aug2.npz', '/home/dchen/Senior_Design/training/nnUNet_raw_data_base/nnUNet_cropped_data/Task502_ParticleSeg3D/2_Tablet_Aug3.npz', '/home/dchen/Senior_Design/training/nnUNet_raw_data_base/nnUNet_cropped_data/Task502_ParticleSeg3D/2_Tablet_Aug4.npz', '/home/dchen/Senior_Design/training/nnUNet_raw_data_base/nnUNet_cropped_data/Task502_ParticleSeg3D/2_Tablet_Aug5.npz', '/home/dchen/Senior_Design/training/nnUNet_raw_data_base/nnUNet_cropped_data/Task502_ParticleSeg3D/4_GenericD12_Aug1.npz', '/home/dchen/Senior_Design/training/nnUNet_raw_data_base/nnUNet_cropped_data/Task502_ParticleSeg3D/4_GenericD12_Aug2.npz', '/home/dchen/Senior_Design/training/nnUNet_raw_data_base/nnUNet_cropped_data/Task502_ParticleSeg3D/4_GenericD12_Aug3.npz', '/home/dchen/Senior_Design/training/nnUNet_raw_data_base/nnUNet_cropped_data/Task502_ParticleSeg3D/4_GenericD12_Aug4.npz', '/home/dchen/Senior_Design/training/nnUNet_raw_data_base/nnUNet_cropped_data/Task502_ParticleSeg3D/4_GenericD12_Aug5.npz', '/home/dchen/Senior_Design/training/nnUNet_raw_data_base/nnUNet_cropped_data/Task502_ParticleSeg3D/5_ClaritinD12_Aug1.npz', '/home/dchen/Senior_Design/training/nnUNet_raw_data_base/nnUNet_cropped_data/Task502_ParticleSeg3D/5_ClaritinD12_Aug2.npz', '/home/dchen/Senior_Design/training/nnUNet_raw_data_base/nnUNet_cropped_data/Task502_ParticleSeg3D/5_ClaritinD12_Aug3.npz', '/home/dchen/Senior_Design/training/nnUNet_raw_data_base/nnUNet_cropped_data/Task502_ParticleSeg3D/5_ClaritinD12_Aug4.npz', '/home/dchen/Senior_Design/training/nnUNet_raw_data_base/nnUNet_cropped_data/Task502_ParticleSeg3D/5_ClaritinD12_Aug5.npz'], 'original_spacings': [array([0.1, 0.1, 0.1]), array([0.1, 0.1, 0.1]), array([0.1, 0.1, 0.1]), array([0.1, 0.1, 0.1]), array([0.1, 0.1, 0.1]), array([0.1, 0.1, 0.1]), array([0.1, 0.1, 0.1]), array([0.1, 0.1, 0.1]), array([0.1, 0.1, 0.1]), array([0.1, 0.1, 0.1]), array([0.1, 0.1, 0.1]), array([0.1, 0.1, 0.1]), array([0.1, 0.1, 0.1]), array([0.1, 0.1, 0.1]), array([0.1, 0.1, 0.1])], 'original_sizes': [(889, 1425, 1120), (1120, 889, 1425), (1425, 1120, 889), (889, 1425, 1120), (1120, 889, 1425), (975, 1639, 1635), (1635, 975, 1639), (1639, 1635, 975), (975, 1639, 1635), (1635, 975, 1639), (1010, 1728, 1721), (1721, 1010, 1728), (1728, 1721, 1010), (1010, 1728, 1721), (1721, 1010, 1728)], 'preprocessed_data_folder': '/home/dchen/Senior_Design/training/nnUNet_preprocessed/Task502_ParticleSeg3D', 'num_classes': 2, 'all_classes': [1, 2], 'base_num_features': 32, 'use_mask_for_norm': OrderedDict([(0, False)]), 'keep_only_largest_region': None, 'min_region_size_per_class': None, 'min_size_per_class': None, 'transpose_forward': [0, 1, 2], 'transpose_backward': [0, 1, 2], 'data_identifier': 'nnUNetData_plans_v2.1', 'plans_per_stage': {0: {'batch_size': 2, 'num_pool_per_axis': [4, 5, 5], 'patch_size': array([112, 128, 160], dtype=int64), 'median_patient_size_in_voxels': array([169, 215, 247], dtype=int64), 'current_spacing': array([0.66230956, 0.66230956, 0.66230956]), 'original_spacing': array([0.1, 0.1, 0.1]), 'do_dummy_2D_data_aug': False, 'pool_op_kernel_sizes': [[2, 2, 2], [2, 2, 2], [2, 2, 2], [2, 2, 2], [1, 2, 2]], 'conv_kernel_sizes': [[3, 3, 3], [3, 3, 3], [3, 3, 3], [3, 3, 3], [3, 3, 3], [3, 3, 3]]}, 1: {'batch_size': 2, 'num_pool_per_axis': [4, 5, 5], 'patch_size': array([112, 128, 160], dtype=int64), 'median_patient_size_in_voxels': array([1120, 1425, 1635], dtype=int64), 'current_spacing': array([0.1, 0.1, 0.1]), 'original_spacing': array([0.1, 0.1, 0.1]), 'do_dummy_2D_data_aug': False, 'pool_op_kernel_sizes': [[2, 2, 2], [2, 2, 2], [2, 2, 2], [2, 2, 2], [1, 2, 2]], 'conv_kernel_sizes': [[3, 3, 3], [3, 3, 3], [3, 3, 3], [3, 3, 3], [3, 3, 3], [3, 3, 3]]}}, 'preprocessor_name': 'GenericPreprocessor', 'conv_per_stage': 2}\n"
     ]
    }
   ],
   "source": [
    "import pickle\n",
    "\n",
    "file_path = r'd:\\Senior_Design\\training\\nnUNet_trained_models\\nnUNet\\3d_fullres\\Task502_random_split\\nnUNetTrainerV2_ParticleSeg3D_DarrenSGD_CUDAErrorSkip__nnUNetPlansv2.1\\plans.pkl'\n",
    "\n",
    "with open(file_path, 'rb') as f:\n",
    "    data = pickle.load(f)  # Load the pickled object\n",
    "\n",
    "print(data)\n"
   ]
  },
  {
   "cell_type": "code",
   "execution_count": 3,
   "metadata": {},
   "outputs": [
    {
     "name": "stdout",
     "output_type": "stream",
     "text": [
      "Data saved to c:\\Users\\dchen\\OneDrive - University of Connecticut\\Courses\\Year 4\\Fall 2024\\BME 4900 and 4910W (Kumavor)\\Python\\Files\\training\\nnUNet_preprocessed\\Task502_ParticleSeg3D\\splits_final.txt\n"
     ]
    }
   ],
   "source": [
    "import pickle\n",
    "\n",
    "file_path = r'c:\\Users\\dchen\\OneDrive - University of Connecticut\\Courses\\Year 4\\Fall 2024\\BME 4900 and 4910W (Kumavor)\\Python\\Files\\training\\nnUNet_preprocessed\\Task502_ParticleSeg3D\\splits_final.pkl'\n",
    "output_path = r'c:\\Users\\dchen\\OneDrive - University of Connecticut\\Courses\\Year 4\\Fall 2024\\BME 4900 and 4910W (Kumavor)\\Python\\Files\\training\\nnUNet_preprocessed\\Task502_ParticleSeg3D\\splits_final.txt'\n",
    "\n",
    "# Load the pickled data\n",
    "with open(file_path, 'rb') as f:\n",
    "    data = pickle.load(f)\n",
    "\n",
    "# Save data as a text file\n",
    "with open(output_path, 'w') as f:\n",
    "    f.write(str(data))\n",
    "\n",
    "print(f\"Data saved to {output_path}\")"
   ]
  },
  {
   "cell_type": "code",
   "execution_count": 1,
   "metadata": {},
   "outputs": [
    {
     "name": "stdout",
     "output_type": "stream",
     "text": [
      "[OrderedDict([('train', array(['2_Tablet_Aug2', '2_Tablet_Aug3', '2_Tablet_Aug4', '2_Tablet_Aug5',\n",
      "       '4_GenericD12_Aug1', '4_GenericD12_Aug2', '4_GenericD12_Aug4',\n",
      "       '4_GenericD12_Aug5', '5_ClaritinD12_Aug1', '5_ClaritinD12_Aug3',\n",
      "       '5_ClaritinD12_Aug4', '5_ClaritinD12_Aug5'], dtype='<U18')), ('val', array(['2_Tablet_Aug1', '4_GenericD12_Aug3', '5_ClaritinD12_Aug2'],\n",
      "      dtype='<U18'))]), OrderedDict([('train', array(['2_Tablet_Aug1', '2_Tablet_Aug2', '2_Tablet_Aug3', '2_Tablet_Aug5',\n",
      "       '4_GenericD12_Aug1', '4_GenericD12_Aug3', '4_GenericD12_Aug5',\n",
      "       '5_ClaritinD12_Aug1', '5_ClaritinD12_Aug2', '5_ClaritinD12_Aug3',\n",
      "       '5_ClaritinD12_Aug4', '5_ClaritinD12_Aug5'], dtype='<U18')), ('val', array(['2_Tablet_Aug4', '4_GenericD12_Aug2', '4_GenericD12_Aug4'],\n",
      "      dtype='<U18'))]), OrderedDict([('train', array(['2_Tablet_Aug1', '2_Tablet_Aug2', '2_Tablet_Aug3', '2_Tablet_Aug4',\n",
      "       '2_Tablet_Aug5', '4_GenericD12_Aug1', '4_GenericD12_Aug2',\n",
      "       '4_GenericD12_Aug3', '4_GenericD12_Aug4', '4_GenericD12_Aug5',\n",
      "       '5_ClaritinD12_Aug2', '5_ClaritinD12_Aug4'], dtype='<U18')), ('val', array(['5_ClaritinD12_Aug1', '5_ClaritinD12_Aug3', '5_ClaritinD12_Aug5'],\n",
      "      dtype='<U18'))]), OrderedDict([('train', array(['2_Tablet_Aug1', '2_Tablet_Aug2', '2_Tablet_Aug3', '2_Tablet_Aug4',\n",
      "       '4_GenericD12_Aug1', '4_GenericD12_Aug2', '4_GenericD12_Aug3',\n",
      "       '4_GenericD12_Aug4', '5_ClaritinD12_Aug1', '5_ClaritinD12_Aug2',\n",
      "       '5_ClaritinD12_Aug3', '5_ClaritinD12_Aug5'], dtype='<U18')), ('val', array(['2_Tablet_Aug5', '4_GenericD12_Aug5', '5_ClaritinD12_Aug4'],\n",
      "      dtype='<U18'))]), OrderedDict([('train', array(['2_Tablet_Aug1', '2_Tablet_Aug4', '2_Tablet_Aug5',\n",
      "       '4_GenericD12_Aug2', '4_GenericD12_Aug3', '4_GenericD12_Aug4',\n",
      "       '4_GenericD12_Aug5', '5_ClaritinD12_Aug1', '5_ClaritinD12_Aug2',\n",
      "       '5_ClaritinD12_Aug3', '5_ClaritinD12_Aug4', '5_ClaritinD12_Aug5'],\n",
      "      dtype='<U18')), ('val', array(['2_Tablet_Aug2', '2_Tablet_Aug3', '4_GenericD12_Aug1'],\n",
      "      dtype='<U18'))])]\n"
     ]
    }
   ],
   "source": [
    "import pickle\n",
    "\n",
    "file_path = r'c:\\Users\\dchen\\OneDrive - University of Connecticut\\Courses\\Year 4\\Fall 2024\\BME 4900 and 4910W (Kumavor)\\Python\\Files\\training\\nnUNet_preprocessed\\Task502_ParticleSeg3D\\splits_final.pkl'\n",
    "\n",
    "with open(file_path, 'rb') as f:\n",
    "    data = pickle.load(f)  # Load the pickled object\n",
    "\n",
    "print(data)\n"
   ]
  }
 ],
 "metadata": {
  "kernelspec": {
   "display_name": "Chen_Thesis_py310",
   "language": "python",
   "name": "python3"
  },
  "language_info": {
   "codemirror_mode": {
    "name": "ipython",
    "version": 3
   },
   "file_extension": ".py",
   "mimetype": "text/x-python",
   "name": "python",
   "nbconvert_exporter": "python",
   "pygments_lexer": "ipython3",
   "version": "3.10.13"
  }
 },
 "nbformat": 4,
 "nbformat_minor": 2
}
