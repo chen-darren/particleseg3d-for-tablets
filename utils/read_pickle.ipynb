{
 "cells": [
  {
   "cell_type": "code",
   "execution_count": 2,
   "metadata": {},
   "outputs": [
    {
     "name": "stdout",
     "output_type": "stream",
     "text": [
      "{'all_sizes': [], 'all_spacings': [], 'all_classes': [1, 2], 'modalities': {0: 'noNorm'}, 'intensityproperties': None, 'size_reductions': OrderedDict()}\n"
     ]
    }
   ],
   "source": [
    "import pickle\n",
    "\n",
    "# file_path = r'd:\\Darren\\Files\\training\\nnUNet_raw_data_base\\nnUNet_cropped_data\\Task500_ParticleSeg3D\\dataset_properties.pkl'\n",
    "file_path = r'd:\\Darren\\Files\\training\\nnUNet_preprocessed\\Task500_ParticleSeg3D\\dataset_properties.pkl'\n",
    "\n",
    "with open(file_path, 'rb') as f:\n",
    "    data = pickle.load(f)  # Load the pickled object\n",
    "\n",
    "print(data)\n"
   ]
  },
  {
   "cell_type": "code",
   "execution_count": 3,
   "metadata": {},
   "outputs": [
    {
     "name": "stdout",
     "output_type": "stream",
     "text": [
      "OrderedDict([('original_size_of_raw_data', array([ 889, 1425, 1120])), ('original_spacing', array([0.1, 0.1, 0.1])), ('list_of_data_files', ['D:\\\\Darren\\\\Files\\\\training\\\\nnUNet_raw_data_base\\\\nnUNet_raw_data\\\\Task500_ParticleSeg3D\\\\imagesTr\\\\2_Tablet_Aug1_0000.nii.gz']), ('seg_file', 'D:\\\\Darren\\\\Files\\\\training\\\\nnUNet_raw_data_base\\\\nnUNet_raw_data\\\\Task500_ParticleSeg3D\\\\labelsTr\\\\2_Tablet_Aug1.nii.gz'), ('itk_origin', (0.0, 0.0, 0.0)), ('itk_spacing', (0.10000000149011612, 0.10000000149011612, 0.10000000149011612)), ('itk_direction', (1.0, 0.0, 0.0, 0.0, 1.0, 0.0, 0.0, 0.0, 1.0)), ('crop_bbox', [[0, 889], [0, 1425], [0, 1120]]), ('classes', array([0., 1., 2.], dtype=float32)), ('size_after_cropping', (889, 1425, 1120))])\n"
     ]
    }
   ],
   "source": [
    "import pickle\n",
    "\n",
    "file_path = r'd:\\Darren\\Files\\training\\nnUNet_raw_data_base\\nnUNet_raw_data\\Task500_ParticleSeg3D\\imagesTr\\2_Tablet_Aug1.pkl'\n",
    "\n",
    "with open(file_path, 'rb') as f:\n",
    "    data = pickle.load(f)  # Load the pickled object\n",
    "\n",
    "print(data)\n"
   ]
  },
  {
   "cell_type": "code",
   "execution_count": 3,
   "metadata": {},
   "outputs": [
    {
     "name": "stdout",
     "output_type": "stream",
     "text": [
      "Data saved to c:\\Users\\dchen\\OneDrive - University of Connecticut\\Courses\\Year 4\\Fall 2024\\BME 4900 and 4910W (Kumavor)\\Python\\Files\\training\\nnUNet_preprocessed\\Task502_ParticleSeg3D\\splits_final.txt\n"
     ]
    }
   ],
   "source": [
    "import pickle\n",
    "\n",
    "file_path = r'c:\\Users\\dchen\\OneDrive - University of Connecticut\\Courses\\Year 4\\Fall 2024\\BME 4900 and 4910W (Kumavor)\\Python\\Files\\training\\nnUNet_preprocessed\\Task502_ParticleSeg3D\\splits_final.pkl'\n",
    "output_path = r'c:\\Users\\dchen\\OneDrive - University of Connecticut\\Courses\\Year 4\\Fall 2024\\BME 4900 and 4910W (Kumavor)\\Python\\Files\\training\\nnUNet_preprocessed\\Task502_ParticleSeg3D\\splits_final.txt'\n",
    "\n",
    "# Load the pickled data\n",
    "with open(file_path, 'rb') as f:\n",
    "    data = pickle.load(f)\n",
    "\n",
    "# Save data as a text file\n",
    "with open(output_path, 'w') as f:\n",
    "    f.write(str(data))\n",
    "\n",
    "print(f\"Data saved to {output_path}\")"
   ]
  },
  {
   "cell_type": "code",
   "execution_count": 1,
   "metadata": {},
   "outputs": [
    {
     "name": "stdout",
     "output_type": "stream",
     "text": [
      "[OrderedDict([('train', array(['2_Tablet_Aug2', '2_Tablet_Aug3', '2_Tablet_Aug4', '2_Tablet_Aug5',\n",
      "       '4_GenericD12_Aug1', '4_GenericD12_Aug2', '4_GenericD12_Aug4',\n",
      "       '4_GenericD12_Aug5', '5_ClaritinD12_Aug1', '5_ClaritinD12_Aug3',\n",
      "       '5_ClaritinD12_Aug4', '5_ClaritinD12_Aug5'], dtype='<U18')), ('val', array(['2_Tablet_Aug1', '4_GenericD12_Aug3', '5_ClaritinD12_Aug2'],\n",
      "      dtype='<U18'))]), OrderedDict([('train', array(['2_Tablet_Aug1', '2_Tablet_Aug2', '2_Tablet_Aug3', '2_Tablet_Aug5',\n",
      "       '4_GenericD12_Aug1', '4_GenericD12_Aug3', '4_GenericD12_Aug5',\n",
      "       '5_ClaritinD12_Aug1', '5_ClaritinD12_Aug2', '5_ClaritinD12_Aug3',\n",
      "       '5_ClaritinD12_Aug4', '5_ClaritinD12_Aug5'], dtype='<U18')), ('val', array(['2_Tablet_Aug4', '4_GenericD12_Aug2', '4_GenericD12_Aug4'],\n",
      "      dtype='<U18'))]), OrderedDict([('train', array(['2_Tablet_Aug1', '2_Tablet_Aug2', '2_Tablet_Aug3', '2_Tablet_Aug4',\n",
      "       '2_Tablet_Aug5', '4_GenericD12_Aug1', '4_GenericD12_Aug2',\n",
      "       '4_GenericD12_Aug3', '4_GenericD12_Aug4', '4_GenericD12_Aug5',\n",
      "       '5_ClaritinD12_Aug2', '5_ClaritinD12_Aug4'], dtype='<U18')), ('val', array(['5_ClaritinD12_Aug1', '5_ClaritinD12_Aug3', '5_ClaritinD12_Aug5'],\n",
      "      dtype='<U18'))]), OrderedDict([('train', array(['2_Tablet_Aug1', '2_Tablet_Aug2', '2_Tablet_Aug3', '2_Tablet_Aug4',\n",
      "       '4_GenericD12_Aug1', '4_GenericD12_Aug2', '4_GenericD12_Aug3',\n",
      "       '4_GenericD12_Aug4', '5_ClaritinD12_Aug1', '5_ClaritinD12_Aug2',\n",
      "       '5_ClaritinD12_Aug3', '5_ClaritinD12_Aug5'], dtype='<U18')), ('val', array(['2_Tablet_Aug5', '4_GenericD12_Aug5', '5_ClaritinD12_Aug4'],\n",
      "      dtype='<U18'))]), OrderedDict([('train', array(['2_Tablet_Aug1', '2_Tablet_Aug4', '2_Tablet_Aug5',\n",
      "       '4_GenericD12_Aug2', '4_GenericD12_Aug3', '4_GenericD12_Aug4',\n",
      "       '4_GenericD12_Aug5', '5_ClaritinD12_Aug1', '5_ClaritinD12_Aug2',\n",
      "       '5_ClaritinD12_Aug3', '5_ClaritinD12_Aug4', '5_ClaritinD12_Aug5'],\n",
      "      dtype='<U18')), ('val', array(['2_Tablet_Aug2', '2_Tablet_Aug3', '4_GenericD12_Aug1'],\n",
      "      dtype='<U18'))])]\n"
     ]
    }
   ],
   "source": [
    "import pickle\n",
    "\n",
    "file_path = r'c:\\Users\\dchen\\OneDrive - University of Connecticut\\Courses\\Year 4\\Fall 2024\\BME 4900 and 4910W (Kumavor)\\Python\\Files\\training\\nnUNet_preprocessed\\Task502_ParticleSeg3D\\splits_final.pkl'\n",
    "\n",
    "with open(file_path, 'rb') as f:\n",
    "    data = pickle.load(f)  # Load the pickled object\n",
    "\n",
    "print(data)\n"
   ]
  }
 ],
 "metadata": {
  "kernelspec": {
   "display_name": "Chen_Thesis_py310",
   "language": "python",
   "name": "python3"
  },
  "language_info": {
   "codemirror_mode": {
    "name": "ipython",
    "version": 3
   },
   "file_extension": ".py",
   "mimetype": "text/x-python",
   "name": "python",
   "nbconvert_exporter": "python",
   "pygments_lexer": "ipython3",
   "version": "3.10.13"
  }
 },
 "nbformat": 4,
 "nbformat_minor": 2
}
