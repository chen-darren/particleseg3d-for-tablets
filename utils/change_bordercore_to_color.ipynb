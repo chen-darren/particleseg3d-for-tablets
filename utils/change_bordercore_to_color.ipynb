{
 "cells": [
  {
   "cell_type": "code",
   "execution_count": 3,
   "metadata": {},
   "outputs": [
    {
     "data": {
      "text/plain": [
       "True"
      ]
     },
     "execution_count": 3,
     "metadata": {},
     "output_type": "execute_result"
    }
   ],
   "source": [
    "import cv2\n",
    "import numpy as np\n",
    "\n",
    "tiff_path = r'd:\\Darren\\Files\\database\\tablet_dataset\\bordercore\\tiff\\2_Tablet_Aug3\\slice_0300.tiff'\n",
    "\n",
    "# Load the grayscale image\n",
    "image = cv2.imread(tiff_path, cv2.IMREAD_GRAYSCALE)\n",
    "\n",
    "# Create an empty 3-channel color image\n",
    "color_image = np.zeros((image.shape[0], image.shape[1], 3), dtype=np.uint8)\n",
    "\n",
    "# Set black (0) pixels\n",
    "color_image[image == 0] = [0, 0, 0]\n",
    "\n",
    "# Set white (255) pixels\n",
    "color_image[image == 255] = [0, 255, 0]\n",
    "\n",
    "# Set red (127) pixels\n",
    "color_image[image == 127] = [0, 0, 255]  # Red in BGR format\n",
    "\n",
    "# Save the output image\n",
    "cv2.imwrite(\"output.png\", color_image)\n"
   ]
  }
 ],
 "metadata": {
  "kernelspec": {
   "display_name": "Senior_Design_py310_source",
   "language": "python",
   "name": "python3"
  },
  "language_info": {
   "codemirror_mode": {
    "name": "ipython",
    "version": 3
   },
   "file_extension": ".py",
   "mimetype": "text/x-python",
   "name": "python",
   "nbconvert_exporter": "python",
   "pygments_lexer": "ipython3",
   "version": "3.10.16"
  }
 },
 "nbformat": 4,
 "nbformat_minor": 2
}
