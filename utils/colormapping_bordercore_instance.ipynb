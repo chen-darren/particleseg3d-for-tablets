{
 "cells": [
  {
   "cell_type": "markdown",
   "metadata": {},
   "source": [
    "# Colormap Border-Core"
   ]
  },
  {
   "cell_type": "code",
   "execution_count": null,
   "metadata": {},
   "outputs": [],
   "source": [
    "import cv2\n",
    "import numpy as np\n",
    "import tifffile as tiff\n",
    "\n",
    "tiff_path = r'd:\\Darren\\Files\\database\\tablet_dataset\\bordercore\\tiff\\2_Tablet_Aug3\\slice_0300.tiff'\n",
    "# tiff_path = r'D:\\Darren\\Files\\training\\tiff\\Task501_ParticleSeg3D\\labelsTr\\2_Tablet_Aug3\\slice_0450.tiff'\n",
    "\n",
    "# Load the grayscale image\n",
    "image = tiff.imread(tiff_path)\n",
    "\n",
    "# Create an empty 3-channel color image\n",
    "color_image = np.zeros((image.shape[0], image.shape[1], 3), dtype=np.uint8)\n",
    "\n",
    "# Set black (0) pixels\n",
    "color_image[image == 0] = [0, 0, 0]\n",
    "\n",
    "# Set white (255) pixels\n",
    "color_image[image == 255] = [0, 255, 0]\n",
    "\n",
    "# Set red (127) pixels\n",
    "color_image[image == 127] = [0, 0, 255]  # Red in BGR format\n",
    "\n",
    "# Save the output image\n",
    "cv2.imwrite(\"bordercore_colored.png\", color_image)\n"
   ]
  },
  {
   "cell_type": "code",
   "execution_count": null,
   "metadata": {},
   "outputs": [],
   "source": [
    "import cv2\n",
    "import numpy as np\n",
    "import tifffile as tiff\n",
    "\n",
    "tiff_path = r'd:\\Senior_Design\\database\\tablet_dataset\\bordercore\\tiff\\4_GenericD12_Aug1\\slice_0452.tiff'\n",
    "\n",
    "# Load the grayscale image\n",
    "image = tiff.imread(tiff_path)\n",
    "\n",
    "# Create an empty 3-channel color image\n",
    "color_image = np.zeros((image.shape[0], image.shape[1], 3), dtype=np.uint8)\n",
    "\n",
    "# Set black (0) pixels\n",
    "color_image[image == 0] = [0, 0, 0]\n",
    "\n",
    "# Set white (255) pixels\n",
    "color_image[image == 255] = [0, 255, 0]\n",
    "\n",
    "# Set red (127) pixels\n",
    "color_image[image == 127] = [0, 0, 255]  # Red in BGR format\n",
    "\n",
    "# Save the output image\n",
    "cv2.imwrite(\"bordercore_colored.png\", color_image)\n"
   ]
  },
  {
   "cell_type": "code",
   "execution_count": null,
   "metadata": {},
   "outputs": [],
   "source": [
    "import cv2\n",
    "import numpy as np\n",
    "\n",
    "tiff_path = r'd:\\Darren\\Files\\database\\tablet_dataset\\bordercore\\tiff\\2_Tablet_Aug3\\slice_0300.tiff'\n",
    "\n",
    "# Load the grayscale image\n",
    "image = cv2.imread(tiff_path, cv2.IMREAD_GRAYSCALE)\n",
    "\n",
    "# Create an empty 3-channel color image\n",
    "color_image = np.zeros((image.shape[0], image.shape[1], 3), dtype=np.uint8)\n",
    "\n",
    "# Set black (0) pixels\n",
    "color_image[image == 0] = [0, 0, 0]\n",
    "\n",
    "# Set white (255) pixels\n",
    "color_image[image == 255] = [0, 255, 0]\n",
    "\n",
    "# Set red (127) pixels\n",
    "color_image[image == 127] = [0, 0, 255]  # Red in BGR format\n",
    "\n",
    "# Save the output image\n",
    "cv2.imwrite(\"bordercore_colored.png\", color_image)\n"
   ]
  },
  {
   "cell_type": "markdown",
   "metadata": {},
   "source": [
    "# Colormap Instance"
   ]
  },
  {
   "cell_type": "code",
   "execution_count": null,
   "metadata": {},
   "outputs": [
    {
     "name": "stdout",
     "output_type": "stream",
     "text": [
      "Number of instances: 718\n"
     ]
    }
   ],
   "source": [
    "import cv2\n",
    "import numpy as np\n",
    "import tifffile as tiff\n",
    "\n",
    "# tiff_path = r'd:\\Darren\\Files\\database\\tablet_dataset\\instance\\tiff\\2_Tablet_Aug1\\slice_0300.tiff'\n",
    "# tiff_path = r'D:\\Darren\\Files\\training\\tiff_B127_C255\\Task501_ParticleSeg3D\\labelsTr_instance\\2_Tablet_Aug1\\slice_0450.tiff'\n",
    "# tiff_path = r'D:\\Darren\\Files\\training\\tiff\\Task501_ParticleSeg3D\\labelsTr_instance\\2_Tablet_Aug1\\slice_0450.tiff'\n",
    "# tiff_path = r'D:\\Darren\\Files\\training\\tiff\\Task502_ParticleSeg3D\\labelsTr_instance\\2_Tablet_Aug1\\slice_0450.tiff'\n",
    "tiff_path = r'D:\\Darren\\Files\\training\\tiff\\Task503_ParticleSeg3D\\labelsTr_instance\\2_Tablet_Aug1\\slice_0450.tiff'\n",
    "# tiff_path = r'D:\\Darren\\Files\\training\\tiff\\Task504_ParticleSeg3D\\labelsTr_instance\\2_Tablet_Aug1\\slice_0450.tiff'\n",
    "\n",
    "# Load the grayscale instance segmentation image\n",
    "image = tiff.imread(tiff_path)\n",
    "\n",
    "# Find unique instance labels (excluding background 0)\n",
    "unique_labels = np.unique(image)\n",
    "unique_labels = unique_labels[unique_labels != 0]  # Remove background\n",
    "\n",
    "# Print number of different instances\n",
    "print(f\"Number of instances: {len(unique_labels)}\")\n",
    "\n",
    "# Generate distinct colors using HSV space and convert to RGB\n",
    "np.random.seed(42)  # For reproducibility\n",
    "hues = np.linspace(0, 179, len(unique_labels), dtype=np.uint8)  # Spread hues across full range\n",
    "np.random.shuffle(hues)  # Shuffle to ensure randomness\n",
    "color_map = {label: cv2.cvtColor(np.uint8([[[hue, 200, 255]]]), cv2.COLOR_HSV2BGR)[0, 0] for label, hue in zip(unique_labels, hues)}\n",
    "\n",
    "# Create an empty color image\n",
    "color_image = np.zeros((image.shape[0], image.shape[1], 3), dtype=np.uint8)\n",
    "\n",
    "# Apply colors to each instance\n",
    "for label, color in color_map.items():\n",
    "    color_image[image == label] = color\n",
    "\n",
    "# Save the output image\n",
    "# cv2.imwrite(\"instance_colored.png\", color_image)"
   ]
  },
  {
   "cell_type": "code",
   "execution_count": 4,
   "metadata": {},
   "outputs": [
    {
     "name": "stdout",
     "output_type": "stream",
     "text": [
      "Number of instances: 0\n"
     ]
    }
   ],
   "source": [
    "import cv2\n",
    "import numpy as np\n",
    "import tifffile as tiff\n",
    "\n",
    "# tiff_path = r'd:\\Darren\\Files\\database\\tablet_dataset\\instance\\tiff\\4_GenericD12_Aug1\\slice_0300.tiff'\n",
    "# tiff_path = r'D:\\Darren\\Files\\training\\tiff_B127_C255\\Task501_ParticleSeg3D\\labelsTr_instance\\4_GenericD12_Aug1\\slice_0450.tiff'\n",
    "# tiff_path = r'D:\\Darren\\Files\\training\\tiff\\Task501_ParticleSeg3D\\labelsTr_instance\\4_GenericD12_Aug1\\slice_0450.tiff'\n",
    "# tiff_path = r'D:\\Darren\\Files\\training\\tiff\\Task502_ParticleSeg3D\\labelsTr_instance\\4_GenericD12_Aug1\\slice_0450.tiff'\n",
    "# tiff_path = r'D:\\Darren\\Files\\training\\tiff\\Task503_ParticleSeg3D\\labelsTr_instance\\4_GenericD12_Aug1\\slice_0450.tiff'\n",
    "tiff_path = r'D:\\Darren\\Files\\training\\tiff\\Task504_ParticleSeg3D\\labelsTr_instance\\4_GenericD12_Aug1\\slice_0450.tiff'\n",
    "\n",
    "# Load the grayscale instance segmentation image\n",
    "image = tiff.imread(tiff_path)\n",
    "\n",
    "# Find unique instance labels (excluding background 0)\n",
    "unique_labels = np.unique(image)\n",
    "unique_labels = unique_labels[unique_labels != 0]  # Remove background\n",
    "\n",
    "# Print number of different instances\n",
    "print(f\"Number of instances: {len(unique_labels)}\")\n",
    "\n",
    "# Generate distinct colors using HSV space and convert to RGB\n",
    "np.random.seed(42)  # For reproducibility\n",
    "hues = np.linspace(0, 179, len(unique_labels), dtype=np.uint8)  # Spread hues across full range\n",
    "np.random.shuffle(hues)  # Shuffle to ensure randomness\n",
    "color_map = {label: cv2.cvtColor(np.uint8([[[hue, 200, 255]]]), cv2.COLOR_HSV2BGR)[0, 0] for label, hue in zip(unique_labels, hues)}\n",
    "\n",
    "# Create an empty color image\n",
    "color_image = np.zeros((image.shape[0], image.shape[1], 3), dtype=np.uint8)\n",
    "\n",
    "# Apply colors to each instance\n",
    "for label, color in color_map.items():\n",
    "    color_image[image == label] = color\n",
    "\n",
    "# Save the output image\n",
    "# cv2.imwrite(\"instance_colored.png\", color_image)"
   ]
  },
  {
   "cell_type": "code",
   "execution_count": null,
   "metadata": {},
   "outputs": [],
   "source": [
    "import cv2\n",
    "import numpy as np\n",
    "import tifffile as tiff\n",
    "\n",
    "tiff_path = r'd:\\Senior_Design\\database\\tablet_dataset\\instance\\tiff\\4_GenericD12_Aug1\\slice_0452.tiff'\n",
    "\n",
    "# Load the grayscale instance segmentation image\n",
    "image = tiff.imread(tiff_path)\n",
    "\n",
    "# Find unique instance labels (excluding background 0)\n",
    "unique_labels = np.unique(image)\n",
    "unique_labels = unique_labels[unique_labels != 0]  # Remove background\n",
    "\n",
    "# Print number of different instances\n",
    "print(f\"Number of instances: {len(unique_labels)}\")\n",
    "\n",
    "# Generate distinct colors using HSV space and convert to RGB\n",
    "np.random.seed(42)  # For reproducibility\n",
    "hues = np.linspace(0, 179, len(unique_labels), dtype=np.uint8)  # Spread hues across full range\n",
    "np.random.shuffle(hues)  # Shuffle to ensure randomness\n",
    "color_map = {label: cv2.cvtColor(np.uint8([[[hue, 200, 255]]]), cv2.COLOR_HSV2BGR)[0, 0] for label, hue in zip(unique_labels, hues)}\n",
    "\n",
    "# Create an empty color image\n",
    "color_image = np.zeros((image.shape[0], image.shape[1], 3), dtype=np.uint8)\n",
    "\n",
    "# Apply colors to each instance\n",
    "for label, color in color_map.items():\n",
    "    color_image[image == label] = color\n",
    "\n",
    "# Save the output image\n",
    "cv2.imwrite(\"instance_colored.png\", color_image)"
   ]
  }
 ],
 "metadata": {
  "kernelspec": {
   "display_name": "Senior_Design_py310_source",
   "language": "python",
   "name": "python3"
  },
  "language_info": {
   "codemirror_mode": {
    "name": "ipython",
    "version": 3
   },
   "file_extension": ".py",
   "mimetype": "text/x-python",
   "name": "python",
   "nbconvert_exporter": "python",
   "pygments_lexer": "ipython3",
   "version": "3.10.16"
  }
 },
 "nbformat": 4,
 "nbformat_minor": 2
}
