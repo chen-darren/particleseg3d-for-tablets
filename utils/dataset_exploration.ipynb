{
 "cells": [
  {
   "cell_type": "code",
   "execution_count": 4,
   "metadata": {},
   "outputs": [
    {
     "name": "stdout",
     "output_type": "stream",
     "text": [
      "Image size: (1541, 1541, 731)\n",
      "Pixel spacing: (4.01817, 4.01817, 4.01817)\n",
      "Image array shape: (731, 1541, 1541)\n",
      "AmiraTransform: 1 0 0 0 0 1 0 0 0 0 1 0 0 0 0 1\n",
      "DebugInfo: Saved on 08/17/2021 15:27:51 ; cmd: writemhd D1539_stitch-A_Stitch.mhd.transformed P:/Data/1-3000/D0001539/D1539_stitch-A_Stitch-Crop/D1539_stitch-A_Stitch-Crop.mhd\n",
      "ITK_InputFilterName: MetaImageIO\n",
      "ITK_original_direction: [UNKNOWN_PRINT_CHARACTERISTICS]\n",
      "\n",
      "ITK_original_spacing: [UNKNOWN_PRINT_CHARACTERISTICS]\n",
      "\n",
      "Modality: MET_MOD_UNKNOWN\n"
     ]
    }
   ],
   "source": [
    "import SimpleITK as sitk\n",
    "\n",
    "# Specify the path to your .mhd file\n",
    "file_path = r\"d:\\Darren\\Files\\database\\tablet_dataset\\grayscale\\mhd\\6_30pWTMCC\\D1539_stitch-A_Stitch-Crop.mhd\"\n",
    "\n",
    "# Read the image\n",
    "image = sitk.ReadImage(file_path)\n",
    "\n",
    "# Convert to a NumPy array for manipulation\n",
    "import numpy as np\n",
    "image_array = sitk.GetArrayFromImage(image)\n",
    "\n",
    "# Print some basic information\n",
    "print(\"Image size:\", image.GetSize())  # Size of the image (width, height, depth)\n",
    "print(\"Pixel spacing:\", image.GetSpacing())  # Spacing between pixels\n",
    "print(\"Image array shape:\", image_array.shape)  # Shape of the NumPy array\n",
    "\n",
    "# Access the metadata (if needed)\n",
    "metadata = image.GetMetaDataKeys()\n",
    "for key in metadata:\n",
    "    print(f\"{key}: {image.GetMetaData(key)}\")"
   ]
  },
  {
   "cell_type": "code",
   "execution_count": 3,
   "metadata": {},
   "outputs": [
    {
     "name": "stdout",
     "output_type": "stream",
     "text": [
      "Image size: (1004, 589, 1008)\n",
      "Pixel spacing: (12.122859247028826, 12.122859247028828, 12.12285924702883)\n",
      "Image array shape: (1008, 589, 1004)\n",
      "ITK_InputFilterName: MetaImageIO\n",
      "ITK_original_direction: [UNKNOWN_PRINT_CHARACTERISTICS]\n",
      "\n",
      "ITK_original_spacing: [UNKNOWN_PRINT_CHARACTERISTICS]\n",
      "\n",
      "Modality: MET_MOD_UNKNOWN\n"
     ]
    }
   ],
   "source": [
    "import SimpleITK as sitk\n",
    "\n",
    "# Specify the path to your .mhd file\n",
    "file_path = r\"d:\\Darren\\Files\\database\\tablet_dataset\\grayscale\\mhd\\5_ClaritinD12\\D3494-xrm_swap_xy.mhd\"\n",
    "\n",
    "# Read the image\n",
    "image = sitk.ReadImage(file_path)\n",
    "\n",
    "# Convert to a NumPy array for manipulation\n",
    "import numpy as np\n",
    "image_array = sitk.GetArrayFromImage(image)\n",
    "\n",
    "# Print some basic information\n",
    "print(\"Image size:\", image.GetSize())  # Size of the image (width, height, depth)\n",
    "print(\"Pixel spacing:\", image.GetSpacing())  # Spacing between pixels\n",
    "print(\"Image array shape:\", image_array.shape)  # Shape of the NumPy array\n",
    "\n",
    "# Access the metadata (if needed)\n",
    "metadata = image.GetMetaDataKeys()\n",
    "for key in metadata:\n",
    "    print(f\"{key}: {image.GetMetaData(key)}\")"
   ]
  }
 ],
 "metadata": {
  "kernelspec": {
   "display_name": "Senior_Design_py310_refine",
   "language": "python",
   "name": "python3"
  },
  "language_info": {
   "codemirror_mode": {
    "name": "ipython",
    "version": 3
   },
   "file_extension": ".py",
   "mimetype": "text/x-python",
   "name": "python",
   "nbconvert_exporter": "python",
   "pygments_lexer": "ipython3",
   "version": "3.10.16"
  }
 },
 "nbformat": 4,
 "nbformat_minor": 2
}
