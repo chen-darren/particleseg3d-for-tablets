{
 "cells": [
  {
   "cell_type": "code",
   "execution_count": 1,
   "metadata": {},
   "outputs": [],
   "source": [
    "from batchgenerators.utilities.file_and_folder_operations import *\n",
    "\n",
    "\n",
    "file_path = r'c:\\Users\\dchen\\OneDrive - University of Connecticut\\Courses\\Year 4\\Fall 2024\\BME 4900 and 4910W (Kumavor)\\Python\\Files\\training\\nnUNet_preprocessed\\splits_final_manual.pkl'\n",
    "\n",
    "splits = [\n",
    "    {'train': ['2_Tablet_Aug2', '4_GenericD12_Aug2', '5_ClaritinD12_Aug2', \n",
    "               '2_Tablet_Aug3', '4_GenericD12_Aug3', '5_ClaritinD12_Aug3', \n",
    "               '2_Tablet_Aug4', '4_GenericD12_Aug4', '5_ClaritinD12_Aug4', \n",
    "               '2_Tablet_Aug5', '4_GenericD12_Aug5', '5_ClaritinD12_Aug5'], \n",
    "     'val': ['2_Tablet_Aug1', '4_GenericD12_Aug1', '5_ClaritinD12_Aug1']},\n",
    "    {'train': ['2_Tablet_Aug1', '4_GenericD12_Aug1', '5_ClaritinD12_Aug1', \n",
    "               '2_Tablet_Aug3', '4_GenericD12_Aug3', '5_ClaritinD12_Aug3', \n",
    "               '2_Tablet_Aug4', '4_GenericD12_Aug4', '5_ClaritinD12_Aug4', \n",
    "               '2_Tablet_Aug5', '4_GenericD12_Aug5', '5_ClaritinD12_Aug5'], \n",
    "     'val': ['2_Tablet_Aug2', '4_GenericD12_Aug2', '5_ClaritinD12_Aug2']},\n",
    "    {'train': ['2_Tablet_Aug1', '4_GenericD12_Aug1', '5_ClaritinD12_Aug1', \n",
    "               '2_Tablet_Aug2', '4_GenericD12_Aug2', '5_ClaritinD12_Aug2', \n",
    "               '2_Tablet_Aug4', '4_GenericD12_Aug4', '5_ClaritinD12_Aug4', \n",
    "               '2_Tablet_Aug5', '4_GenericD12_Aug5', '5_ClaritinD12_Aug5'], \n",
    "     'val': ['2_Tablet_Aug3', '4_GenericD12_Aug3', '5_ClaritinD12_Aug3']},\n",
    "    {'train': ['2_Tablet_Aug1', '4_GenericD12_Aug1', '5_ClaritinD12_Aug1', \n",
    "               '2_Tablet_Aug2', '4_GenericD12_Aug2', '5_ClaritinD12_Aug2', \n",
    "               '2_Tablet_Aug3', '4_GenericD12_Aug3', '5_ClaritinD12_Aug3', \n",
    "               '2_Tablet_Aug5', '4_GenericD12_Aug5', '5_ClaritinD12_Aug5'], \n",
    "     'val': ['2_Tablet_Aug4', '4_GenericD12_Aug4', '5_ClaritinD12_Aug4']},\n",
    "    {'train': ['2_Tablet_Aug1', '4_GenericD12_Aug1', '5_ClaritinD12_Aug1', \n",
    "               '2_Tablet_Aug2', '4_GenericD12_Aug2', '5_ClaritinD12_Aug2', \n",
    "               '2_Tablet_Aug3', '4_GenericD12_Aug3', '5_ClaritinD12_Aug3', \n",
    "               '2_Tablet_Aug4', '4_GenericD12_Aug4', '5_ClaritinD12_Aug4'], \n",
    "     'val': ['2_Tablet_Aug5', '4_GenericD12_Aug5', '5_ClaritinD12_Aug5']}\n",
    "]\n",
    "\n",
    "save_pickle(splits, file_path)"
   ]
  },
  {
   "cell_type": "code",
   "execution_count": 2,
   "metadata": {},
   "outputs": [],
   "source": [
    "from batchgenerators.utilities.file_and_folder_operations import *\n",
    "from collections import OrderedDict\n",
    "import numpy as np\n",
    "\n",
    "file_path = r'c:\\Users\\dchen\\OneDrive - University of Connecticut\\Courses\\Year 4\\Fall 2024\\BME 4900 and 4910W (Kumavor)\\Python\\Files\\training\\nnUNet_preprocessed\\splits_final_manual.pkl'\n",
    "\n",
    "splits = [\n",
    "    OrderedDict([\n",
    "        ('train', np.array(['2_Tablet_Aug2', '4_GenericD12_Aug2', '5_ClaritinD12_Aug2', \n",
    "                            '2_Tablet_Aug3', '4_GenericD12_Aug3', '5_ClaritinD12_Aug3', \n",
    "                            '2_Tablet_Aug4', '4_GenericD12_Aug4', '5_ClaritinD12_Aug4', \n",
    "                            '2_Tablet_Aug5', '4_GenericD12_Aug5', '5_ClaritinD12_Aug5'], dtype='<U18')),\n",
    "        ('val', np.array(['2_Tablet_Aug1', '4_GenericD12_Aug1', '5_ClaritinD12_Aug1'], dtype='<U18'))\n",
    "    ]),\n",
    "    OrderedDict([\n",
    "        ('train', np.array(['2_Tablet_Aug1', '4_GenericD12_Aug1', '5_ClaritinD12_Aug1', \n",
    "                            '2_Tablet_Aug3', '4_GenericD12_Aug3', '5_ClaritinD12_Aug3', \n",
    "                            '2_Tablet_Aug4', '4_GenericD12_Aug4', '5_ClaritinD12_Aug4', \n",
    "                            '2_Tablet_Aug5', '4_GenericD12_Aug5', '5_ClaritinD12_Aug5'], dtype='<U18')),\n",
    "        ('val', np.array(['2_Tablet_Aug2', '4_GenericD12_Aug2', '5_ClaritinD12_Aug2'], dtype='<U18'))\n",
    "    ]),\n",
    "    OrderedDict([\n",
    "        ('train', np.array(['2_Tablet_Aug1', '4_GenericD12_Aug1', '5_ClaritinD12_Aug1', \n",
    "                            '2_Tablet_Aug2', '4_GenericD12_Aug2', '5_ClaritinD12_Aug2', \n",
    "                            '2_Tablet_Aug4', '4_GenericD12_Aug4', '5_ClaritinD12_Aug4', \n",
    "                            '2_Tablet_Aug5', '4_GenericD12_Aug5', '5_ClaritinD12_Aug5'], dtype='<U18')),\n",
    "        ('val', np.array(['2_Tablet_Aug3', '4_GenericD12_Aug3', '5_ClaritinD12_Aug3'], dtype='<U18'))\n",
    "    ]),\n",
    "    OrderedDict([\n",
    "        ('train', np.array(['2_Tablet_Aug1', '4_GenericD12_Aug1', '5_ClaritinD12_Aug1', \n",
    "                            '2_Tablet_Aug2', '4_GenericD12_Aug2', '5_ClaritinD12_Aug2', \n",
    "                            '2_Tablet_Aug3', '4_GenericD12_Aug3', '5_ClaritinD12_Aug3', \n",
    "                            '2_Tablet_Aug5', '4_GenericD12_Aug5', '5_ClaritinD12_Aug5'], dtype='<U18')),\n",
    "        ('val', np.array(['2_Tablet_Aug4', '4_GenericD12_Aug4', '5_ClaritinD12_Aug4'], dtype='<U18'))\n",
    "    ]),\n",
    "    OrderedDict([\n",
    "        ('train', np.array(['2_Tablet_Aug1', '4_GenericD12_Aug1', '5_ClaritinD12_Aug1', \n",
    "                            '2_Tablet_Aug2', '4_GenericD12_Aug2', '5_ClaritinD12_Aug2', \n",
    "                            '2_Tablet_Aug3', '4_GenericD12_Aug3', '5_ClaritinD12_Aug3', \n",
    "                            '2_Tablet_Aug4', '4_GenericD12_Aug4', '5_ClaritinD12_Aug4'], dtype='<U18')),\n",
    "        ('val', np.array(['2_Tablet_Aug5', '4_GenericD12_Aug5', '5_ClaritinD12_Aug5'], dtype='<U18'))\n",
    "    ])\n",
    "]\n",
    "\n",
    "save_pickle(splits, file_path)"
   ]
  },
  {
   "cell_type": "code",
   "execution_count": 3,
   "metadata": {},
   "outputs": [
    {
     "name": "stdout",
     "output_type": "stream",
     "text": [
      "[OrderedDict([('train', array(['2_Tablet_Aug2', '4_GenericD12_Aug2', '5_ClaritinD12_Aug2',\n",
      "       '2_Tablet_Aug3', '4_GenericD12_Aug3', '5_ClaritinD12_Aug3',\n",
      "       '2_Tablet_Aug4', '4_GenericD12_Aug4', '5_ClaritinD12_Aug4',\n",
      "       '2_Tablet_Aug5', '4_GenericD12_Aug5', '5_ClaritinD12_Aug5'],\n",
      "      dtype='<U18')), ('val', array(['2_Tablet_Aug1', '4_GenericD12_Aug1', '5_ClaritinD12_Aug1'],\n",
      "      dtype='<U18'))]), OrderedDict([('train', array(['2_Tablet_Aug1', '4_GenericD12_Aug1', '5_ClaritinD12_Aug1',\n",
      "       '2_Tablet_Aug3', '4_GenericD12_Aug3', '5_ClaritinD12_Aug3',\n",
      "       '2_Tablet_Aug4', '4_GenericD12_Aug4', '5_ClaritinD12_Aug4',\n",
      "       '2_Tablet_Aug5', '4_GenericD12_Aug5', '5_ClaritinD12_Aug5'],\n",
      "      dtype='<U18')), ('val', array(['2_Tablet_Aug2', '4_GenericD12_Aug2', '5_ClaritinD12_Aug2'],\n",
      "      dtype='<U18'))]), OrderedDict([('train', array(['2_Tablet_Aug1', '4_GenericD12_Aug1', '5_ClaritinD12_Aug1',\n",
      "       '2_Tablet_Aug2', '4_GenericD12_Aug2', '5_ClaritinD12_Aug2',\n",
      "       '2_Tablet_Aug4', '4_GenericD12_Aug4', '5_ClaritinD12_Aug4',\n",
      "       '2_Tablet_Aug5', '4_GenericD12_Aug5', '5_ClaritinD12_Aug5'],\n",
      "      dtype='<U18')), ('val', array(['2_Tablet_Aug3', '4_GenericD12_Aug3', '5_ClaritinD12_Aug3'],\n",
      "      dtype='<U18'))]), OrderedDict([('train', array(['2_Tablet_Aug1', '4_GenericD12_Aug1', '5_ClaritinD12_Aug1',\n",
      "       '2_Tablet_Aug2', '4_GenericD12_Aug2', '5_ClaritinD12_Aug2',\n",
      "       '2_Tablet_Aug3', '4_GenericD12_Aug3', '5_ClaritinD12_Aug3',\n",
      "       '2_Tablet_Aug5', '4_GenericD12_Aug5', '5_ClaritinD12_Aug5'],\n",
      "      dtype='<U18')), ('val', array(['2_Tablet_Aug4', '4_GenericD12_Aug4', '5_ClaritinD12_Aug4'],\n",
      "      dtype='<U18'))]), OrderedDict([('train', array(['2_Tablet_Aug1', '4_GenericD12_Aug1', '5_ClaritinD12_Aug1',\n",
      "       '2_Tablet_Aug2', '4_GenericD12_Aug2', '5_ClaritinD12_Aug2',\n",
      "       '2_Tablet_Aug3', '4_GenericD12_Aug3', '5_ClaritinD12_Aug3',\n",
      "       '2_Tablet_Aug4', '4_GenericD12_Aug4', '5_ClaritinD12_Aug4'],\n",
      "      dtype='<U18')), ('val', array(['2_Tablet_Aug5', '4_GenericD12_Aug5', '5_ClaritinD12_Aug5'],\n",
      "      dtype='<U18'))])]\n"
     ]
    }
   ],
   "source": [
    "import pickle\n",
    "\n",
    "file_path = r'c:\\Users\\dchen\\OneDrive - University of Connecticut\\Courses\\Year 4\\Fall 2024\\BME 4900 and 4910W (Kumavor)\\Python\\Files\\training\\nnUNet_preprocessed\\splits_final_manual.pkl'\n",
    "\n",
    "with open(file_path, 'rb') as f:\n",
    "    data = pickle.load(f)  # Load the pickled object\n",
    "\n",
    "print(data)"
   ]
  },
  {
   "cell_type": "code",
   "execution_count": 1,
   "metadata": {},
   "outputs": [
    {
     "name": "stdout",
     "output_type": "stream",
     "text": [
      "Data saved to c:\\Users\\dchen\\OneDrive - University of Connecticut\\Courses\\Year 4\\Fall 2024\\BME 4900 and 4910W (Kumavor)\\Python\\Files\\training\\nnUNet_preprocessed\\splits_final_manual.txt\n"
     ]
    }
   ],
   "source": [
    "import pickle\n",
    "\n",
    "file_path = r'c:\\Users\\dchen\\OneDrive - University of Connecticut\\Courses\\Year 4\\Fall 2024\\BME 4900 and 4910W (Kumavor)\\Python\\Files\\training\\nnUNet_preprocessed\\splits_final_manual.pkl'\n",
    "output_path = r'c:\\Users\\dchen\\OneDrive - University of Connecticut\\Courses\\Year 4\\Fall 2024\\BME 4900 and 4910W (Kumavor)\\Python\\Files\\training\\nnUNet_preprocessed\\splits_final_manual.txt'\n",
    "\n",
    "# Load the pickled data\n",
    "with open(file_path, 'rb') as f:\n",
    "    data = pickle.load(f)\n",
    "\n",
    "# Save data as a text file\n",
    "with open(output_path, 'w') as f:\n",
    "    f.write(str(data))\n",
    "\n",
    "print(f\"Data saved to {output_path}\")"
   ]
  }
 ],
 "metadata": {
  "kernelspec": {
   "display_name": "Senior_Design_py310_source",
   "language": "python",
   "name": "python3"
  },
  "language_info": {
   "codemirror_mode": {
    "name": "ipython",
    "version": 3
   },
   "file_extension": ".py",
   "mimetype": "text/x-python",
   "name": "python",
   "nbconvert_exporter": "python",
   "pygments_lexer": "ipython3",
   "version": "3.10.16"
  }
 },
 "nbformat": 4,
 "nbformat_minor": 2
}
