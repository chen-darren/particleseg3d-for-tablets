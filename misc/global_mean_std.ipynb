{
 "cells": [
  {
   "cell_type": "markdown",
   "metadata": {},
   "source": [
    "# Setup Paths"
   ]
  },
  {
   "cell_type": "code",
   "execution_count": null,
   "metadata": {},
   "outputs": [],
   "source": [
    "import os\n",
    "\n",
    "def setup_paths(dir_location, is_original_data):\n",
    "    if dir_location.lower() == 'internal':\n",
    "        base_path = r'C:\\Senior_Design'\n",
    "    elif dir_location.lower() == 'external':\n",
    "        base_path = r'D:\\Senior_Design'\n",
    "    elif dir_location.lower() == 'cloud':\n",
    "        base_path = r'C:\\Users\\dchen\\OneDrive - University of Connecticut\\Courses\\Year 4\\Fall 2024\\BME 4900 and 4910W (Kumavor)\\Python\\Files'\n",
    "    elif dir_location.lower() == 'refine':\n",
    "        base_path = r'D:\\Darren\\Files'\n",
    "    else:\n",
    "        raise ValueError('Invalid directory location type')\n",
    "    \n",
    "    base_path = os.path.join(base_path, 'database')\n",
    "    if is_original_data:\n",
    "        tiff_path = os.path.join(base_path, 'orignal_dataset', 'grayscale', 'tiff')\n",
    "    else:\n",
    "        tiff_path = os.path.join(base_path, 'tablet_dataset', 'grayscale', 'tiff')\n",
    "\n",
    "    print('Paths set')\n",
    "    return tiff_path"
   ]
  },
  {
   "cell_type": "markdown",
   "metadata": {},
   "source": [
    "# Functions"
   ]
  },
  {
   "cell_type": "code",
   "execution_count": null,
   "metadata": {},
   "outputs": [],
   "source": [
    "import numpy as np\n",
    "import os\n",
    "import tifffile as tiff\n",
    "from tqdm import tqdm\n",
    "\n",
    "def global_mean_std(img_names=None, dir_location='refine', is_original_data=False):\n",
    "    tiff_path = setup_paths(dir_location, is_original_data)\n",
    "    \n",
    "    flattened_array_list = []\n",
    "    \n",
    "    for img in img_names:\n",
    "        tiff_img_path = os.path.join(tiff_path, img)\n",
    "        tiff_files = sorted([os.path.join(tiff_img_path, f) for f in os.listdir(tiff_img_path) if f.lower().endswith('.tiff')])\n",
    "        \n",
    "        for tiff_img_path in tqdm(tiff_files, desc=f\"Loading {img}\", total=len(tiff_files)):\n",
    "            tiff_img = tiff.imread(tiff_img_path)\n",
    "            flattened_array_list.append(tiff_img.flatten())\n",
    "        \n",
    "    combined_array = np.concatenate(flattened_array_list, 1)\n",
    "    \n",
    "    global_mean = np.mean(combined_array)\n",
    "    global_std = np.std(combined_array)\n",
    "    \n",
    "    return global_mean, global_std"
   ]
  },
  {
   "cell_type": "markdown",
   "metadata": {},
   "source": [
    "# Run"
   ]
  },
  {
   "cell_type": "code",
   "execution_count": null,
   "metadata": {},
   "outputs": [
    {
     "name": "stdout",
     "output_type": "stream",
     "text": [
      "Paths set\n"
     ]
    },
    {
     "name": "stderr",
     "output_type": "stream",
     "text": [
      "Processing 2_Tablet: 100%|██████████| 950/950 [04:58<00:00,  3.18it/s]\n",
      "Processing 4_GenericD12:  65%|██████▍   | 621/956 [03:13<01:41,  3.31it/s]"
     ]
    }
   ],
   "source": [
    "img_names = ['2_Tablet', '4_GenericD12', '5_ClaritinD12']\n",
    "dir_location = 'cloud'\n",
    "is_original_data=False\n",
    "\n",
    "global_mean, global_std = global_mean_std(img_names, dir_location, is_original_data)\n",
    "\n",
    "print(f'Global Mean: {global_mean}')\n",
    "print(f'Global Standard Deviation: {global_std}')"
   ]
  },
  {
   "cell_type": "code",
   "execution_count": null,
   "metadata": {},
   "outputs": [],
   "source": []
  }
 ],
 "metadata": {
  "kernelspec": {
   "display_name": "Senior_Design_py310_nnunet171",
   "language": "python",
   "name": "python3"
  },
  "language_info": {
   "codemirror_mode": {
    "name": "ipython",
    "version": 3
   },
   "file_extension": ".py",
   "mimetype": "text/x-python",
   "name": "python",
   "nbconvert_exporter": "python",
   "pygments_lexer": "ipython3",
   "version": "3.10.16"
  }
 },
 "nbformat": 4,
 "nbformat_minor": 2
}
