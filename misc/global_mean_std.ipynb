{
 "cells": [
  {
   "cell_type": "markdown",
   "metadata": {},
   "source": [
    "# Setup Paths"
   ]
  },
  {
   "cell_type": "code",
   "execution_count": 2,
   "metadata": {},
   "outputs": [],
   "source": [
    "import os\n",
    "\n",
    "def setup_paths(dir_location, is_original_data):\n",
    "    if dir_location.lower() == 'internal':\n",
    "        base_path = r'C:\\Senior_Design'\n",
    "    elif dir_location.lower() == 'external':\n",
    "        base_path = r'D:\\Senior_Design'\n",
    "    elif dir_location.lower() == 'cloud':\n",
    "        base_path = r'C:\\Users\\dchen\\OneDrive - University of Connecticut\\Courses\\Year 4\\Fall 2024\\BME 4900 and 4910W (Kumavor)\\Python\\Files'\n",
    "    elif dir_location.lower() == 'refine':\n",
    "        base_path = r'D:\\Darren\\Files'\n",
    "    else:\n",
    "        raise ValueError('Invalid directory location type')\n",
    "    \n",
    "    base_path = os.path.join(base_path, 'database')\n",
    "    if is_original_data:\n",
    "        tiff_path = os.path.join(base_path, 'orignal_dataset', 'grayscale', 'tiff')\n",
    "    else:\n",
    "        tiff_path = os.path.join(base_path, 'tablet_dataset', 'grayscale', 'tiff')\n",
    "\n",
    "    print('Paths set')\n",
    "    return tiff_path"
   ]
  },
  {
   "cell_type": "markdown",
   "metadata": {},
   "source": [
    "# Functions"
   ]
  },
  {
   "cell_type": "code",
   "execution_count": 2,
   "metadata": {},
   "outputs": [],
   "source": [
    "import numpy as np\n",
    "import os\n",
    "import tifffile as tiff\n",
    "from tqdm import tqdm\n",
    "\n",
    "def global_mean_std(img_names=None, dir_location='refine', is_original_data=False):\n",
    "    tiff_path = setup_paths(dir_location, is_original_data)\n",
    "    \n",
    "    flattened_array_list = []\n",
    "    \n",
    "    for img in img_names:\n",
    "        tiff_img_path = os.path.join(tiff_path, img)\n",
    "        tiff_files = sorted([os.path.join(tiff_img_path, f) for f in os.listdir(tiff_img_path) if f.lower().endswith('.tiff')])\n",
    "        \n",
    "        for tiff_img_path in tqdm(tiff_files, desc=f\"Loading {img}\", total=len(tiff_files)):\n",
    "            tiff_img = tiff.imread(tiff_img_path)\n",
    "            flattened_array_list.append(tiff_img.flatten())\n",
    "        \n",
    "    combined_array = np.concatenate(flattened_array_list, 0)\n",
    "    \n",
    "    global_mean = np.mean(combined_array)\n",
    "    global_std = np.std(combined_array)\n",
    "    \n",
    "    return global_mean, global_std"
   ]
  },
  {
   "cell_type": "markdown",
   "metadata": {},
   "source": [
    "# Run"
   ]
  },
  {
   "cell_type": "code",
   "execution_count": 4,
   "metadata": {},
   "outputs": [
    {
     "name": "stdout",
     "output_type": "stream",
     "text": [
      "Paths set\n"
     ]
    },
    {
     "name": "stderr",
     "output_type": "stream",
     "text": [
      "Loading 2_Tablet: 100%|██████████| 950/950 [00:02<00:00, 333.28it/s]\n"
     ]
    },
    {
     "name": "stdout",
     "output_type": "stream",
     "text": [
      "Global Mean: 12672.926825743256\n",
      "Global Standard Deviation: 6804.36077846359\n"
     ]
    }
   ],
   "source": [
    "img_names = ['2_Tablet']\n",
    "dir_location = 'cloud'\n",
    "is_original_data=False\n",
    "\n",
    "global_mean, global_std = global_mean_std(img_names, dir_location, is_original_data)\n",
    "\n",
    "print(f'Global Mean: {global_mean}')\n",
    "print(f'Global Standard Deviation: {global_std}')"
   ]
  },
  {
   "cell_type": "code",
   "execution_count": 5,
   "metadata": {},
   "outputs": [
    {
     "name": "stdout",
     "output_type": "stream",
     "text": [
      "Paths set\n"
     ]
    },
    {
     "name": "stderr",
     "output_type": "stream",
     "text": [
      "Loading 4_GenericD12: 100%|██████████| 956/956 [00:03<00:00, 309.91it/s]\n"
     ]
    },
    {
     "name": "stdout",
     "output_type": "stream",
     "text": [
      "Global Mean: 11041.960587417172\n",
      "Global Standard Deviation: 8249.51640249003\n"
     ]
    }
   ],
   "source": [
    "img_names = ['4_GenericD12']\n",
    "dir_location = 'cloud'\n",
    "is_original_data=False\n",
    "\n",
    "global_mean, global_std = global_mean_std(img_names, dir_location, is_original_data)\n",
    "\n",
    "print(f'Global Mean: {global_mean}')\n",
    "print(f'Global Standard Deviation: {global_std}')"
   ]
  },
  {
   "cell_type": "code",
   "execution_count": 6,
   "metadata": {},
   "outputs": [
    {
     "name": "stdout",
     "output_type": "stream",
     "text": [
      "Paths set\n"
     ]
    },
    {
     "name": "stderr",
     "output_type": "stream",
     "text": [
      "Loading 5_ClaritinD12: 100%|██████████| 1008/1008 [00:03<00:00, 299.81it/s]\n"
     ]
    },
    {
     "name": "stdout",
     "output_type": "stream",
     "text": [
      "Global Mean: 7688.606097205822\n",
      "Global Standard Deviation: 7194.162075529207\n"
     ]
    }
   ],
   "source": [
    "img_names = ['5_ClaritinD12']\n",
    "dir_location = 'cloud'\n",
    "is_original_data=False\n",
    "\n",
    "global_mean, global_std = global_mean_std(img_names, dir_location, is_original_data)\n",
    "\n",
    "print(f'Global Mean: {global_mean}')\n",
    "print(f'Global Standard Deviation: {global_std}')"
   ]
  },
  {
   "cell_type": "code",
   "execution_count": 7,
   "metadata": {},
   "outputs": [
    {
     "name": "stdout",
     "output_type": "stream",
     "text": [
      "Paths set\n"
     ]
    },
    {
     "name": "stderr",
     "output_type": "stream",
     "text": [
      "Loading 2_Tablet: 100%|██████████| 950/950 [00:01<00:00, 599.20it/s]\n",
      "Loading 4_GenericD12: 100%|██████████| 956/956 [00:01<00:00, 482.89it/s]\n"
     ]
    },
    {
     "name": "stdout",
     "output_type": "stream",
     "text": [
      "Global Mean: 11772.300471540886\n",
      "Global Standard Deviation: 7679.218609270373\n"
     ]
    }
   ],
   "source": [
    "img_names = ['2_Tablet', '4_GenericD12']\n",
    "dir_location = 'cloud'\n",
    "is_original_data=False\n",
    "\n",
    "global_mean, global_std = global_mean_std(img_names, dir_location, is_original_data)\n",
    "\n",
    "print(f'Global Mean: {global_mean}')\n",
    "print(f'Global Standard Deviation: {global_std}')"
   ]
  },
  {
   "cell_type": "code",
   "execution_count": 8,
   "metadata": {},
   "outputs": [
    {
     "name": "stdout",
     "output_type": "stream",
     "text": [
      "Paths set\n"
     ]
    },
    {
     "name": "stderr",
     "output_type": "stream",
     "text": [
      "Loading 2_Tablet: 100%|██████████| 950/950 [00:03<00:00, 270.40it/s]\n",
      "Loading 5_ClaritinD12: 100%|██████████| 1008/1008 [00:04<00:00, 222.88it/s]\n"
     ]
    },
    {
     "name": "stdout",
     "output_type": "stream",
     "text": [
      "Global Mean: 9751.242425435075\n",
      "Global Standard Deviation: 7451.459289409856\n"
     ]
    }
   ],
   "source": [
    "img_names = ['2_Tablet', '5_ClaritinD12']\n",
    "dir_location = 'cloud'\n",
    "is_original_data=False\n",
    "\n",
    "global_mean, global_std = global_mean_std(img_names, dir_location, is_original_data)\n",
    "\n",
    "print(f'Global Mean: {global_mean}')\n",
    "print(f'Global Standard Deviation: {global_std}')"
   ]
  },
  {
   "cell_type": "code",
   "execution_count": 9,
   "metadata": {},
   "outputs": [
    {
     "name": "stdout",
     "output_type": "stream",
     "text": [
      "Paths set\n"
     ]
    },
    {
     "name": "stderr",
     "output_type": "stream",
     "text": [
      "Loading 4_GenericD12: 100%|██████████| 956/956 [00:04<00:00, 209.66it/s]\n",
      "Loading 5_ClaritinD12: 100%|██████████| 1008/1008 [00:04<00:00, 220.75it/s]\n"
     ]
    },
    {
     "name": "stdout",
     "output_type": "stream",
     "text": [
      "Global Mean: 9249.279502470907\n",
      "Global Standard Deviation: 7882.842901462188\n"
     ]
    }
   ],
   "source": [
    "img_names = ['4_GenericD12', '5_ClaritinD12']\n",
    "dir_location = 'cloud'\n",
    "is_original_data=False\n",
    "\n",
    "global_mean, global_std = global_mean_std(img_names, dir_location, is_original_data)\n",
    "\n",
    "print(f'Global Mean: {global_mean}')\n",
    "print(f'Global Standard Deviation: {global_std}')"
   ]
  },
  {
   "cell_type": "code",
   "execution_count": 3,
   "metadata": {},
   "outputs": [
    {
     "name": "stdout",
     "output_type": "stream",
     "text": [
      "Paths set\n"
     ]
    },
    {
     "name": "stderr",
     "output_type": "stream",
     "text": [
      "Loading 2_Tablet: 100%|██████████| 950/950 [03:46<00:00,  4.20it/s]\n",
      "Loading 4_GenericD12: 100%|██████████| 956/956 [04:00<00:00,  3.98it/s]\n",
      "Loading 5_ClaritinD12: 100%|██████████| 1008/1008 [04:34<00:00,  3.67it/s]\n"
     ]
    },
    {
     "name": "stdout",
     "output_type": "stream",
     "text": [
      "Global Mean: 10187.357283236743\n",
      "Global Standard Deviation: 7754.401858073352\n"
     ]
    }
   ],
   "source": [
    "img_names = ['2_Tablet', '4_GenericD12', '5_ClaritinD12']\n",
    "dir_location = 'cloud'\n",
    "is_original_data=False\n",
    "\n",
    "global_mean, global_std = global_mean_std(img_names, dir_location, is_original_data)\n",
    "\n",
    "print(f'Global Mean: {global_mean}')\n",
    "print(f'Global Standard Deviation: {global_std}')"
   ]
  }
 ],
 "metadata": {
  "kernelspec": {
   "display_name": "Senior_Design_py310_refine",
   "language": "python",
   "name": "python3"
  },
  "language_info": {
   "codemirror_mode": {
    "name": "ipython",
    "version": 3
   },
   "file_extension": ".py",
   "mimetype": "text/x-python",
   "name": "python",
   "nbconvert_exporter": "python",
   "pygments_lexer": "ipython3",
   "version": "3.10.16"
  }
 },
 "nbformat": 4,
 "nbformat_minor": 2
}
