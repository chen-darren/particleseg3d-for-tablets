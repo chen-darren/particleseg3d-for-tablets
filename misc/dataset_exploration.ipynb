{
 "cells": [
  {
   "cell_type": "code",
   "execution_count": 10,
   "metadata": {},
   "outputs": [
    {
     "name": "stdout",
     "output_type": "stream",
     "text": [
      "Image size: (1373, 1041, 1585)\n",
      "Pixel spacing: (1.25, 1.25, 1.25)\n",
      "Image array shape: (1585, 1041, 1373)\n",
      "ITK_InputFilterName: MetaImageIO\n",
      "ITK_original_direction: [UNKNOWN_PRINT_CHARACTERISTICS]\n",
      "\n",
      "ITK_original_spacing: [UNKNOWN_PRINT_CHARACTERISTICS]\n",
      "\n",
      "Modality: MET_MOD_UNKNOWN\n"
     ]
    }
   ],
   "source": [
    "import SimpleITK as sitk\n",
    "\n",
    "# Specify the path to your .mhd file\n",
    "file_path = r\"C:\\Users\\dchen\\OneDrive - University of Connecticut\\Courses\\Year 4\\Fall 2024\\BME 4900 (Kumavor)\\UCONN DATA\\1-Microsphere\\Grayscale\\D1370-D3386_1272_4K_Rec_05192022_cropped.mhd\"\n",
    "\n",
    "# Read the image\n",
    "image = sitk.ReadImage(file_path)\n",
    "\n",
    "# Convert to a NumPy array for manipulation\n",
    "import numpy as np\n",
    "image_array = sitk.GetArrayFromImage(image)\n",
    "\n",
    "# Print some basic information\n",
    "print(\"Image size:\", image.GetSize())  # Size of the image (width, height, depth)\n",
    "print(\"Pixel spacing:\", image.GetSpacing())  # Spacing between pixels\n",
    "print(\"Image array shape:\", image_array.shape)  # Shape of the NumPy array\n",
    "\n",
    "# Access the metadata (if needed)\n",
    "metadata = image.GetMetaDataKeys()\n",
    "for key in metadata:\n",
    "    print(f\"{key}: {image.GetMetaData(key)}\")"
   ]
  },
  {
   "cell_type": "code",
   "execution_count": 1,
   "metadata": {},
   "outputs": [
    {
     "name": "stdout",
     "output_type": "stream",
     "text": [
      "Image size: (747, 593, 950)\n",
      "Pixel spacing: (12.998782098293303, 12.998782098293306, 12.998782098293303)\n",
      "Image array shape: (950, 593, 747)\n",
      "# TransformMatrix: -1 0 0 0 -1 0 0 0 1\n",
      "ITK_InputFilterName: MetaImageIO\n",
      "ITK_original_direction: [UNKNOWN_PRINT_CHARACTERISTICS]\n",
      "\n",
      "ITK_original_spacing: [UNKNOWN_PRINT_CHARACTERISTICS]\n",
      "\n",
      "Modality: MET_MOD_UNKNOWN\n"
     ]
    }
   ],
   "source": [
    "import SimpleITK as sitk\n",
    "\n",
    "# Specify the path to your .mhd file\n",
    "file_path = r\"C:\\Users\\dchen\\OneDrive - University of Connecticut\\Courses\\Year 4\\Fall 2024\\BME 4900 and 4910W (Kumavor)\\Dataset\\mhd\\2_Tablet\\Grayscale\\052522_D3436_80kV_LE1_13um_recon_um.mhd\"\n",
    "\n",
    "# Read the image\n",
    "image = sitk.ReadImage(file_path)\n",
    "\n",
    "# Convert to a NumPy array for manipulation\n",
    "import numpy as np\n",
    "image_array = sitk.GetArrayFromImage(image)\n",
    "\n",
    "# Print some basic information\n",
    "print(\"Image size:\", image.GetSize())  # Size of the image (width, height, depth)\n",
    "print(\"Pixel spacing:\", image.GetSpacing())  # Spacing between pixels\n",
    "print(\"Image array shape:\", image_array.shape)  # Shape of the NumPy array\n",
    "\n",
    "# Access the metadata (if needed)\n",
    "metadata = image.GetMetaDataKeys()\n",
    "for key in metadata:\n",
    "    print(f\"{key}: {image.GetMetaData(key)}\")"
   ]
  },
  {
   "cell_type": "code",
   "execution_count": 2,
   "metadata": {},
   "outputs": [
    {
     "name": "stdout",
     "output_type": "stream",
     "text": [
      "Image size: (824, 824, 625)\n",
      "Pixel spacing: (1.0588, 1.0588, 1.0588)\n",
      "Image array shape: (625, 824, 824)\n",
      "ITK_InputFilterName: MetaImageIO\n",
      "ITK_original_direction: [UNKNOWN_PRINT_CHARACTERISTICS]\n",
      "\n",
      "ITK_original_spacing: [UNKNOWN_PRINT_CHARACTERISTICS]\n",
      "\n",
      "Modality: MET_MOD_UNKNOWN\n"
     ]
    }
   ],
   "source": [
    "import SimpleITK as sitk\n",
    "\n",
    "# Specify the path to your .mhd file\n",
    "file_path = r\"C:\\Users\\dchen\\OneDrive - University of Connecticut\\Courses\\Year 4\\Fall 2024\\BME 4900 and 4910W (Kumavor)\\Dataset\\mhd\\3_SprayDriedDispersion\\Grayscale\\CT_data_mhd_resampled.mhd\"\n",
    "\n",
    "# Read the image\n",
    "image = sitk.ReadImage(file_path)\n",
    "\n",
    "# Convert to a NumPy array for manipulation\n",
    "import numpy as np\n",
    "image_array = sitk.GetArrayFromImage(image)\n",
    "\n",
    "# Print some basic information\n",
    "print(\"Image size:\", image.GetSize())  # Size of the image (width, height, depth)\n",
    "print(\"Pixel spacing:\", image.GetSpacing())  # Spacing between pixels\n",
    "print(\"Image array shape:\", image_array.shape)  # Shape of the NumPy array\n",
    "\n",
    "# Access the metadata (if needed)\n",
    "metadata = image.GetMetaDataKeys()\n",
    "for key in metadata:\n",
    "    print(f\"{key}: {image.GetMetaData(key)}\")"
   ]
  }
 ],
 "metadata": {
  "kernelspec": {
   "display_name": "Senior_Design",
   "language": "python",
   "name": "python3"
  },
  "language_info": {
   "codemirror_mode": {
    "name": "ipython",
    "version": 3
   },
   "file_extension": ".py",
   "mimetype": "text/x-python",
   "name": "python",
   "nbconvert_exporter": "python",
   "pygments_lexer": "ipython3",
   "version": "3.10.15"
  }
 },
 "nbformat": 4,
 "nbformat_minor": 2
}
