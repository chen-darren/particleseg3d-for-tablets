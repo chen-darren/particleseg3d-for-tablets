{
 "cells": [
  {
   "cell_type": "code",
   "execution_count": 1,
   "metadata": {},
   "outputs": [
    {
     "name": "stdout",
     "output_type": "stream",
     "text": [
      "Image size: (954, 569, 956)\n",
      "Pixel spacing: (12.998037040233612, 12.998037040233612, 12.998037040233612)\n",
      "Image array shape: (956, 569, 954)\n",
      "# TransformMatrix: -1 0 0 0 -1 0 0 0 1\n",
      "ITK_InputFilterName: MetaImageIO\n",
      "ITK_original_direction: [UNKNOWN_PRINT_CHARACTERISTICS]\n",
      "\n",
      "ITK_original_spacing: [UNKNOWN_PRINT_CHARACTERISTICS]\n",
      "\n",
      "Modality: MET_MOD_UNKNOWN\n"
     ]
    }
   ],
   "source": [
    "import SimpleITK as sitk\n",
    "\n",
    "# Specify the path to your .mhd file\n",
    "file_path = r\"d:\\Darren\\Files\\database\\tablet_dataset\\grayscale\\mhd\\4_GenericD12\\052422_D3435_80kV_LE1_13um_recon_um.mhd\"\n",
    "\n",
    "# Read the image\n",
    "image = sitk.ReadImage(file_path)\n",
    "\n",
    "# Convert to a NumPy array for manipulation\n",
    "import numpy as np\n",
    "image_array = sitk.GetArrayFromImage(image)\n",
    "\n",
    "# Print some basic information\n",
    "print(\"Image size:\", image.GetSize())  # Size of the image (width, height, depth)\n",
    "print(\"Pixel spacing:\", image.GetSpacing())  # Spacing between pixels\n",
    "print(\"Image array shape:\", image_array.shape)  # Shape of the NumPy array\n",
    "\n",
    "# Access the metadata (if needed)\n",
    "metadata = image.GetMetaDataKeys()\n",
    "for key in metadata:\n",
    "    print(f\"{key}: {image.GetMetaData(key)}\")"
   ]
  },
  {
   "cell_type": "code",
   "execution_count": 3,
   "metadata": {},
   "outputs": [
    {
     "name": "stdout",
     "output_type": "stream",
     "text": [
      "Image size: (1004, 589, 1008)\n",
      "Pixel spacing: (12.122859247028826, 12.122859247028828, 12.12285924702883)\n",
      "Image array shape: (1008, 589, 1004)\n",
      "ITK_InputFilterName: MetaImageIO\n",
      "ITK_original_direction: [UNKNOWN_PRINT_CHARACTERISTICS]\n",
      "\n",
      "ITK_original_spacing: [UNKNOWN_PRINT_CHARACTERISTICS]\n",
      "\n",
      "Modality: MET_MOD_UNKNOWN\n"
     ]
    }
   ],
   "source": [
    "import SimpleITK as sitk\n",
    "\n",
    "# Specify the path to your .mhd file\n",
    "file_path = r\"d:\\Darren\\Files\\database\\tablet_dataset\\grayscale\\mhd\\5_ClaritinD12\\D3494-xrm_swap_xy.mhd\"\n",
    "\n",
    "# Read the image\n",
    "image = sitk.ReadImage(file_path)\n",
    "\n",
    "# Convert to a NumPy array for manipulation\n",
    "import numpy as np\n",
    "image_array = sitk.GetArrayFromImage(image)\n",
    "\n",
    "# Print some basic information\n",
    "print(\"Image size:\", image.GetSize())  # Size of the image (width, height, depth)\n",
    "print(\"Pixel spacing:\", image.GetSpacing())  # Spacing between pixels\n",
    "print(\"Image array shape:\", image_array.shape)  # Shape of the NumPy array\n",
    "\n",
    "# Access the metadata (if needed)\n",
    "metadata = image.GetMetaDataKeys()\n",
    "for key in metadata:\n",
    "    print(f\"{key}: {image.GetMetaData(key)}\")"
   ]
  }
 ],
 "metadata": {
  "kernelspec": {
   "display_name": "Senior_Design_py310_refine",
   "language": "python",
   "name": "python3"
  },
  "language_info": {
   "codemirror_mode": {
    "name": "ipython",
    "version": 3
   },
   "file_extension": ".py",
   "mimetype": "text/x-python",
   "name": "python",
   "nbconvert_exporter": "python",
   "pygments_lexer": "ipython3",
   "version": "3.10.16"
  }
 },
 "nbformat": 4,
 "nbformat_minor": 2
}
