{
 "cells": [
  {
   "cell_type": "markdown",
   "metadata": {},
   "source": [
    "# Configurables"
   ]
  },
  {
   "cell_type": "code",
   "execution_count": 2,
   "metadata": {},
   "outputs": [
    {
     "name": "stdout",
     "output_type": "stream",
     "text": [
      "Values configured\n"
     ]
    }
   ],
   "source": [
    "# Configurable values that may or may not need to be changed per run\n",
    "dir_location = 'internal' # Location that this run is on: internal, external, or cloud (i.e. OneDrive)\n",
    "output_to_cloud = False # Overrides the output path to always output to the cloud (i.e. OneDrive)\n",
    "is_original_data = False # Original data is the dataset used by the authors of ParticleSeg3D, False results in the DigiM tablet dataset\n",
    "weights_tag = 'original_particle_seg' # Name of the weights that will be used\n",
    "run_tag = 'pretrained_initial_tablet' # Name of the run, like what name will be used to label the outputs generated from this run\n",
    "conda_env = 'Senior_Design_py310' # Name of conda environment containing all necessary libraries, packages, and modules\n",
    "\n",
    "print('Values configured')"
   ]
  },
  {
   "cell_type": "markdown",
   "metadata": {},
   "source": [
    "# Set Paths"
   ]
  },
  {
   "cell_type": "code",
   "execution_count": 3,
   "metadata": {},
   "outputs": [
    {
     "name": "stdout",
     "output_type": "stream",
     "text": [
      "Paths set\n"
     ]
    }
   ],
   "source": [
    "import os\n",
    "\n",
    "# Set path to the base directory\n",
    "if dir_location.lower() == 'internal':\n",
    "    base_path = r'C:\\Senior_Design'\n",
    "elif dir_location.lower() == 'external':\n",
    "    base_path = r'D:\\Senior_Design'\n",
    "elif dir_location.lower() == 'cloud':\n",
    "    base_path = r'C:\\Users\\dchen\\OneDrive - University of Connecticut\\Courses\\Year 4\\Fall 2024\\BME 4900 and 4910W (Kumavor)\\Python\\Files'\n",
    "else:\n",
    "    raise ValueError('Invalid directory location type')\n",
    "\n",
    "# Set base paths to input, output, and weights        \n",
    "base_input_path = os.path.join(base_path, 'database')\n",
    "base_output_path = os.path.join(base_path, 'outputs')\n",
    "if output_to_cloud:\n",
    "    base_output_path = os.path.join(r'C:\\Users\\dchen\\OneDrive - University of Connecticut\\Courses\\Year 4\\Fall 2024\\BME 4900 and 4910W (Kumavor)\\Python\\Files', 'outputs')\n",
    "base_weights_path = os.path.join(base_path, 'weights')\n",
    "\n",
    "# Set Zarr (model output) and TIFF (readable output) paths\n",
    "output_zarr_path = os.path.join(base_output_path, 'zarr', run_tag)\n",
    "output_tiff_path = os.path.join(base_output_path, 'tiff', run_tag)\n",
    "\n",
    "# Set dataset path\n",
    "if is_original_data:\n",
    "    input_path = os.path.join(base_input_path, 'orignal_dataset', 'grayscale', 'dataset')\n",
    "else:\n",
    "    input_path = os.path.join(base_input_path, 'tablet_dataset', 'grayscale', 'dataset')\n",
    "\n",
    "# Set weights path\n",
    "weights_path = os.path.join(base_weights_path, weights_tag)\n",
    "\n",
    "# Ensure paths with spaces or parentheses are quoted (for using the directory in OneDrive, does not matter if there are no spaces or parentheses)\n",
    "input_path = f'\"{input_path}\"'\n",
    "output_zarr_path = f'\"{output_zarr_path}\"'\n",
    "output_tiff_path = f'\"{output_tiff_path}\"'\n",
    "weights_path = f'\"{weights_path}\"'\n",
    "\n",
    "print('Paths set')"
   ]
  },
  {
   "cell_type": "markdown",
   "metadata": {},
   "source": [
    "# Check CUDA Availability"
   ]
  },
  {
   "cell_type": "code",
   "execution_count": 4,
   "metadata": {},
   "outputs": [
    {
     "data": {
      "text/plain": [
       "True"
      ]
     },
     "execution_count": 4,
     "metadata": {},
     "output_type": "execute_result"
    }
   ],
   "source": [
    "import torch\n",
    "torch.cuda.is_available()"
   ]
  },
  {
   "cell_type": "markdown",
   "metadata": {},
   "source": [
    "# Run ParticleSeg3D Using Subprocess Module"
   ]
  },
  {
   "cell_type": "markdown",
   "metadata": {},
   "source": [
    "## Run ParticleSeg3D on All Tablets Without Progress Bar"
   ]
  },
  {
   "cell_type": "code",
   "execution_count": 5,
   "metadata": {},
   "outputs": [],
   "source": [
    "## No real time updates\n",
    "# import subprocess\n",
    "\n",
    "# # Define the commands to execute in Anaconda PowerShell Prompt\n",
    "# activate_env = 'conda activate ' + conda_env\n",
    "# inference = 'ps3d_inference -i ' + input_path + ' -o ' + output_zarr_path + ' -m ' + weights_path\n",
    "# command = activate_env + '; ' + inference\n",
    "\n",
    "# # Run the commands\n",
    "# process = subprocess.run(\n",
    "#     ['powershell', '-Command', command], \n",
    "#     stdout=subprocess.PIPE, \n",
    "#     stderr=subprocess.PIPE, \n",
    "#     text=True\n",
    "# )\n",
    "\n",
    "# # Output the results\n",
    "# print(\"STDOUT:\", process.stdout)\n",
    "# print(\"STDERR:\", process.stderr)"
   ]
  },
  {
   "cell_type": "markdown",
   "metadata": {},
   "source": [
    "## Run ParticleSeg3D on All Tablets with Progress Bar"
   ]
  },
  {
   "cell_type": "code",
   "execution_count": 6,
   "metadata": {},
   "outputs": [],
   "source": [
    "# # Runs inferences on all tablets\n",
    "\n",
    "# import subprocess\n",
    "# import sys\n",
    "\n",
    "# # Define the commands to execute in Anaconda PowerShell Prompt\n",
    "# activate_env = 'conda activate ' + conda_env\n",
    "# inference = 'ps3d_inference -i ' + input_path + ' -o ' + output_zarr_path + ' -m ' + weights_path\n",
    "# command = activate_env + '; ' + inference\n",
    "\n",
    "# # Run the command with unbuffered output\n",
    "# process = subprocess.Popen(\n",
    "#     ['powershell', '-Command', command], \n",
    "#     stdout=subprocess.PIPE, \n",
    "#     stderr=subprocess.PIPE, \n",
    "#     text=True,\n",
    "#     bufsize=1  # Line-buffered for real-time updates\n",
    "# )\n",
    "\n",
    "# print(\"Running inference...\\n\")\n",
    "\n",
    "# # Read output in real-time and ensure TQDM updates properly\n",
    "# for line in iter(process.stdout.readline, ''):\n",
    "#     sys.stdout.write(line)  # Ensures immediate output\n",
    "#     sys.stdout.flush()\n",
    "\n",
    "# # Capture any errors\n",
    "# process.stdout.close()\n",
    "# stderr_output = process.stderr.read()\n",
    "# process.wait()\n",
    "\n",
    "# if stderr_output:\n",
    "#     print(\"\\nSTDERR:\", stderr_output)\n",
    "\n",
    "# print(\"\\nInference Completed!\")"
   ]
  },
  {
   "cell_type": "markdown",
   "metadata": {},
   "source": [
    "## Run ParticleSeg3D on Each Tablet in Different Cells With Progress Bar"
   ]
  },
  {
   "cell_type": "code",
   "execution_count": 13,
   "metadata": {},
   "outputs": [
    {
     "name": "stdout",
     "output_type": "stream",
     "text": [
      "Running inference...\n",
      "\n",
      "\n",
      "STDERR: The string is missing the terminator: \".\n",
      "    + CategoryInfo          : ParserError: (:) [], ParentContainsErrorRecordException\n",
      "    + FullyQualifiedErrorId : TerminatorExpectedAtEndOfString\n",
      " \n",
      "\n",
      "\n",
      "Inference Completed!\n"
     ]
    }
   ],
   "source": [
    "# Runs inferences on 1_Microsphere\n",
    "\n",
    "import subprocess\n",
    "import sys\n",
    "import os\n",
    "\n",
    "# Define the commands to execute in Anaconda PowerShell Prompt\n",
    "input_path = os.path.join(os.path.dirname(input_path).strip('\"'), '1_Microsphere')\n",
    "input_path = f'\"{input_path}\"'\n",
    "activate_env = 'conda activate ' + conda_env\n",
    "inference = 'ps3d_inference -i ' + input_path + ' -o ' + output_zarr_path + ' -m ' + weights_path\n",
    "command = activate_env + '; ' + inference\n",
    "\n",
    "# Run the command with unbuffered output\n",
    "process = subprocess.Popen(\n",
    "    ['powershell', '-Command', command], \n",
    "    stdout=subprocess.PIPE, \n",
    "    stderr=subprocess.PIPE, \n",
    "    text=True,\n",
    "    bufsize=1  # Line-buffered for real-time updates\n",
    ")\n",
    "\n",
    "print(\"Running inference...\\n\")\n",
    "\n",
    "# Read output in real-time and ensure TQDM updates properly\n",
    "for line in iter(process.stdout.readline, ''):\n",
    "    sys.stdout.write(line)  # Ensures immediate output\n",
    "    sys.stdout.flush()\n",
    "\n",
    "# Capture any errors\n",
    "process.stdout.close()\n",
    "stderr_output = process.stderr.read()\n",
    "process.wait()\n",
    "\n",
    "if stderr_output:\n",
    "    print(\"\\nSTDERR:\", stderr_output)\n",
    "\n",
    "print(\"\\nInference Completed!\")"
   ]
  },
  {
   "cell_type": "code",
   "execution_count": null,
   "metadata": {},
   "outputs": [],
   "source": [
    "# Runs inferences on 2_Tablet\n",
    "\n",
    "import subprocess\n",
    "import sys\n",
    "import os\n",
    "\n",
    "# Define the commands to execute in Anaconda PowerShell Prompt\n",
    "input_path = os.path.join(os.path.dirname(input_path).strip('\"'), '2_Tablet')\n",
    "input_path = f'\"{input_path}\"'\n",
    "activate_env = 'conda activate ' + conda_env\n",
    "inference = 'ps3d_inference -i ' + input_path + ' -o ' + output_zarr_path + ' -m ' + weights_path\n",
    "command = activate_env + '; ' + inference\n",
    "\n",
    "# Run the command with unbuffered output\n",
    "process = subprocess.Popen(\n",
    "    ['powershell', '-Command', command], \n",
    "    stdout=subprocess.PIPE, \n",
    "    stderr=subprocess.PIPE, \n",
    "    text=True,\n",
    "    bufsize=1  # Line-buffered for real-time updates\n",
    ")\n",
    "\n",
    "print(\"Running inference...\\n\")\n",
    "\n",
    "# Read output in real-time and ensure TQDM updates properly\n",
    "for line in iter(process.stdout.readline, ''):\n",
    "    sys.stdout.write(line)  # Ensures immediate output\n",
    "    sys.stdout.flush()\n",
    "\n",
    "# Capture any errors\n",
    "process.stdout.close()\n",
    "stderr_output = process.stderr.read()\n",
    "process.wait()\n",
    "\n",
    "if stderr_output:\n",
    "    print(\"\\nSTDERR:\", stderr_output)\n",
    "\n",
    "print(\"\\nInference Completed!\")"
   ]
  },
  {
   "cell_type": "code",
   "execution_count": null,
   "metadata": {},
   "outputs": [
    {
     "name": "stdout",
     "output_type": "stream",
     "text": [
      "\"C:\\Senior_Design\\database\\tablet_dataset\\grayscale\\3_SprayDriedDispersion\"\n",
      "Running inference...\n",
      "\n",
      "Samples:  ['3_SprayDriedDispersion']\n",
      "Starting inference of sample:  3_SprayDriedDispersion\n",
      "\n",
      "Predicting: 0it [00:00, ?it/s]\n",
      "Predicting:   0%|          | 0/122 [00:00<?, ?it/s]\n"
     ]
    }
   ],
   "source": [
    "# Runs inferences on 3_SprayDriedDispersion\n",
    "\n",
    "import subprocess\n",
    "import sys\n",
    "import os\n",
    "\n",
    "# Define the commands to execute in Anaconda PowerShell Prompt\n",
    "input_path = os.path.join(os.path.dirname(input_path).strip('\"'), '3_SprayDriedDispersion')\n",
    "input_path = f'\"{input_path}\"'\n",
    "activate_env = 'conda activate ' + conda_env\n",
    "inference = 'ps3d_inference -i ' + input_path + ' -o ' + output_zarr_path + ' -m ' + weights_path\n",
    "command = activate_env + '; ' + inference\n",
    "\n",
    "# Run the command with unbuffered output\n",
    "process = subprocess.Popen(\n",
    "    ['powershell', '-Command', command], \n",
    "    stdout=subprocess.PIPE, \n",
    "    stderr=subprocess.PIPE, \n",
    "    text=True,\n",
    "    bufsize=1  # Line-buffered for real-time updates\n",
    ")\n",
    "\n",
    "print(\"Running inference...\\n\")\n",
    "\n",
    "# Read output in real-time and ensure TQDM updates properly\n",
    "for line in iter(process.stdout.readline, ''):\n",
    "    sys.stdout.write(line)  # Ensures immediate output\n",
    "    sys.stdout.flush()\n",
    "\n",
    "# Capture any errors\n",
    "process.stdout.close()\n",
    "stderr_output = process.stderr.read()\n",
    "process.wait()\n",
    "\n",
    "if stderr_output:\n",
    "    print(\"\\nSTDERR:\", stderr_output)\n",
    "\n",
    "print(\"\\nInference Completed!\")"
   ]
  },
  {
   "cell_type": "markdown",
   "metadata": {},
   "source": [
    "# Convert Zarr Output to TIFF"
   ]
  },
  {
   "cell_type": "code",
   "execution_count": 3,
   "metadata": {},
   "outputs": [],
   "source": [
    "import numpy as np\n",
    "import os\n",
    "import zarr\n",
    "import tifffile\n",
    "import subprocess\n",
    "\n",
    "def safe_makedirs(path):\n",
    "    \"\"\"\n",
    "    Safely create directories. If it fails due to invalid characters (e.g., quotes),\n",
    "    it strips invalid characters and retries.\n",
    "    \"\"\"\n",
    "    try:\n",
    "        os.makedirs(path, exist_ok=True)\n",
    "    except OSError as e:\n",
    "        print(f\"Error creating directory {path}: {e}\")\n",
    "        # Retry after stripping quotes\n",
    "        cleaned_path = path.strip('\"')\n",
    "        print(f\"Retrying with cleaned path: {cleaned_path}\")\n",
    "        try:\n",
    "            os.makedirs(cleaned_path, exist_ok=True)\n",
    "            path = cleaned_path\n",
    "        except OSError as e2:\n",
    "            print(f\"Failed again with cleaned path {cleaned_path}: {e2}\")\n",
    "            raise e2  # Reraise the error if it still fails\n",
    "        print()\n",
    "    return path\n",
    "\n",
    "\n",
    "def clean_path(path):\n",
    "    \"\"\"\n",
    "    Strips invalid characters (e.g., quotes) from the path.\n",
    "    \"\"\"\n",
    "    return path.strip('\"')\n",
    "\n",
    "\n",
    "def is_valid_zarr_directory(zarr_dir):\n",
    "    \"\"\"\n",
    "    Validates the Zarr directory to ensure it exists and contains the required structure.\n",
    "    Returns True if valid, otherwise False.\n",
    "    \"\"\"\n",
    "    if not os.path.exists(zarr_dir):\n",
    "        print(f\"Error: Zarr directory {zarr_dir} does not exist.\")\n",
    "        print()\n",
    "        return False\n",
    "\n",
    "    if not os.path.isdir(zarr_dir):\n",
    "        print(f\"Error: {zarr_dir} is not a directory.\")\n",
    "        print()\n",
    "        return False\n",
    "\n",
    "    # Check if the directory contains valid subdirectories with `.zarr` files\n",
    "    for image_name in os.listdir(zarr_dir):\n",
    "        image_path = os.path.join(zarr_dir, image_name)\n",
    "        zarr_file = os.path.join(image_path, f\"{image_name}.zarr\")\n",
    "        if os.path.isdir(image_path) and os.path.exists(zarr_file):\n",
    "            continue  # Valid image directory with a .zarr file\n",
    "        else:\n",
    "            print(f\"Warning: {image_path} is missing a corresponding .zarr file.\")\n",
    "            print()\n",
    "            return False\n",
    "\n",
    "    return True\n",
    "\n",
    "\n",
    "def convert_zarr_to_tiff(zarr_dir, tiff_dir):\n",
    "    \"\"\"\n",
    "    Converts Zarr files to TIFF format, placing them directly in the `.tiff` folder.\n",
    "    \"\"\"\n",
    "    print(f\"Original Zarr Directory: {zarr_dir}\")\n",
    "    print(f\"Original TIFF Directory: {tiff_dir}\")\n",
    "    print()\n",
    "\n",
    "    # Try validating the Zarr directory\n",
    "    try:\n",
    "        # Attempt to list files in the Zarr directory\n",
    "        os.listdir(zarr_dir)\n",
    "    except OSError as e:\n",
    "        print(f\"Error accessing Zarr directory {zarr_dir}: {e}\")\n",
    "        # Clean path and retry\n",
    "        zarr_dir = clean_path(zarr_dir)  # Update zarr_dir with the cleaned path\n",
    "        print(f\"Retrying with cleaned Zarr Directory: {zarr_dir}\")\n",
    "        # Check again with the cleaned path\n",
    "        if not is_valid_zarr_directory(zarr_dir):\n",
    "            print(\"Invalid Zarr directory after cleaning. Aborting conversion.\")\n",
    "            print()\n",
    "            return\n",
    "        print()\n",
    "\n",
    "    # Ensure the output base directory exists for TIFF, and create the `.tiff` folder\n",
    "    tiff_dir = safe_makedirs(tiff_dir)\n",
    "\n",
    "    # Iterate through each folder in the Zarr directory\n",
    "    for image_name in os.listdir(zarr_dir):\n",
    "        image_path = os.path.join(zarr_dir, image_name)\n",
    "        if os.path.isdir(image_path):\n",
    "            zarr_input = os.path.join(image_path, f\"{image_name}.zarr\")\n",
    "\n",
    "            print(f\"Processing image: {image_name}\")\n",
    "            print(f\"Zarr Input: {zarr_input}\")\n",
    "            print(f\"TIFF Output Directory: {tiff_dir}\")\n",
    "            print()\n",
    "            \n",
    "            # Open Zarr dataset\n",
    "            image_zarr = zarr.open(zarr_input, mode='r')\n",
    "\n",
    "            # Convert Zarr data to uint8 (ensure it's within the valid range for uint8)\n",
    "            if image_zarr.dtype != np.uint8:\n",
    "                print(\"Converting data to float32...\")\n",
    "                for i in range(image_zarr.shape[0]):\n",
    "                    image_slice = image_zarr[i]\n",
    "\n",
    "                    # Normalize and scale the data to the uint8 range (0-255)\n",
    "                    image_slice = (image_slice / np.max(image_slice) * 255).astype(np.uint8) # Converts the segmentation labels into visualizable grayscale colors\n",
    "                    # image_slice = np.clip(image_slice, 0, 255)  # Clip values to 0-255\n",
    "                    # image_slice = image_slice.astype(np.uint8)   # Convert to uint8\n",
    "                    # image_slice = image_slice.astype(np.float32)   # Convert to float32\n",
    "\n",
    "                    # Save the slice as a TIFF image\n",
    "                    tiff_output_dir = os.path.join(tiff_dir, image_name)\n",
    "                    tiff_output_dir = safe_makedirs(tiff_output_dir)\n",
    "                    tifffile.imwrite(os.path.join(tiff_output_dir, f\"{image_name}_{i:04d}.tiff\"), image_slice)\n",
    "            else:\n",
    "                try:\n",
    "                    # Run the external command to convert Zarr to TIFF (does not seem to work, the generated TIFF images cannot be read...)\n",
    "                    command = [\"ps3d_zarr2tiff\", \"-i\", zarr_input, \"-o\", tiff_dir]\n",
    "                    result = subprocess.run(command, check=True, capture_output=True, text=True)\n",
    "                    print(f\"Converted {zarr_input} to {tiff_dir}\")\n",
    "                    print()\n",
    "                    print(\"Standard Output:\", result.stdout)\n",
    "                    print(\"Standard Error:\", result.stderr)\n",
    "                except subprocess.CalledProcessError as e:\n",
    "                    print(f\"Error converting {zarr_input} to TIFF: {e}\")\n",
    "                    print()\n",
    "                except Exception as e:\n",
    "                    print(f\"Unexpected error while processing {image_name}: {e}\")\n",
    "                    print()"
   ]
  },
  {
   "cell_type": "code",
   "execution_count": 6,
   "metadata": {},
   "outputs": [
    {
     "name": "stdout",
     "output_type": "stream",
     "text": [
      "Original Zarr Directory: \"C:\\Senior_Design\\outputs\\zarr\\pretrained_initial_tablet\"\n",
      "Original TIFF Directory: \"C:\\Senior_Design\\outputs\\tiff\\pretrained_initial_tablet\"\n",
      "\n",
      "Error accessing Zarr directory \"C:\\Senior_Design\\outputs\\zarr\\pretrained_initial_tablet\": [WinError 123] The filename, directory name, or volume label syntax is incorrect: '\"C:\\\\Senior_Design\\\\outputs\\\\zarr\\\\pretrained_initial_tablet\"'\n",
      "Retrying with cleaned Zarr Directory: C:\\Senior_Design\\outputs\\zarr\\pretrained_initial_tablet\n",
      "Warning: C:\\Senior_Design\\outputs\\zarr\\pretrained_initial_tablet\\1_Microsphere is missing a corresponding .zarr file.\n",
      "\n",
      "Invalid Zarr directory after cleaning. Aborting conversion.\n",
      "\n"
     ]
    }
   ],
   "source": [
    "# Convert Zarr files to TIFF\n",
    "convert_zarr_to_tiff(output_zarr_path, output_tiff_path)"
   ]
  }
 ],
 "metadata": {
  "kernelspec": {
   "display_name": "Senior_Design_py310",
   "language": "python",
   "name": "python3"
  },
  "language_info": {
   "codemirror_mode": {
    "name": "ipython",
    "version": 3
   },
   "file_extension": ".py",
   "mimetype": "text/x-python",
   "name": "python",
   "nbconvert_exporter": "python",
   "pygments_lexer": "ipython3",
   "version": "3.10.16"
  }
 },
 "nbformat": 4,
 "nbformat_minor": 2
}
