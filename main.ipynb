{
 "cells": [
  {
   "cell_type": "markdown",
   "metadata": {},
   "source": [
    "# README"
   ]
  },
  {
   "cell_type": "markdown",
   "metadata": {},
   "source": [
    "Text"
   ]
  },
  {
   "cell_type": "markdown",
   "metadata": {},
   "source": [
    "# Set Paths"
   ]
  },
  {
   "cell_type": "code",
   "execution_count": 2,
   "metadata": {},
   "outputs": [],
   "source": [
    "import os\n",
    "\n",
    "# Configurable values\n",
    "dir_location = 'internal' # Location that this run is on: internal, external, or cloud (i.e. OneDrive)\n",
    "output_to_cloud = False # Overrides the output path to always output to the cloud (i.e. OneDrive)\n",
    "is_original_data = True # Original data is the dataset used by the authors of ParticleSeg3D, False results in the DigiM tablet dataset\n",
    "weights_tag = 'original_particle_seg' # Name of the weights that will be used\n",
    "run_tag = 'original_dataset' # Name of the run, like what name will be used to label the outputs generated from this run\n",
    "\n",
    "# Set path to the base directory\n",
    "if dir_location.lower() == 'internal':\n",
    "    base_path = r'C:\\Senior_Design'\n",
    "elif dir_location.lower() == 'external':\n",
    "    base_path = r'D:\\Senior_Design'\n",
    "elif dir_location.lower() == 'cloud':\n",
    "    base_path = r'C:\\Users\\dchen\\OneDrive - University of Connecticut\\Courses\\Year 4\\Fall 2024\\BME 4900 and 4910W (Kumavor)\\Files'\n",
    "\n",
    "# Set base paths to input, output, and weights        \n",
    "base_input_path = os.join.path(base_path, 'database')\n",
    "base_output_path = os.join.path(base_path, 'outputs')\n",
    "if output_to_cloud:\n",
    "    base_output_path = os.join.path(r'C:\\Users\\dchen\\OneDrive - University of Connecticut\\Courses\\Year 4\\Fall 2024\\BME 4900 and 4910W (Kumavor)\\Files', 'outputs')\n",
    "base_weights_path = os.join.path(base_path, 'weights')\n",
    "\n",
    "# Set Zarr (model output) and TIFF (readable output) paths\n",
    "output_zarr_path = os.join.path(base_output_path, 'zarr', run_tag)\n",
    "output_tiff_path = os.join.path(base_output_path, 'tiff', run_tag)\n",
    "\n",
    "# Set dataset path\n",
    "if is_original_data:\n",
    "    input_path = os.join.path(base_input_path, 'orignal_dataset')\n",
    "else:\n",
    "    input_path = os.join.path(base_input_path, 'tablet_dataset')\n",
    "\n",
    "# Set weights path\n",
    "weights_path = os.join.path(base_weights_path, weights_tag)\n",
    "\n",
    "# Ensure paths with spaces or parentheses are quoted (for using the directory in OneDrive, does not matter if there are no spaces or parentheses)\n",
    "input_path = f'\"{input_path}\"'\n",
    "output_zarr_path = f'\"{output_zarr_path}\"'\n",
    "output_tiff_path = f'\"{output_tiff_path}\"'\n",
    "weights_path = f'\"{weights_path}\"'"
   ]
  },
  {
   "cell_type": "markdown",
   "metadata": {},
   "source": [
    "# Check CUDA Availability"
   ]
  },
  {
   "cell_type": "code",
   "execution_count": 3,
   "metadata": {},
   "outputs": [
    {
     "data": {
      "text/plain": [
       "True"
      ]
     },
     "execution_count": 3,
     "metadata": {},
     "output_type": "execute_result"
    }
   ],
   "source": [
    "import torch\n",
    "torch.cuda.is_available()"
   ]
  },
  {
   "cell_type": "markdown",
   "metadata": {},
   "source": [
    "# Run ParticleSeg3D Using Subprocess Module"
   ]
  },
  {
   "cell_type": "code",
   "execution_count": null,
   "metadata": {},
   "outputs": [],
   "source": [
    "import subprocess\n",
    "\n",
    "# Inference\n",
    "subprocess.run(['ps3d_inference', '-i', input_path, '-o', output_zarr_path, '-m', weights_path], capture_output=True) # ps3d_inference -i /path/to/input -o /path/to/output -m /path/to/weights\n",
    "\n",
    "# Define the commands to execute in Anaconda PowerShell Prompt\n",
    "activate_env = 'conda activate Senior_Design_py310'\n",
    "inference = 'ps3d_inference -i ' + input_path + ' -o ' + output_zarr_path + ' -m ' + weights_path\n",
    "command = activate_env + '; ' + inference\n",
    "\n",
    "# Run the commands\n",
    "process = subprocess.run(\n",
    "    ['powershell', '-Command', command], \n",
    "    stdout=subprocess.PIPE, \n",
    "    stderr=subprocess.PIPE, \n",
    "    text=True\n",
    ")\n",
    "\n",
    "# Output the results\n",
    "print(\"STDOUT:\", process.stdout)\n",
    "print(\"STDERR:\", process.stderr)"
   ]
  }
 ],
 "metadata": {
  "kernelspec": {
   "display_name": "Senior_Design_py310",
   "language": "python",
   "name": "python3"
  },
  "language_info": {
   "codemirror_mode": {
    "name": "ipython",
    "version": 3
   },
   "file_extension": ".py",
   "mimetype": "text/x-python",
   "name": "python",
   "nbconvert_exporter": "python",
   "pygments_lexer": "ipython3",
   "version": "3.10.16"
  }
 },
 "nbformat": 4,
 "nbformat_minor": 2
}
