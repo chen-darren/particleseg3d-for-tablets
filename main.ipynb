{
 "cells": [
  {
   "cell_type": "code",
   "execution_count": 13,
   "metadata": {},
   "outputs": [],
   "source": [
    "is_internal = True\n",
    "is_original_data = True\n",
    "\n",
    "# Check if the data is internal or external and original or not\n",
    "if is_internal:\n",
    "    if is_original_data:\n",
    "        input_path = r'C:\\Senior_Design\\original_dataset\\dataset'\n",
    "        output_path = r'C:\\Senior_Design\\outputs\\original_dataset'\n",
    "        model_path = r'C:\\Senior_Design\\weights\\original_particle_seg'\n",
    "    else:\n",
    "        input_path = r'C:\\Senior_Design\\dataset\\dataset'\n",
    "        output_path = r'C:\\Senior_Design\\outputs\\original_model'\n",
    "        model_path = r'C:\\Senior_Design\\weights\\original_particle_seg'\n",
    "else:\n",
    "    if is_original_data:\n",
    "        input_path = r'C:\\Users\\dchen\\OneDrive - University of Connecticut\\Courses\\Year 4\\Fall 2024\\BME 4900 and 4910W (Kumavor)\\Python\\Senior_Design\\original_dataset\\dataset'\n",
    "        output_path = r'C:\\Users\\dchen\\OneDrive - University of Connecticut\\Courses\\Year 4\\Fall 2024\\BME 4900 and 4910W (Kumavor)\\Python\\Senior_Design\\outputs\\original_dataset'\n",
    "        model_path = r'C:\\Users\\dchen\\OneDrive - University of Connecticut\\Courses\\Year 4\\Fall 2024\\BME 4900 and 4910W (Kumavor)\\Python\\Senior_Design\\weights\\original_particle_seg'\n",
    "    else:\n",
    "        input_path = r'C:\\Users\\dchen\\OneDrive - University of Connecticut\\Courses\\Year 4\\Fall 2024\\BME 4900 and 4910W (Kumavor)\\Python\\Senior_Design\\dataset\\dataset'\n",
    "        output_path = r'C:\\Users\\dchen\\OneDrive - University of Connecticut\\Courses\\Year 4\\Fall 2024\\BME 4900 and 4910W (Kumavor)\\Python\\Senior_Design\\outputs\\original_model'\n",
    "        model_path = r'C:\\Users\\dchen\\OneDrive - University of Connecticut\\Courses\\Year 4\\Fall 2024\\BME 4900 and 4910W (Kumavor)\\Python\\Senior_Design\\weights\\original_particle_seg'\n",
    "\n",
    "# Ensure paths with spaces or parentheses are quoted\n",
    "input_path = f'\"{input_path}\"'\n",
    "output_path = f'\"{output_path}\"'\n",
    "model_path = f'\"{model_path}\"'"
   ]
  },
  {
   "cell_type": "code",
   "execution_count": 9,
   "metadata": {},
   "outputs": [
    {
     "data": {
      "text/plain": [
       "True"
      ]
     },
     "execution_count": 9,
     "metadata": {},
     "output_type": "execute_result"
    }
   ],
   "source": [
    "import torch\n",
    "torch.cuda.is_available()"
   ]
  },
  {
   "cell_type": "code",
   "execution_count": null,
   "metadata": {},
   "outputs": [],
   "source": [
    "import subprocess\n",
    "\n",
    "# Inference\n",
    "subprocess.run(['ps3d_inference', '-i', input_path, '-o', output_path, '-m', model_path], capture_output=True) # ps3d_inference -i /path/to/input -o /path/to/output -m /path/to/model\n",
    "\n",
    "# Define the commands to execute in Anaconda PowerShell Prompt\n",
    "activate_env = 'conda activate Senior_Design_py310'\n",
    "inference = 'ps3d_inference -i ' + input_path + ' -o ' + output_path + ' -m ' + model_path\n",
    "command = activate_env + '; ' + inference\n",
    "\n",
    "# Run the commands\n",
    "process = subprocess.run(\n",
    "    ['powershell', '-Command', command], \n",
    "    stdout=subprocess.PIPE, \n",
    "    stderr=subprocess.PIPE, \n",
    "    text=True\n",
    ")\n",
    "\n",
    "# Output the results\n",
    "print(\"STDOUT:\", process.stdout)\n",
    "print(\"STDERR:\", process.stderr)"
   ]
  }
 ],
 "metadata": {
  "kernelspec": {
   "display_name": "Senior_Design_py310",
   "language": "python",
   "name": "python3"
  },
  "language_info": {
   "codemirror_mode": {
    "name": "ipython",
    "version": 3
   },
   "file_extension": ".py",
   "mimetype": "text/x-python",
   "name": "python",
   "nbconvert_exporter": "python",
   "pygments_lexer": "ipython3",
   "version": "3.10.16"
  }
 },
 "nbformat": 4,
 "nbformat_minor": 2
}
