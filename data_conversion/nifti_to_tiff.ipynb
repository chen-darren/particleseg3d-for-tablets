{
 "cells": [
  {
   "cell_type": "markdown",
   "metadata": {},
   "source": [
    "# For Input Directories Containing Folders Each Containing a Single NIFTI Image"
   ]
  },
  {
   "cell_type": "code",
   "execution_count": 4,
   "metadata": {},
   "outputs": [
    {
     "name": "stdout",
     "output_type": "stream",
     "text": [
      "Multiple .nii files found in D:\\Darren\\Files\\training\\nnUNet_preprocessed\\Task501_ParticleSeg3D\\imagesTr, skipping.\n",
      "Multiple .nii files found in D:\\Darren\\Files\\training\\nnUNet_preprocessed\\Task501_ParticleSeg3D\\labelsTr, skipping.\n",
      "Conversion complete!\n"
     ]
    }
   ],
   "source": [
    "import os\n",
    "import nibabel as nib\n",
    "import numpy as np\n",
    "from PIL import Image\n",
    "\n",
    "# Define input and output directories\n",
    "input_dir = r'C:\\Senior_Design\\database\\original_dataset\\segmented\\nii'\n",
    "output_dir = r'C:\\Senior_Design\\database\\original_dataset\\segmented\\tiff'\n",
    "\n",
    "# Create output directory if it doesn't exist\n",
    "os.makedirs(output_dir, exist_ok=True)\n",
    "\n",
    "# Process each folder in the input directory\n",
    "for folder_name in os.listdir(input_dir):\n",
    "    folder_path = os.path.join(input_dir, folder_name)\n",
    "    \n",
    "    if os.path.isdir(folder_path):  # Ensure it's a folder\n",
    "        # Find the .nii file in the folder (ignore .json files)\n",
    "        nii_files = [f for f in os.listdir(folder_path) if f.endswith('.nii') or f.endswith('.nii.gz')]\n",
    "        \n",
    "        if len(nii_files) == 1:  # Ensure there's exactly one .nii file\n",
    "            nii_path = os.path.join(folder_path, nii_files[0])\n",
    "            print(f\"Processing {nii_path}\")\n",
    "            \n",
    "            # Load the NIfTI file\n",
    "            nifti_img = nib.load(nii_path)\n",
    "            nifti_data = nifti_img.get_fdata()\n",
    "            \n",
    "            # Normalize the data for visualization\n",
    "            nifti_data = (nifti_data - np.min(nifti_data)) / (np.max(nifti_data) - np.min(nifti_data))\n",
    "            nifti_data = (nifti_data * 255).astype(np.uint8)\n",
    "            \n",
    "            # Create an output subdirectory for the folder\n",
    "            output_subdir = os.path.join(output_dir, folder_name[:4] + '.tiff')\n",
    "            os.makedirs(output_subdir, exist_ok=True)\n",
    "            \n",
    "            # Save each slice as a TIFF file\n",
    "            for i in range(nifti_data.shape[2]):  # Assuming slices are along the third dimension\n",
    "                slice_data = nifti_data[:, :, i]\n",
    "                image = Image.fromarray(slice_data)\n",
    "                image.save(os.path.join(output_subdir, f\"slice_{i}.tiff\"))\n",
    "            \n",
    "            print(f\"Saved slices to {output_subdir}\")\n",
    "        elif len(nii_files) == 0:\n",
    "            print(f\"No .nii file found in {folder_path}, skipping.\")\n",
    "        else:\n",
    "            print(f\"Multiple .nii files found in {folder_path}, skipping.\")\n",
    "            \n",
    "print(\"Batch conversion complete!\")\n"
   ]
  },
  {
   "cell_type": "markdown",
   "metadata": {},
   "source": [
    "# For Input Directories Containing NIFTI Images"
   ]
  },
  {
   "cell_type": "code",
   "execution_count": 5,
   "metadata": {},
   "outputs": [
    {
     "name": "stdout",
     "output_type": "stream",
     "text": [
      "Processing D:\\Darren\\Files\\training\\nnUNet_preprocessed\\Task501_ParticleSeg3D\\labelsTr\\2_Tablet_Aug1.nii.gz\n",
      "Saved slices to D:\\Darren\\Files\\training\\tiff\\Task501_ParticleSeg3D\\labelsTr\\2_Tablet_Aug1\n",
      "Processing D:\\Darren\\Files\\training\\nnUNet_preprocessed\\Task501_ParticleSeg3D\\labelsTr\\2_Tablet_Aug2.nii.gz\n",
      "Saved slices to D:\\Darren\\Files\\training\\tiff\\Task501_ParticleSeg3D\\labelsTr\\2_Tablet_Aug2\n",
      "Processing D:\\Darren\\Files\\training\\nnUNet_preprocessed\\Task501_ParticleSeg3D\\labelsTr\\2_Tablet_Aug3.nii.gz\n",
      "Saved slices to D:\\Darren\\Files\\training\\tiff\\Task501_ParticleSeg3D\\labelsTr\\2_Tablet_Aug3\n",
      "Processing D:\\Darren\\Files\\training\\nnUNet_preprocessed\\Task501_ParticleSeg3D\\labelsTr\\2_Tablet_Aug4.nii.gz\n",
      "Saved slices to D:\\Darren\\Files\\training\\tiff\\Task501_ParticleSeg3D\\labelsTr\\2_Tablet_Aug4\n",
      "Processing D:\\Darren\\Files\\training\\nnUNet_preprocessed\\Task501_ParticleSeg3D\\labelsTr\\2_Tablet_Aug5.nii.gz\n",
      "Saved slices to D:\\Darren\\Files\\training\\tiff\\Task501_ParticleSeg3D\\labelsTr\\2_Tablet_Aug5\n",
      "Processing D:\\Darren\\Files\\training\\nnUNet_preprocessed\\Task501_ParticleSeg3D\\labelsTr\\4_GenericD12_Aug1.nii.gz\n",
      "Saved slices to D:\\Darren\\Files\\training\\tiff\\Task501_ParticleSeg3D\\labelsTr\\4_GenericD12_Aug1\n",
      "Processing D:\\Darren\\Files\\training\\nnUNet_preprocessed\\Task501_ParticleSeg3D\\labelsTr\\4_GenericD12_Aug2.nii.gz\n",
      "Saved slices to D:\\Darren\\Files\\training\\tiff\\Task501_ParticleSeg3D\\labelsTr\\4_GenericD12_Aug2\n",
      "Processing D:\\Darren\\Files\\training\\nnUNet_preprocessed\\Task501_ParticleSeg3D\\labelsTr\\4_GenericD12_Aug3.nii.gz\n",
      "Saved slices to D:\\Darren\\Files\\training\\tiff\\Task501_ParticleSeg3D\\labelsTr\\4_GenericD12_Aug3\n",
      "Processing D:\\Darren\\Files\\training\\nnUNet_preprocessed\\Task501_ParticleSeg3D\\labelsTr\\4_GenericD12_Aug4.nii.gz\n",
      "Saved slices to D:\\Darren\\Files\\training\\tiff\\Task501_ParticleSeg3D\\labelsTr\\4_GenericD12_Aug4\n",
      "Processing D:\\Darren\\Files\\training\\nnUNet_preprocessed\\Task501_ParticleSeg3D\\labelsTr\\4_GenericD12_Aug5.nii.gz\n",
      "Saved slices to D:\\Darren\\Files\\training\\tiff\\Task501_ParticleSeg3D\\labelsTr\\4_GenericD12_Aug5\n",
      "Processing D:\\Darren\\Files\\training\\nnUNet_preprocessed\\Task501_ParticleSeg3D\\labelsTr\\5_ClaritinD12_Aug1.nii.gz\n",
      "Saved slices to D:\\Darren\\Files\\training\\tiff\\Task501_ParticleSeg3D\\labelsTr\\5_ClaritinD12_Aug1\n",
      "Processing D:\\Darren\\Files\\training\\nnUNet_preprocessed\\Task501_ParticleSeg3D\\labelsTr\\5_ClaritinD12_Aug2.nii.gz\n",
      "Saved slices to D:\\Darren\\Files\\training\\tiff\\Task501_ParticleSeg3D\\labelsTr\\5_ClaritinD12_Aug2\n",
      "Processing D:\\Darren\\Files\\training\\nnUNet_preprocessed\\Task501_ParticleSeg3D\\labelsTr\\5_ClaritinD12_Aug3.nii.gz\n",
      "Saved slices to D:\\Darren\\Files\\training\\tiff\\Task501_ParticleSeg3D\\labelsTr\\5_ClaritinD12_Aug3\n",
      "Processing D:\\Darren\\Files\\training\\nnUNet_preprocessed\\Task501_ParticleSeg3D\\labelsTr\\5_ClaritinD12_Aug4.nii.gz\n",
      "Saved slices to D:\\Darren\\Files\\training\\tiff\\Task501_ParticleSeg3D\\labelsTr\\5_ClaritinD12_Aug4\n",
      "Processing D:\\Darren\\Files\\training\\nnUNet_preprocessed\\Task501_ParticleSeg3D\\labelsTr\\5_ClaritinD12_Aug5.nii.gz\n",
      "Saved slices to D:\\Darren\\Files\\training\\tiff\\Task501_ParticleSeg3D\\labelsTr\\5_ClaritinD12_Aug5\n",
      "Conversion complete!\n"
     ]
    }
   ],
   "source": [
    "import os\n",
    "import nibabel as nib\n",
    "import numpy as np\n",
    "from PIL import Image\n",
    "\n",
    "# Define input and output directories\n",
    "input_dir = r'D:\\Darren\\Files\\training\\nnUNet_preprocessed\\Task501_ParticleSeg3D\\labelsTr'\n",
    "output_dir = r'D:\\Darren\\Files\\training\\tiff\\Task501_ParticleSeg3D\\labelsTr'\n",
    "\n",
    "# Create output directory if it doesn't exist\n",
    "os.makedirs(output_dir, exist_ok=True)\n",
    "\n",
    "# Process each .nii.gz file in the input directory\n",
    "for filename in os.listdir(input_dir):\n",
    "    if filename.endswith('.nii') or filename.endswith('.nii.gz'):\n",
    "        nii_path = os.path.join(input_dir, filename)\n",
    "        print(f\"Processing {nii_path}\")\n",
    "\n",
    "        # Load the NIfTI file\n",
    "        nifti_img = nib.load(nii_path)\n",
    "        nifti_data = nifti_img.get_fdata()\n",
    "\n",
    "        # Replace values: 2 → 127, 1 → 255\n",
    "        nifti_data = np.where(nifti_data == 2, 127, nifti_data)\n",
    "        nifti_data = np.where(nifti_data == 1, 255, nifti_data)\n",
    "\n",
    "        # Convert to uint8 for saving\n",
    "        nifti_data = nifti_data.astype(np.uint8)\n",
    "\n",
    "        # Create an output subdirectory for this file\n",
    "        file_stem = os.path.splitext(os.path.splitext(filename)[0])[0]  # Remove .nii.gz or .nii\n",
    "        output_subdir = os.path.join(output_dir, file_stem)\n",
    "        os.makedirs(output_subdir, exist_ok=True)\n",
    "\n",
    "        # Save each slice as a TIFF file\n",
    "        for i in range(nifti_data.shape[2]):  # Assuming slices are along the third dimension\n",
    "            slice_data = nifti_data[:, :, i]\n",
    "            image = Image.fromarray(slice_data)\n",
    "            image.save(os.path.join(output_subdir, f\"slice_{i}.tiff\"))\n",
    "\n",
    "        print(f\"Saved slices to {output_subdir}\")\n",
    "\n",
    "print(\"Conversion complete!\")\n"
   ]
  },
  {
   "cell_type": "code",
   "execution_count": null,
   "metadata": {},
   "outputs": [],
   "source": []
  }
 ],
 "metadata": {
  "kernelspec": {
   "display_name": "Senior_Design_py310_source",
   "language": "python",
   "name": "python3"
  },
  "language_info": {
   "codemirror_mode": {
    "name": "ipython",
    "version": 3
   },
   "file_extension": ".py",
   "mimetype": "text/x-python",
   "name": "python",
   "nbconvert_exporter": "python",
   "pygments_lexer": "ipython3",
   "version": "3.10.16"
  }
 },
 "nbformat": 4,
 "nbformat_minor": 2
}
