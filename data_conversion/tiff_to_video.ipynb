{
 "cells": [
  {
   "cell_type": "markdown",
   "metadata": {},
   "source": [
    "# TIFF to MP4/GIF Conversion"
   ]
  },
  {
   "cell_type": "code",
   "execution_count": 9,
   "metadata": {},
   "outputs": [],
   "source": [
    "import tifffile as tiff\n",
    "import os\n",
    "import numpy as np\n",
    "import dask.array as da\n",
    "import dask\n",
    "from dask.delayed import delayed\n",
    "import subprocess\n",
    "from dask.diagnostics import ProgressBar\n",
    "import imageio\n",
    "\n",
    "# Set Dask to use multi-threading for better performance\n",
    "dask.config.set(scheduler=\"threads\")\n",
    "\n",
    "import subprocess\n",
    "\n",
    "def speed_up_video_ffmpeg(input_path, speed_factor): # I think this is super duper slow\n",
    "    \"\"\"\n",
    "    Speeds up an MP4 video using FFmpeg with NVIDIA GPU hardware acceleration (NVENC),\n",
    "    without processing the audio.\n",
    "    \n",
    "    :param input_path: Path to the input MP4 file.\n",
    "    :param speed_factor: Factor by which to speed up the video (e.g., 2.0 for double speed).\n",
    "    \"\"\"\n",
    "    # Adjust the setpts filter for speeding up the video\n",
    "    video_filter = f\"setpts=1/{speed_factor}*PTS\"\n",
    "\n",
    "    # Output path\n",
    "    filename, file_format = os.path.splitext(input_path)  # Splits into \"video\" and \".mp4\"\n",
    "    output_path = f\"{filename}_speed{speed_factor}{file_format}\"  # \"video_speed2.mp4\"\n",
    "\n",
    "    # Create the FFmpeg command\n",
    "    speed_cmd = [\n",
    "        \"ffmpeg\", \"-hwaccel\", \"cuda\", \"-i\", input_path, \n",
    "        \"-vf\", video_filter,  # Use -vf instead of -filter:v\n",
    "        \"-c:v\", \"h264_nvenc\", \"-preset\", \"veryfast\",  \n",
    "        \"-vsync\", \"0\",  \n",
    "        \"-threads\", \"8\",\n",
    "        \"-an\",  \n",
    "        output_path\n",
    "    ]\n",
    "\n",
    "    \n",
    "    try:\n",
    "        # Execute the FFmpeg command and capture output\n",
    "        result = subprocess.run(speed_cmd, check=True, capture_output=True, text=True)\n",
    "        print(result.stdout)  # Print FFmpeg output\n",
    "    except subprocess.CalledProcessError as e:\n",
    "        # Print error output\n",
    "        print(\"Error occurred:\")\n",
    "        print(e.stderr)\n",
    "\n",
    "\n",
    "def convert_tiff_to_video(tiff_path: str, img_name: list[str], img_shape: list[tuple], file_format: str = 'mp4', video_length: int = 100, fps: int = None,  speed_factor: float = 1.0):\n",
    "    \"\"\"\n",
    "    Converts a folder of TIFF images into a video animation (MP4 or GIF) using imageio.\n",
    "    \n",
    "    Parameters:\n",
    "        tiff_path (str): Base path to the folder containing TIFF images.\n",
    "        img_name (list of str): List of folder names to process.\n",
    "        img_shape (list of tuple): List of the dimensions of the images.\n",
    "        file_format (str): Format of the output video ('mp4' or 'gif'). Defaults to 'mp4'.\n",
    "        video_length (int): Desired length of the video in seconds (automatically calculates FPS). Only works if fps=None. Defaults to 100.\n",
    "        fps (int): Frames per second for the output video. Overrides video_length Defaults to None.\n",
    "        speed_factor (float): Factor to speed up video by. Defaults to 1.0.\n",
    "    \"\"\"\n",
    "    if len(img_name)!=len(img_shape):\n",
    "        raise ValueError(f\"The number of image names and image shapes do not match\")\n",
    "    \n",
    "    video_path = tiff_path.replace('tiff', 'video')\n",
    "    os.makedirs(video_path, exist_ok=True)\n",
    "    \n",
    "    for name, shape in zip(img_name, img_shape):\n",
    "        folder_path = os.path.join(tiff_path, name)\n",
    "        save_path = os.path.join(video_path, name)\n",
    "        os.makedirs(save_path, exist_ok=True)\n",
    "        output_file = os.path.join(save_path, f\"{name}.{file_format}\")\n",
    "\n",
    "        tiff_files = sorted(\n",
    "            [os.path.join(folder_path, f) for f in os.listdir(folder_path) if f.lower().endswith('.tiff')]\n",
    "        )\n",
    "\n",
    "        if not tiff_files:\n",
    "            print(f\"Warning: No TIFF files found in {folder_path}. Skipping...\")\n",
    "            continue\n",
    "\n",
    "        # Read images and create a list of frames\n",
    "        lazy_images = [delayed(tiff.imread)(f) for f in tiff_files]\n",
    "        image_stack = da.stack([da.from_delayed(img, shape=shape, dtype=np.uint8) for img in lazy_images])\n",
    "\n",
    "        # Compute the image stack (parallelized)\n",
    "        with ProgressBar():\n",
    "            image_stack = image_stack.compute()\n",
    "\n",
    "        num_frames = image_stack.shape[0]\n",
    "        if fps is None:\n",
    "            fps = max(1, round(num_frames / video_length))\n",
    "\n",
    "        # Save frames directly into a video file (no napari display)\n",
    "        output_file = os.path.join(save_path, f\"{name}.{file_format}\")\n",
    "        with imageio.get_writer(output_file, mode='I', fps=fps) as writer:\n",
    "            for i in range(num_frames):\n",
    "                writer.append_data(image_stack[i])\n",
    "\n",
    "        print(f\"Animation saved at: {output_file}\")\n",
    "\n",
    "        if file_format == 'mp4' and speed_factor != 1.0:\n",
    "            speed_up_video_ffmpeg(output_file, speed_factor)"
   ]
  },
  {
   "cell_type": "code",
   "execution_count": 34,
   "metadata": {},
   "outputs": [
    {
     "name": "stdout",
     "output_type": "stream",
     "text": [
      "[########################################] | 100% Completed | 2.56 sms\n"
     ]
    },
    {
     "name": "stderr",
     "output_type": "stream",
     "text": [
      "IMAGEIO FFMPEG_WRITER WARNING: input image is not divisible by macro_block_size=16, resizing from (1541, 1541) to (1552, 1552) to ensure video compatibility with most codecs and players. To prevent resizing, make your input image divisible by the macro_block_size or set the macro_block_size to 1 (risking incompatibility).\n"
     ]
    },
    {
     "name": "stdout",
     "output_type": "stream",
     "text": [
      "Animation saved at: D:\\Darren\\Files\\outputs\\video\\pretrained_mcc40\\6_30pWTMCC\\6_30pWTMCC.mp4\n"
     ]
    }
   ],
   "source": [
    "# tiff_path = r'D:\\Darren\\Files\\outputs\\tiff\\pretrained_mic50_tab30_spray60'\n",
    "tiff_path = r'D:\\Darren\\Files\\outputs\\tiff\\pretrained_mcc40'\n",
    "\n",
    "# convert_tiff_to_video(tiff_path, ['1_Microsphere'], [(1373, 1041)], 'mp4', video_length=45)\n",
    "# convert_tiff_to_video(tiff_path, ['2_Tablet'], [(747, 593)], 'mp4', video_length=45)\n",
    "# convert_tiff_to_video(tiff_path, ['3_SprayDriedDispersion'], [(824, 824)], 'mp4', video_length=30)\n",
    "# convert_tiff_to_video(tiff_path, ['4_GenericD12'], [(954, 569)], 'mp4', video_length=30)\n",
    "# convert_tiff_to_video(tiff_path, ['5_ClaritinD12'], [(1004, 589)], 'mp4', video_length=30)\n",
    "convert_tiff_to_video(tiff_path, ['6_30pWTMCC'], [(1541, 1541)], 'mp4', video_length=30)"
   ]
  }
 ],
 "metadata": {
  "kernelspec": {
   "display_name": "Senior_Design_py310_refine",
   "language": "python",
   "name": "python3"
  },
  "language_info": {
   "codemirror_mode": {
    "name": "ipython",
    "version": 3
   },
   "file_extension": ".py",
   "mimetype": "text/x-python",
   "name": "python",
   "nbconvert_exporter": "python",
   "pygments_lexer": "ipython3",
   "version": "3.10.16"
  }
 },
 "nbformat": 4,
 "nbformat_minor": 2
}
