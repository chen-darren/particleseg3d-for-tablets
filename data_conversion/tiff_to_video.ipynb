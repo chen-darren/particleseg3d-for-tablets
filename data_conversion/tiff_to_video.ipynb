{
 "cells": [
  {
   "cell_type": "markdown",
   "metadata": {},
   "source": [
    "# TIFF to MP4/GIF Conversion"
   ]
  },
  {
   "cell_type": "code",
   "execution_count": null,
   "metadata": {},
   "outputs": [],
   "source": [
    "import tifffile as tiff\n",
    "import os\n",
    "import numpy as np\n",
    "import dask.array as da\n",
    "import dask\n",
    "from dask.delayed import delayed\n",
    "from dask.diagnostics import ProgressBar\n",
    "import imageio\n",
    "\n",
    "# Set Dask to use multi-threading for better performance\n",
    "dask.config.set(scheduler=\"threads\")\n",
    "\n",
    "def convert_tiff_to_video(tiff_path: str, img_name: list[str], img_shape: list[tuple], file_format: str = 'mp4', video_length: int = 100, fps: int = None,  speed_factor: float = 1.0):\n",
    "    \"\"\"\n",
    "    Converts a folder of TIFF images into a video animation (MP4 or GIF) using imageio.\n",
    "    \n",
    "    Parameters:\n",
    "        tiff_path (str): Base path to the folder containing TIFF images.\n",
    "        img_name (list of str): List of folder names to process.\n",
    "        img_shape (list of tuple): List of the dimensions of the images.\n",
    "        file_format (str): Format of the output video ('mp4' or 'gif'). Defaults to 'mp4'.\n",
    "        video_length (int): Desired length of the video in seconds (automatically calculates FPS). Only works if fps=None. Defaults to 100.\n",
    "        fps (int): Frames per second for the output video. Overrides video_length Defaults to None.\n",
    "        speed_factor (float): Factor to speed up video by. Defaults to 1.0.\n",
    "    \"\"\"\n",
    "    if len(img_name)!=len(img_shape):\n",
    "        raise ValueError(f\"The number of image names and image shapes do not match\")\n",
    "    \n",
    "    video_path = tiff_path.replace('tiff', 'video')\n",
    "    os.makedirs(video_path, exist_ok=True)\n",
    "    \n",
    "    for name, shape in zip(img_name, img_shape):\n",
    "        folder_path = os.path.join(tiff_path, name)\n",
    "        save_path = os.path.join(video_path, name)\n",
    "        os.makedirs(save_path, exist_ok=True)\n",
    "        output_file = os.path.join(save_path, f\"{name}.{file_format}\")\n",
    "\n",
    "        tiff_files = sorted(\n",
    "            [os.path.join(folder_path, f) for f in os.listdir(folder_path) if f.lower().endswith('.tiff')]\n",
    "        )\n",
    "\n",
    "        if not tiff_files:\n",
    "            print(f\"Warning: No TIFF files found in {folder_path}. Skipping...\")\n",
    "            continue\n",
    "\n",
    "        # Read images and create a list of frames\n",
    "        lazy_images = [delayed(tiff.imread)(f) for f in tiff_files]\n",
    "        image_stack = da.stack([da.from_delayed(img, shape=shape, dtype=np.uint8) for img in lazy_images])\n",
    "\n",
    "        # Compute the image stack (parallelized)\n",
    "        with ProgressBar():\n",
    "            image_stack = image_stack.compute()\n",
    "\n",
    "        num_frames = image_stack.shape[0]\n",
    "        if fps is None:\n",
    "            fps = max(1, round(num_frames / video_length))\n",
    "\n",
    "        # Save frames directly into a video file (no napari display)\n",
    "        output_file = os.path.join(save_path, f\"{name}.{file_format}\")\n",
    "        with imageio.get_writer(output_file, mode='I', fps=fps) as writer:\n",
    "            for i in range(num_frames):\n",
    "                writer.append_data(image_stack[i])\n",
    "\n",
    "        print(f\"Animation saved at: {output_file}\")"
   ]
  },
  {
   "cell_type": "code",
   "execution_count": 9,
   "metadata": {},
   "outputs": [
    {
     "name": "stdout",
     "output_type": "stream",
     "text": [
      "[########################################] | 100% Completed | 3.52 sms\n"
     ]
    },
    {
     "ename": "TypeError",
     "evalue": "TiffWriter.write() got an unexpected keyword argument 'fps'",
     "output_type": "error",
     "traceback": [
      "\u001b[1;31m---------------------------------------------------------------------------\u001b[0m",
      "\u001b[1;31mTypeError\u001b[0m                                 Traceback (most recent call last)",
      "Cell \u001b[1;32mIn[9], line 6\u001b[0m\n\u001b[0;32m      3\u001b[0m tiff_path \u001b[38;5;241m=\u001b[39m \u001b[38;5;124mr\u001b[39m\u001b[38;5;124m'\u001b[39m\u001b[38;5;124mD:\u001b[39m\u001b[38;5;124m\\\u001b[39m\u001b[38;5;124mDarren\u001b[39m\u001b[38;5;124m\\\u001b[39m\u001b[38;5;124mFiles\u001b[39m\u001b[38;5;124m\\\u001b[39m\u001b[38;5;124moutputs\u001b[39m\u001b[38;5;124m\\\u001b[39m\u001b[38;5;124mtiff\u001b[39m\u001b[38;5;124m\\\u001b[39m\u001b[38;5;124mpretrained_tab40_gen35_clar35_zscore245\u001b[39m\u001b[38;5;124m'\u001b[39m\n\u001b[0;32m      5\u001b[0m \u001b[38;5;66;03m# convert_tiff_to_video(tiff_path, ['1_Microsphere'], [(1373, 1041)], 'mp4', video_length=45)\u001b[39;00m\n\u001b[1;32m----> 6\u001b[0m \u001b[43mconvert_tiff_to_video\u001b[49m\u001b[43m(\u001b[49m\u001b[43mtiff_path\u001b[49m\u001b[43m,\u001b[49m\u001b[43m \u001b[49m\u001b[43m[\u001b[49m\u001b[38;5;124;43m'\u001b[39;49m\u001b[38;5;124;43m2_Tablet\u001b[39;49m\u001b[38;5;124;43m'\u001b[39;49m\u001b[43m]\u001b[49m\u001b[43m,\u001b[49m\u001b[43m \u001b[49m\u001b[43m[\u001b[49m\u001b[43m(\u001b[49m\u001b[38;5;241;43m747\u001b[39;49m\u001b[43m,\u001b[49m\u001b[43m \u001b[49m\u001b[38;5;241;43m593\u001b[39;49m\u001b[43m)\u001b[49m\u001b[43m]\u001b[49m\u001b[43m,\u001b[49m\u001b[43m \u001b[49m\u001b[38;5;124;43m'\u001b[39;49m\u001b[38;5;124;43mmp4\u001b[39;49m\u001b[38;5;124;43m'\u001b[39;49m\u001b[43m,\u001b[49m\u001b[43m \u001b[49m\u001b[43mvideo_length\u001b[49m\u001b[38;5;241;43m=\u001b[39;49m\u001b[38;5;241;43m45\u001b[39;49m\u001b[43m)\u001b[49m\n\u001b[0;32m      7\u001b[0m \u001b[38;5;66;03m# convert_tiff_to_video(tiff_path, ['3_SprayDriedDispersion'], [(824, 824)], 'mp4', video_length=30)\u001b[39;00m\n\u001b[0;32m      8\u001b[0m convert_tiff_to_video(tiff_path, [\u001b[38;5;124m'\u001b[39m\u001b[38;5;124m4_GenericD12\u001b[39m\u001b[38;5;124m'\u001b[39m], [(\u001b[38;5;241m954\u001b[39m, \u001b[38;5;241m569\u001b[39m)], \u001b[38;5;124m'\u001b[39m\u001b[38;5;124mmp4\u001b[39m\u001b[38;5;124m'\u001b[39m, video_length\u001b[38;5;241m=\u001b[39m\u001b[38;5;241m30\u001b[39m)\n",
      "Cell \u001b[1;32mIn[8], line 59\u001b[0m, in \u001b[0;36mconvert_tiff_to_video\u001b[1;34m(tiff_path, img_name, img_shape, file_format, video_length, fps, speed_factor)\u001b[0m\n\u001b[0;32m     57\u001b[0m \u001b[38;5;28;01mwith\u001b[39;00m imageio\u001b[38;5;241m.\u001b[39mget_writer(output_file, mode\u001b[38;5;241m=\u001b[39m\u001b[38;5;124m'\u001b[39m\u001b[38;5;124mI\u001b[39m\u001b[38;5;124m'\u001b[39m, fps\u001b[38;5;241m=\u001b[39mfps) \u001b[38;5;28;01mas\u001b[39;00m writer:\n\u001b[0;32m     58\u001b[0m     \u001b[38;5;28;01mfor\u001b[39;00m i \u001b[38;5;129;01min\u001b[39;00m \u001b[38;5;28mrange\u001b[39m(num_frames):\n\u001b[1;32m---> 59\u001b[0m         \u001b[43mwriter\u001b[49m\u001b[38;5;241;43m.\u001b[39;49m\u001b[43mappend_data\u001b[49m\u001b[43m(\u001b[49m\u001b[43mimage_stack\u001b[49m\u001b[43m[\u001b[49m\u001b[43mi\u001b[49m\u001b[43m]\u001b[49m\u001b[43m)\u001b[49m\n\u001b[0;32m     61\u001b[0m \u001b[38;5;28mprint\u001b[39m(\u001b[38;5;124mf\u001b[39m\u001b[38;5;124m\"\u001b[39m\u001b[38;5;124mAnimation saved at: \u001b[39m\u001b[38;5;132;01m{\u001b[39;00moutput_file\u001b[38;5;132;01m}\u001b[39;00m\u001b[38;5;124m\"\u001b[39m)\n",
      "File \u001b[1;32mc:\\Users\\ZEISS\\anaconda3\\envs\\Senior_Design_py310_source\\lib\\site-packages\\imageio\\v2.py:226\u001b[0m, in \u001b[0;36mLegacyWriter.append_data\u001b[1;34m(self, im, meta)\u001b[0m\n\u001b[0;32m    214\u001b[0m     warnings\u001b[38;5;241m.\u001b[39mwarn(\n\u001b[0;32m    215\u001b[0m         \u001b[38;5;124m\"\u001b[39m\u001b[38;5;124mV3 Plugins currently don\u001b[39m\u001b[38;5;124m'\u001b[39m\u001b[38;5;124mt have a uniform way to\u001b[39m\u001b[38;5;124m\"\u001b[39m\n\u001b[0;32m    216\u001b[0m         \u001b[38;5;124m\"\u001b[39m\u001b[38;5;124m write metadata, so any metadata is ignored.\u001b[39m\u001b[38;5;124m\"\u001b[39m\n\u001b[0;32m    217\u001b[0m     )\n\u001b[0;32m    219\u001b[0m \u001b[38;5;66;03m# total_meta = dict()\u001b[39;00m\n\u001b[0;32m    220\u001b[0m \u001b[38;5;66;03m# if meta is None:\u001b[39;00m\n\u001b[0;32m    221\u001b[0m \u001b[38;5;66;03m#     meta = {}\u001b[39;00m\n\u001b[0;32m    222\u001b[0m \u001b[38;5;66;03m# if hasattr(im, \"meta\") and isinstance(im.meta, dict):\u001b[39;00m\n\u001b[0;32m    223\u001b[0m \u001b[38;5;66;03m#     total_meta.update(im.meta)\u001b[39;00m\n\u001b[0;32m    224\u001b[0m \u001b[38;5;66;03m# total_meta.update(meta)\u001b[39;00m\n\u001b[1;32m--> 226\u001b[0m \u001b[38;5;28;01mreturn\u001b[39;00m \u001b[38;5;28mself\u001b[39m\u001b[38;5;241m.\u001b[39minstance\u001b[38;5;241m.\u001b[39mwrite(im, \u001b[38;5;241m*\u001b[39m\u001b[38;5;241m*\u001b[39m\u001b[38;5;28mself\u001b[39m\u001b[38;5;241m.\u001b[39mwrite_args)\n",
      "File \u001b[1;32mc:\\Users\\ZEISS\\anaconda3\\envs\\Senior_Design_py310_source\\lib\\site-packages\\imageio\\plugins\\tifffile_v3.py:224\u001b[0m, in \u001b[0;36mTifffilePlugin.write\u001b[1;34m(self, ndimage, is_batch, **kwargs)\u001b[0m\n\u001b[0;32m    221\u001b[0m     ndimage \u001b[38;5;241m=\u001b[39m np\u001b[38;5;241m.\u001b[39masarray(ndimage)[\u001b[38;5;28;01mNone\u001b[39;00m, :]\n\u001b[0;32m    223\u001b[0m \u001b[38;5;28;01mfor\u001b[39;00m image \u001b[38;5;129;01min\u001b[39;00m ndimage:\n\u001b[1;32m--> 224\u001b[0m     \u001b[38;5;28mself\u001b[39m\u001b[38;5;241m.\u001b[39m_fh\u001b[38;5;241m.\u001b[39mwrite(image, \u001b[38;5;241m*\u001b[39m\u001b[38;5;241m*\u001b[39mkwargs)\n\u001b[0;32m    226\u001b[0m \u001b[38;5;28;01mif\u001b[39;00m \u001b[38;5;28mself\u001b[39m\u001b[38;5;241m.\u001b[39m_request\u001b[38;5;241m.\u001b[39m_uri_type \u001b[38;5;241m==\u001b[39m URI_BYTES:\n\u001b[0;32m    227\u001b[0m     \u001b[38;5;28mself\u001b[39m\u001b[38;5;241m.\u001b[39m_fh\u001b[38;5;241m.\u001b[39mclose()\n",
      "\u001b[1;31mTypeError\u001b[0m: TiffWriter.write() got an unexpected keyword argument 'fps'"
     ]
    }
   ],
   "source": [
    "# tiff_path = r'D:\\Darren\\Files\\outputs\\tiff\\pretrained_gen35_zscore4'\n",
    "# tiff_path = r'D:\\Darren\\Files\\outputs\\tiff\\pretrained_clar35_zscore5'\n",
    "tiff_path = r'D:\\Darren\\Files\\outputs\\tiff\\pretrained_tab40_gen35_clar35_zscore245'\n",
    "\n",
    "# convert_tiff_to_video(tiff_path, ['1_Microsphere'], [(1373, 1041)], 'mp4', video_length=45)\n",
    "convert_tiff_to_video(tiff_path, ['2_Tablet'], [(747, 593)], 'mp4', video_length=45)\n",
    "# convert_tiff_to_video(tiff_path, ['3_SprayDriedDispersion'], [(824, 824)], 'mp4', video_length=30)\n",
    "convert_tiff_to_video(tiff_path, ['4_GenericD12'], [(954, 569)], 'mp4', video_length=30)\n",
    "convert_tiff_to_video(tiff_path, ['5_ClaritinD12'], [(1004, 589)], 'mp4', video_length=30)\n",
    "# convert_tiff_to_video(tiff_path, ['6_30pWTMCC'], [(1541, 1541)], 'mp4', video_length=30)"
   ]
  }
 ],
 "metadata": {
  "kernelspec": {
   "display_name": "Senior_Design_py310_source",
   "language": "python",
   "name": "python3"
  },
  "language_info": {
   "codemirror_mode": {
    "name": "ipython",
    "version": 3
   },
   "file_extension": ".py",
   "mimetype": "text/x-python",
   "name": "python",
   "nbconvert_exporter": "python",
   "pygments_lexer": "ipython3",
   "version": "3.10.16"
  }
 },
 "nbformat": 4,
 "nbformat_minor": 2
}
