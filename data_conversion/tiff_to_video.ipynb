{
 "cells": [
  {
   "cell_type": "markdown",
   "metadata": {},
   "source": [
    "# TIFF to MP4/GIF Conversion"
   ]
  },
  {
   "cell_type": "code",
   "execution_count": 27,
   "metadata": {},
   "outputs": [],
   "source": [
    "import tifffile as tiff\n",
    "import os\n",
    "import numpy as np\n",
    "import dask.array as da\n",
    "import dask\n",
    "from dask.delayed import delayed\n",
    "from dask.diagnostics import ProgressBar\n",
    "import imageio\n",
    "\n",
    "# Set Dask to use multi-threading for better performance\n",
    "dask.config.set(scheduler=\"threads\")\n",
    "\n",
    "def convert_tiff_to_video(tiff_path: str, img_name: list[str], img_shape: list[tuple], file_format: str = 'mp4', video_length: int = 100, fps: int = None, speed_factor: float = 1.0):\n",
    "    \"\"\"\n",
    "    Converts a folder of TIFF images into a video animation (MP4 or GIF) using imageio.\n",
    "    Converts each image to binary where all values > 0 are set to 255.\n",
    "    \n",
    "    Parameters:\n",
    "        tiff_path (str): Base path to the folder containing TIFF images.\n",
    "        img_name (list of str): List of folder names to process.\n",
    "        img_shape (list of tuple): List of the dimensions of the images.\n",
    "        file_format (str): Format of the output video ('mp4' or 'gif'). Defaults to 'mp4'.\n",
    "        video_length (int): Desired length of the video in seconds (automatically calculates FPS). Only works if fps=None. Defaults to 100.\n",
    "        fps (int): Frames per second for the output video. Overrides video_length. Defaults to None.\n",
    "        speed_factor (float): Factor to speed up video by. Defaults to 1.0.\n",
    "    \"\"\"\n",
    "    if len(img_name) != len(img_shape):\n",
    "        raise ValueError(f\"The number of image names and image shapes do not match\")\n",
    "\n",
    "    video_path = tiff_path.replace('tiff', 'video')\n",
    "    os.makedirs(video_path, exist_ok=True)\n",
    "\n",
    "    for name, shape in zip(img_name, img_shape):\n",
    "        folder_path = os.path.join(tiff_path, name)\n",
    "        save_path = os.path.join(video_path, name)\n",
    "        os.makedirs(save_path, exist_ok=True)\n",
    "        output_file = os.path.join(save_path, f\"{name}.{file_format}\")\n",
    "\n",
    "        tiff_files = sorted(\n",
    "            [os.path.join(folder_path, f) for f in os.listdir(folder_path) if f.lower().endswith('.tiff')]\n",
    "        )\n",
    "\n",
    "        if not tiff_files:\n",
    "            print(f\"Warning: No TIFF files found in {folder_path}. Skipping...\")\n",
    "            continue\n",
    "\n",
    "        # Read images, convert to binary, and create a list of frames\n",
    "        lazy_images = [delayed(lambda f: (tiff.imread(f) > 0).astype(np.uint8) * 255)(f) for f in tiff_files]\n",
    "        image_stack = da.stack([da.from_delayed(img, shape=shape, dtype=np.uint8) for img in lazy_images])\n",
    "\n",
    "        # Compute the image stack (parallelized)\n",
    "        with ProgressBar():\n",
    "            image_stack = image_stack.compute()\n",
    "\n",
    "        num_frames = image_stack.shape[0]\n",
    "        if fps is None:\n",
    "            fps = max(1, round(num_frames / video_length))\n",
    "\n",
    "        # Save frames directly into a video file (no napari display)\n",
    "        output_file = os.path.join(save_path, f\"{name}.{file_format}\")\n",
    "        with imageio.get_writer(output_file, mode='I', format='FFMPEG', fps=fps) as writer:\n",
    "            for i in range(num_frames):\n",
    "                writer.append_data(image_stack[i])\n",
    "\n",
    "        print(f\"Animation saved at: {output_file}\")"
   ]
  },
  {
   "cell_type": "code",
   "execution_count": 28,
   "metadata": {},
   "outputs": [
    {
     "name": "stdout",
     "output_type": "stream",
     "text": [
      "[########################################] | 100% Completed | 3.50 sms\n"
     ]
    },
    {
     "name": "stderr",
     "output_type": "stream",
     "text": [
      "IMAGEIO FFMPEG_WRITER WARNING: input image is not divisible by macro_block_size=16, resizing from (747, 593) to (752, 608) to ensure video compatibility with most codecs and players. To prevent resizing, make your input image divisible by the macro_block_size or set the macro_block_size to 1 (risking incompatibility).\n"
     ]
    },
    {
     "name": "stdout",
     "output_type": "stream",
     "text": [
      "Animation saved at: D:\\Darren\\Files\\outputs\\video\\pretrained_tab40_gen35_clar35_fold3\\2_Tablet\\2_Tablet.mp4\n",
      "[########################################] | 100% Completed | 3.19 sms\n"
     ]
    },
    {
     "name": "stderr",
     "output_type": "stream",
     "text": [
      "IMAGEIO FFMPEG_WRITER WARNING: input image is not divisible by macro_block_size=16, resizing from (954, 569) to (960, 576) to ensure video compatibility with most codecs and players. To prevent resizing, make your input image divisible by the macro_block_size or set the macro_block_size to 1 (risking incompatibility).\n"
     ]
    },
    {
     "name": "stdout",
     "output_type": "stream",
     "text": [
      "Animation saved at: D:\\Darren\\Files\\outputs\\video\\pretrained_tab40_gen35_clar35_fold3\\4_GenericD12\\4_GenericD12.mp4\n",
      "[########################################] | 100% Completed | 3.45 sms\n"
     ]
    },
    {
     "name": "stderr",
     "output_type": "stream",
     "text": [
      "IMAGEIO FFMPEG_WRITER WARNING: input image is not divisible by macro_block_size=16, resizing from (1004, 589) to (1008, 592) to ensure video compatibility with most codecs and players. To prevent resizing, make your input image divisible by the macro_block_size or set the macro_block_size to 1 (risking incompatibility).\n"
     ]
    },
    {
     "name": "stdout",
     "output_type": "stream",
     "text": [
      "Animation saved at: D:\\Darren\\Files\\outputs\\video\\pretrained_tab40_gen35_clar35_fold3\\5_ClaritinD12\\5_ClaritinD12.mp4\n"
     ]
    }
   ],
   "source": [
    "# tiff_path = r'D:\\Darren\\Files\\outputs\\tiff\\pretrained_gen35_zscore4'\n",
    "# tiff_path = r'D:\\Darren\\Files\\outputs\\tiff\\pretrained_clar35_zscore5'\n",
    "tiff_path = r'D:\\Darren\\Files\\outputs\\tiff\\pretrained_tab40_gen35_clar35_fold3'\n",
    "# tiff_path = r'D:\\Darren\\Files\\outputs\\tiff\\pretrained_tab40_gen35_clar35_foldsALL'\n",
    "\n",
    "# convert_tiff_to_video(tiff_path, ['1_Microsphere'], [(1373, 1041)], 'mp4', video_length=45)\n",
    "convert_tiff_to_video(tiff_path, ['2_Tablet'], [(747, 593)], 'mp4', video_length=45)\n",
    "# convert_tiff_to_video(tiff_path, ['3_SprayDriedDispersion'], [(824, 824)], 'mp4', video_length=30)\n",
    "convert_tiff_to_video(tiff_path, ['4_GenericD12'], [(954, 569)], 'mp4', video_length=30)\n",
    "convert_tiff_to_video(tiff_path, ['5_ClaritinD12'], [(1004, 589)], 'mp4', video_length=30)\n",
    "# convert_tiff_to_video(tiff_path, ['6_30pWTMCC'], [(1541, 1541)], 'mp4', video_length=30)"
   ]
  }
 ],
 "metadata": {
  "kernelspec": {
   "display_name": "Senior_Design_py310_source",
   "language": "python",
   "name": "python3"
  },
  "language_info": {
   "codemirror_mode": {
    "name": "ipython",
    "version": 3
   },
   "file_extension": ".py",
   "mimetype": "text/x-python",
   "name": "python",
   "nbconvert_exporter": "python",
   "pygments_lexer": "ipython3",
   "version": "3.10.16"
  }
 },
 "nbformat": 4,
 "nbformat_minor": 2
}
