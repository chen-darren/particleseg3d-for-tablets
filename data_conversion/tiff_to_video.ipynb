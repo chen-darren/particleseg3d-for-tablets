{
 "cells": [
  {
   "cell_type": "markdown",
   "metadata": {},
   "source": [
    "# TIFF to MP4/GIF Conversion"
   ]
  },
  {
   "cell_type": "code",
   "execution_count": null,
   "metadata": {},
   "outputs": [
    {
     "data": {
      "text/plain": [
       "<dask.config.set at 0x20dc83c85b0>"
      ]
     },
     "execution_count": 6,
     "metadata": {},
     "output_type": "execute_result"
    }
   ],
   "source": [
    "import napari\n",
    "import tifffile as tiff\n",
    "import os\n",
    "import numpy as np\n",
    "import dask.array as da\n",
    "import dask\n",
    "from dask.delayed import delayed\n",
    "from napari_animation import Animation\n",
    "import subprocess\n",
    "\n",
    "# Set Dask to use multi-threading for better performance\n",
    "dask.config.set(scheduler=\"threads\")\n",
    "\n",
    "def speed_up_video_ffmpeg(input_path, output_path, speed_factor):\n",
    "    \"\"\"\n",
    "    Speeds up an MP4 video using FFmpeg.\n",
    "\n",
    "    :param input_path: Path to the input MP4 file.\n",
    "    :param output_path: Path to save the output MP4 file.\n",
    "    :param speed_factor: Factor by which to speed up the video (e.g., 2.0 for double speed).\n",
    "    \"\"\"\n",
    "    speed_cmd = [\n",
    "        \"ffmpeg\", \"-i\", input_path, \n",
    "        \"-filter:v\", f\"setpts={1/speed_factor}*PTS\", \n",
    "        \"-an\", output_path\n",
    "    ]\n",
    "    \n",
    "    subprocess.run(speed_cmd, check=True)\n",
    "\n",
    "\n",
    "def convert_tiff_to_video(tiff_path: str, img_name: list[str] = None, file_format: str = 'mp4', fps: int = 30, speed_factor: float = 1.0):\n",
    "    \"\"\"\n",
    "    Converts a folder of TIFF images into a video animation (MP4 or GIF) using Napari.\n",
    "    \n",
    "    Parameters:\n",
    "        tiff_path (str): Base path to the folder containing TIFF images.\n",
    "        img_name (list of str, optional): List of folder names to process. Defaults to None (processes all).\n",
    "        file_format (str): Format of the output video ('mp4' or 'gif'). Defaults to 'mp4'.\n",
    "        fps (int): Frames per second for the output video. Defaults to 30.\n",
    "        speed_factor (float): Factor to speed up video by. Defaults to 1.0.\n",
    "    \"\"\"\n",
    "    video_path = tiff_path.replace('tiff', 'video')\n",
    "    os.makedirs(video_path, exist_ok=True)\n",
    "\n",
    "    if img_name is None:\n",
    "        img_name = [name for name in os.listdir(tiff_path) if os.path.isdir(os.path.join(tiff_path, name))]\n",
    "    \n",
    "    for name in img_name:\n",
    "        folder_path = os.path.join(tiff_path, name)\n",
    "        save_path = os.path.join(video_path, name)\n",
    "        os.makedirs(save_path, exist_ok=True)\n",
    "\n",
    "        # Get sorted list of TIFF files\n",
    "        tiff_files = sorted(\n",
    "            [os.path.join(folder_path, f) for f in os.listdir(folder_path) if f.lower().endswith('.tiff')]\n",
    "        )\n",
    "\n",
    "        if not tiff_files:\n",
    "            print(f\"Warning: No TIFF files found in {folder_path}. Skipping...\")\n",
    "            continue\n",
    "\n",
    "        # Load images into a Dask array (parallel lazy loading)\n",
    "        lazy_images = [delayed(tiff.imread)(f) for f in tiff_files]\n",
    "        image_stack = da.stack([da.from_delayed(img, shape=(512, 512), dtype=np.uint8) for img in lazy_images])  # Adjust shape/dtype as needed\n",
    "\n",
    "        # Open Napari viewer\n",
    "        viewer = napari.Viewer()\n",
    "        layer = viewer.add_image(image_stack, colormap='gray', name=\"TIFF Stack\", scale=[1, 1, 1])\n",
    "\n",
    "        # Create an animation\n",
    "        animation = Animation(viewer)\n",
    "        for i in range(image_stack.shape[0]):\n",
    "            viewer.dims.set_point(0, i)  # Move through the Z-stack\n",
    "            animation.capture_keyframe()\n",
    "\n",
    "        # Save the animation\n",
    "        output_file = os.path.join(save_path, f\"{name}.{file_format}\")\n",
    "        animation.animate(output_file, fps=fps, file_format=file_format)  # Adjust fps dynamically\n",
    "\n",
    "        print(f\"Animation saved at: {output_file}\")\n",
    "\n",
    "        napari.run()\n",
    "\n",
    "        if file_format=='mp4' and speed_factor!=1.0:\n",
    "            speed_up_video_ffmpeg(output_file, output_file, speed_factor)"
   ]
  },
  {
   "cell_type": "code",
   "execution_count": null,
   "metadata": {},
   "outputs": [
    {
     "name": "stdout",
     "output_type": "stream",
     "text": [
      "Rendering frames...\n"
     ]
    },
    {
     "name": "stderr",
     "output_type": "stream",
     "text": [
      "  0%|          | 0/9361 [00:00<?, ?it/s]IMAGEIO FFMPEG_WRITER WARNING: input image is not divisible by macro_block_size=16, resizing from (801, 577) to (816, 592) to ensure video compatibility with most codecs and players. To prevent resizing, make your input image divisible by the macro_block_size or set the macro_block_size to 1 (risking incompatibility).\n",
      "100%|██████████| 9361/9361 [09:02<00:00, 17.27it/s]\n"
     ]
    },
    {
     "name": "stdout",
     "output_type": "stream",
     "text": [
      "Animation saved at: D:\\Darren\\Files\\outputs\\video\\pretrained_mic50_tab30_spray60\\3_SprayDriedDispersion\\3_SprayDriedDispersion.mp4\n"
     ]
    }
   ],
   "source": [
    "tiff_path = r'D:\\Darren\\Files\\outputs\\tiff\\pretrained_mic50_tab30_spray60'\n",
    "\n",
    "# convert_tiff_to_video(tiff_path, ['3_SprayDriedDispersion'], 'gif', 10.0)\n",
    "convert_tiff_to_video(tiff_path, ['3_SprayDriedDispersion'], 'mp4', 10.0)"
   ]
  }
 ],
 "metadata": {
  "kernelspec": {
   "display_name": "Senior_Design_py310_refine",
   "language": "python",
   "name": "python3"
  },
  "language_info": {
   "codemirror_mode": {
    "name": "ipython",
    "version": 3
   },
   "file_extension": ".py",
   "mimetype": "text/x-python",
   "name": "python",
   "nbconvert_exporter": "python",
   "pygments_lexer": "ipython3",
   "version": "3.10.16"
  }
 },
 "nbformat": 4,
 "nbformat_minor": 2
}
