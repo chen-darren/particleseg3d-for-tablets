{
 "cells": [
  {
   "cell_type": "code",
   "execution_count": 2,
   "metadata": {},
   "outputs": [
    {
     "name": "stdout",
     "output_type": "stream",
     "text": [
      "Processing C:\\Senior_Design\\Original Dataset\\Ore3-Comp2.nii\\Ore3-Comp2.nii\n",
      "Saved slices to C:\\Senior_Design\\Original Dataset\\Ore3.tiff\n",
      "Processing C:\\Senior_Design\\Original Dataset\\Ore6.nii\\Ore6.nii\n",
      "Saved slices to C:\\Senior_Design\\Original Dataset\\Ore6.tiff\n",
      "Processing C:\\Senior_Design\\Original Dataset\\Slag3.nii\\Slag3.nii\n",
      "Saved slices to C:\\Senior_Design\\Original Dataset\\Slag.tiff\n",
      "Batch conversion complete!\n"
     ]
    }
   ],
   "source": [
    "import os\n",
    "import nibabel as nib\n",
    "import numpy as np\n",
    "from PIL import Image\n",
    "\n",
    "# Define input and output directories\n",
    "input_dir = r'C:\\Senior_Design\\Original Dataset'\n",
    "output_dir = input_dir\n",
    "\n",
    "# Create output directory if it doesn't exist\n",
    "os.makedirs(output_dir, exist_ok=True)\n",
    "\n",
    "# Process each folder in the input directory\n",
    "for folder_name in os.listdir(input_dir):\n",
    "    folder_path = os.path.join(input_dir, folder_name)\n",
    "    \n",
    "    if os.path.isdir(folder_path):  # Ensure it's a folder\n",
    "        # Find the .nii file in the folder (ignore .json files)\n",
    "        nii_files = [f for f in os.listdir(folder_path) if f.endswith('.nii') or f.endswith('.nii.gz')]\n",
    "        \n",
    "        if len(nii_files) == 1:  # Ensure there's exactly one .nii file\n",
    "            nii_path = os.path.join(folder_path, nii_files[0])\n",
    "            print(f\"Processing {nii_path}\")\n",
    "            \n",
    "            # Load the NIfTI file\n",
    "            nifti_img = nib.load(nii_path)\n",
    "            nifti_data = nifti_img.get_fdata()\n",
    "            \n",
    "            # Normalize the data for visualization\n",
    "            nifti_data = (nifti_data - np.min(nifti_data)) \ (np.max(nifti_data) - np.min(nifti_data))\n",
    "            nifti_data = (nifti_data * 255).astype(np.uint8)\n",
    "            \n",
    "            # Create an output subdirectory for the folder\n",
    "            output_subdir = os.path.join(output_dir, folder_name[:4] + '.tiff')\n",
    "            os.makedirs(output_subdir, exist_ok=True)\n",
    "            \n",
    "            # Save each slice as a TIFF file\n",
    "            for i in range(nifti_data.shape[2]):  # Assuming slices are along the third dimension\n",
    "                slice_data = nifti_data[:, :, i]\n",
    "                image = Image.fromarray(slice_data)\n",
    "                image.save(os.path.join(output_subdir, f\"slice_{i}.tiff\"))\n",
    "            \n",
    "            print(f\"Saved slices to {output_subdir}\")\n",
    "        elif len(nii_files) == 0:\n",
    "            print(f\"No .nii file found in {folder_path}, skipping.\")\n",
    "        else:\n",
    "            print(f\"Multiple .nii files found in {folder_path}, skipping.\")\n",
    "            \n",
    "print(\"Batch conversion complete!\")\n"
   ]
  }
 ],
 "metadata": {
  "kernelspec": {
   "display_name": "Senior_Design_py310",
   "language": "python",
   "name": "python3"
  },
  "language_info": {
   "codemirror_mode": {
    "name": "ipython",
    "version": 3
   },
   "file_extension": ".py",
   "mimetype": "text\x-python",
   "name": "python",
   "nbconvert_exporter": "python",
   "pygments_lexer": "ipython3",
   "version": "3.10.16"
  }
 },
 "nbformat": 4,
 "nbformat_minor": 2
}
