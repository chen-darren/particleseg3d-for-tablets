{
 "cells": [
  {
   "cell_type": "code",
   "execution_count": 2,
   "metadata": {},
   "outputs": [
    {
     "name": "stdout",
     "output_type": "stream",
     "text": [
      "Paths\n"
     ]
    }
   ],
   "source": [
    "import os\n",
    "\n",
    "dir_location = 'refine' # Location that this run is on: internal, external, or cloud (i.e. OneDrive)\n",
    "is_original_data = False # Original data is the dataset used by the authors of ParticleSeg3D, False results in the DigiM tablet dataset\n",
    "conda_env = 'Senior_Design_py310_refine' # Name of conda environment containing all necessary libraries, packages, and modules\n",
    "image_names = ['4_GenericD12', '5_ClaritinD12']\n",
    "types = ['grayscale', 'segmented']\n",
    "\n",
    "# Set path to the base directory\n",
    "if dir_location.lower() == 'internal':\n",
    "    base_path = r'C:\\Senior_Design'\n",
    "elif dir_location.lower() == 'external':\n",
    "    base_path = r'D:\\Senior_Design'\n",
    "elif dir_location.lower() == 'cloud':\n",
    "    base_path = r'C:\\Users\\dchen\\OneDrive - University of Connecticut\\Courses\\Year 4\\Fall 2024\\BME 4900 and 4910W (Kumavor)\\Python\\Files'\n",
    "elif dir_location.lower() == 'refine':\n",
    "    base_path = r'D:\\Darren\\Files'\n",
    "else:\n",
    "    raise ValueError('Invalid directory location type')\n",
    "\n",
    "base_data_path = os.path.join(base_path, 'database')\n",
    "\n",
    "print('Paths')"
   ]
  },
  {
   "cell_type": "code",
   "execution_count": null,
   "metadata": {},
   "outputs": [
    {
     "name": "stdout",
     "output_type": "stream",
     "text": [
      "\"D:\\Darren\\Files\\database\\tablet_dataset\\grayscale\\tiff\\4_GenericD12\"\n",
      "\"D:\\Darren\\Files\\database\\tablet_dataset\\grayscale\\zarr\"\n"
     ]
    }
   ],
   "source": [
    "import subprocess\n",
    "\n",
    "for image_name in image_names:\n",
    "    for type in types:\n",
    "        # Set dataset path\n",
    "        if is_original_data:\n",
    "            tiff_path = os.path.join(base_data_path, 'orignal_dataset', type, 'tiff', image_name)\n",
    "            zarr_path = os.path.join(base_data_path, 'orignal_dataset', type, 'zarr')\n",
    "        else:\n",
    "            tiff_path = os.path.join(base_data_path, 'tablet_dataset', type, 'tiff', image_name)\n",
    "            zarr_path = os.path.join(base_data_path, 'tablet_dataset', type, 'zarr')\n",
    "\n",
    "        # Ensure paths with spaces or parentheses are quoted (for using the directory in OneDrive, does not matter if there are no spaces or parentheses)\n",
    "        tiff_path = f'\"{tiff_path}\"'\n",
    "        zarr_path = f'\"{zarr_path}\"'\n",
    "\n",
    "        print(tiff_path)\n",
    "        print(zarr_path)\n",
    "\n",
    "        # Define the commands to execute in Anaconda PowerShell Prompt\n",
    "        activate_env = 'conda activate ' + conda_env\n",
    "        inference = 'ps3d_tiff2zarr  -i ' + tiff_path + ' -o ' + zarr_path\n",
    "        command = activate_env + '; ' + inference\n",
    "\n",
    "        # Run the commands\n",
    "        process = subprocess.run(\n",
    "            ['powershell', '-Command', command], \n",
    "            stdout=subprocess.PIPE, \n",
    "            stderr=subprocess.PIPE, \n",
    "            text=True\n",
    "        )\n",
    "\n",
    "        # Output the results\n",
    "        print(\"STDOUT:\", process.stdout)\n",
    "        print(\"STDERR:\", process.stderr)"
   ]
  }
 ],
 "metadata": {
  "kernelspec": {
   "display_name": "Senior_Design_py310_refine",
   "language": "python",
   "name": "python3"
  },
  "language_info": {
   "codemirror_mode": {
    "name": "ipython",
    "version": 3
   },
   "file_extension": ".py",
   "mimetype": "text/x-python",
   "name": "python",
   "nbconvert_exporter": "python",
   "pygments_lexer": "ipython3",
   "version": "3.10.16"
  }
 },
 "nbformat": 4,
 "nbformat_minor": 2
}
