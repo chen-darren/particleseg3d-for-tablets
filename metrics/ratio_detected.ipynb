{
 "cells": [
  {
   "cell_type": "markdown",
   "metadata": {},
   "source": [
    "# Setup Paths"
   ]
  },
  {
   "cell_type": "code",
   "execution_count": 60,
   "metadata": {},
   "outputs": [],
   "source": [
    "import os\n",
    "\n",
    "def setup_paths(dir_location, output_to_cloud, run_tag, is_original_data):\n",
    "    if dir_location.lower() == 'internal':\n",
    "        base_path = r'C:\\Senior_Design'\n",
    "    elif dir_location.lower() == 'external':\n",
    "        base_path = r'D:\\Senior_Design'\n",
    "    elif dir_location.lower() == 'cloud':\n",
    "        base_path = r'C:\\Users\\dchen\\OneDrive - University of Connecticut\\Courses\\Year 4\\Fall 2024\\BME 4900 and 4910W (Kumavor)\\Python\\Files'\n",
    "    elif dir_location.lower() == 'refine':\n",
    "        base_path = r'D:\\Darren\\Files'\n",
    "    else:\n",
    "        raise ValueError('Invalid directory location type')\n",
    "    \n",
    "    base_gt_path = os.path.join(base_path, 'database')\n",
    "    if is_original_data:\n",
    "        gt_path = os.path.join(base_gt_path, 'orignal_dataset', 'segmented', 'tiff')\n",
    "    else:\n",
    "        gt_path = os.path.join(base_gt_path, 'tablet_dataset', 'segmented', 'tiff')\n",
    "        \n",
    "    base_output_path = os.path.join(base_path, 'outputs')\n",
    "    output_path = os.path.join(base_output_path, 'tiff', run_tag)\n",
    "    if output_to_cloud:\n",
    "        base_output_path = os.path.join(r'C:\\Users\\dchen\\OneDrive - University of Connecticut\\Courses\\Year 4\\Fall 2024\\BME 4900 and 4910W (Kumavor)\\Python\\Files', 'outputs')\n",
    "    results_path = os.path.join(base_output_path, 'metrics')\n",
    "    if not os.path.isdir(results_path):\n",
    "        os.makedirs(results_path)\n",
    "\n",
    "    print('Paths set')\n",
    "    return gt_path, output_path, results_path"
   ]
  },
  {
   "cell_type": "markdown",
   "metadata": {},
   "source": [
    "# Extract Pixel Values from Ground Truth TIFF Stack"
   ]
  },
  {
   "cell_type": "code",
   "execution_count": null,
   "metadata": {},
   "outputs": [],
   "source": [
    "import numpy as np\n",
    "import tifffile as tiff\n",
    "import os\n",
    "import matplotlib.pyplot as plt\n",
    "\n",
    "def extract_unique_pixel_values(folder_path):\n",
    "    \"\"\"Extract unique pixel values and their counts from a TIFF stack in a folder.\"\"\"\n",
    "    pixel_values = []\n",
    "    \n",
    "    for filename in sorted(os.listdir(folder_path)):\n",
    "        if filename.endswith('.tif') or filename.endswith('.tiff'):\n",
    "            img = tiff.imread(os.path.join(folder_path, filename))\n",
    "            pixel_values.append(img.flatten())  # Flatten to a 1D array\n",
    "    \n",
    "    # Concatenate all pixel values and get unique values with counts\n",
    "    all_pixels = np.concatenate(pixel_values)\n",
    "    unique_values, counts = np.unique(all_pixels, return_counts=True)\n",
    "    \n",
    "    return unique_values, counts  # Return both unique values and their frequencies\n",
    "\n",
    "def highlight_pixel_value(folder_path, target_value):\n",
    "    \"\"\"Display an image where only a specific pixel value is shown, using the middle file in the folder.\"\"\"\n",
    "    tiff_files = sorted([f for f in os.listdir(folder_path) if f.endswith('.tif') or f.endswith('.tiff')])\n",
    "    \n",
    "    if not tiff_files:\n",
    "        raise FileNotFoundError(\"No TIFF files found in the folder.\")\n",
    "    \n",
    "    # Select the middle file\n",
    "    middle_file = tiff_files[len(tiff_files) // 2]\n",
    "    img = tiff.imread(os.path.join(folder_path, middle_file))  # Load the middle file\n",
    "    \n",
    "    # Create a mask where only the target pixel value is highlighted\n",
    "    highlighted_img = np.where(img == target_value, target_value, 0).astype(np.uint8)\n",
    "    \n",
    "    plt.imshow(highlighted_img, cmap=\"gray\")\n",
    "    plt.axis(\"off\")\n",
    "    plt.show()  # Display without saving\n",
    "\n",
    "def load_tiff_stack_from_dir(directory):\n",
    "    \"\"\"Loads a stack of TIFF images from a directory into a 3D NumPy array.\"\"\"\n",
    "    tiff_files = sorted([f for f in os.listdir(directory) if f.lower().endswith('.tiff') or f.lower().endswith('.tif')])\n",
    "    \n",
    "    if not tiff_files:\n",
    "        raise FileNotFoundError(\"No TIFF files found in the directory.\")\n",
    "\n",
    "    stack = [tiff.imread(os.path.join(directory, f)) for f in tiff_files]\n",
    "    return np.stack(stack, axis=0)  # Stack images along the first dimension (depth)"
   ]
  },
  {
   "cell_type": "code",
   "execution_count": 50,
   "metadata": {},
   "outputs": [
    {
     "name": "stdout",
     "output_type": "stream",
     "text": [
      "[  0  31  63  95 127 159 191 223 255]\n",
      "[332670948    897899  29381435   7545660 139802390  42293472    920254\n",
      "  41460996   1113794]\n"
     ]
    }
   ],
   "source": [
    "# tiff_path = r'd:\\Darren\\Files\\database\\tablet_dataset\\segmented\\tiff\\5_ClaritinD12'\n",
    "# pixel_values, counts = extract_unique_pixel_values(tiff_path)\n",
    "# print(pixel_values)\n",
    "# print(counts)"
   ]
  },
  {
   "cell_type": "code",
   "execution_count": 55,
   "metadata": {},
   "outputs": [
    {
     "name": "stdout",
     "output_type": "stream",
     "text": [
      "[  0  31  63  95 127 159 191 223 255]\n",
      "[332670948    897899  29381435   7545660 139802390  42293472    920254\n",
      "  41460996   1113794]\n"
     ]
    }
   ],
   "source": [
    "# tiff_path = r'd:\\Darren\\Files\\database\\tablet_dataset\\segmented\\tiff\\5_ClaritinD12_Aug3'\n",
    "# pixel_values, counts = extract_unique_pixel_values(tiff_path)\n",
    "# print(pixel_values)\n",
    "# print(counts)"
   ]
  },
  {
   "cell_type": "code",
   "execution_count": null,
   "metadata": {},
   "outputs": [
    {
     "name": "stdout",
     "output_type": "stream",
     "text": [
      "[  0  31  63  95 127 159 191 223 255]\n",
      "[332670948    897899  29381435   7545660 139802390  42293472    920254\n",
      "  41460996   1113794]\n"
     ]
    }
   ],
   "source": [
    "# tiff_path = r'd:\\Darren\\Files\\database\\tablet_dataset\\segmented\\tiff\\5_ClaritinD12_Aug4'\n",
    "# pixel_values, counts = extract_unique_pixel_values(tiff_path)\n",
    "# print(pixel_values)\n",
    "# print(counts)"
   ]
  },
  {
   "cell_type": "code",
   "execution_count": 6,
   "metadata": {},
   "outputs": [],
   "source": [
    "# tiff_path = r'd:\\Senior_Design\\database\\tablet_dataset\\segmented\\tiff\\5_ClaritinD12'\n",
    "# highlight_pixel_value(tiff_path, target_value=159)"
   ]
  },
  {
   "cell_type": "markdown",
   "metadata": {},
   "source": [
    "# Percent Detected "
   ]
  },
  {
   "cell_type": "code",
   "execution_count": null,
   "metadata": {},
   "outputs": [],
   "source": [
    "import os\n",
    "import numpy as np\n",
    "import pandas as pd\n",
    "import tifffile as tiff\n",
    "from pathlib import Path\n",
    "from tqdm import tqdm\n",
    "\n",
    "def process_image(img, gt_path, output_path, run_tag, to_binary=False):\n",
    "    gt_stack_path = os.path.join(gt_path, img)\n",
    "    output_stack_path = os.path.join(output_path, img)\n",
    "    \n",
    "    if img == '2_Tablet':\n",
    "        gt_val = 255\n",
    "    elif img == '4_GenericD12':\n",
    "        gt_val = 182\n",
    "    elif img == '5_ClaritinD12':\n",
    "        gt_val = 159\n",
    "    else:\n",
    "        raise ValueError('No valid ground truth value stored for this tablet type')\n",
    "    \n",
    "    gt_files = sorted([os.path.join(gt_stack_path, f) for f in os.listdir(gt_stack_path) if f.lower().endswith('.tiff')])\n",
    "    model_files = sorted([os.path.join(output_stack_path, f) for f in os.listdir(output_stack_path) if f.lower().endswith('.tiff')])\n",
    "\n",
    "    total_in_gt = 0\n",
    "    total_in_model = 0\n",
    "    \n",
    "    for gt_path, model_path in tqdm(list(zip(gt_files, model_files)), desc=f\"Processing {img}\", total=len(gt_files)):\n",
    "        gt_image = tiff.imread(gt_path)\n",
    "        model_image = tiff.imread(model_path)\n",
    "\n",
    "        if to_binary:\n",
    "            model_image = np.where(model_image > 0, 255, 0)\n",
    "        else:\n",
    "            if len(extract_unique_pixel_values(output_stack_path)) > 2:\n",
    "                raise ValueError('The output TIFF stack of the model is not a binary mask. This will not work without a binary mask (for now at least).')\n",
    "        \n",
    "        if gt_image.shape != model_image.shape:\n",
    "            raise ValueError(f\"Shape mismatch between {gt_path} and {model_path}.\")\n",
    "        \n",
    "        gt_mask = gt_image == gt_val\n",
    "        total_in_gt += np.sum(gt_mask)\n",
    "        total_in_model += np.sum((model_image == 255) & gt_mask)\n",
    "    \n",
    "    ratio = total_in_model / total_in_gt if total_in_gt > 0 else np.nan\n",
    "    return [run_tag, img, total_in_gt, total_in_model, ratio]\n",
    "\n",
    "def ratio_detected(img_names=None, dir_location='internal', output_to_cloud=False, run_tag='No Run Tag Inputted', is_original_data=False, to_binary=True):\n",
    "    gt_path, output_path, results_path = setup_paths(dir_location, output_to_cloud, run_tag, is_original_data)\n",
    "    \n",
    "    if img_names is None:\n",
    "        img_names = [f.name for f in Path(output_path).iterdir() if f.is_dir()]  # List of directories\n",
    "    \n",
    "    results = []\n",
    "    for img in img_names:\n",
    "        results.append(process_image(img, gt_path, output_path, run_tag, to_binary))\n",
    "    \n",
    "    df = pd.DataFrame(results, columns=['run_tag', 'image_name', 'number_in_gt', 'number_in_model', 'model_to_gt_ratio'])\n",
    "    \n",
    "    results_file = os.path.join(results_path, 'ratio_detected.csv')\n",
    "    if os.path.exists(results_file):\n",
    "        df.to_csv(results_file, mode='a', header=False, index=False)\n",
    "    else:\n",
    "        df.to_csv(results_file, index=False)\n",
    "    \n",
    "    return df\n"
   ]
  },
  {
   "cell_type": "code",
   "execution_count": null,
   "metadata": {},
   "outputs": [
    {
     "name": "stdout",
     "output_type": "stream",
     "text": [
      "Paths set\n"
     ]
    },
    {
     "name": "stderr",
     "output_type": "stream",
     "text": [
      "Processing 2_Tablet: 100%|██████████| 950/950 [00:04<00:00, 222.00it/s]\n",
      "Processing 4_GenericD12: 100%|██████████| 956/956 [00:04<00:00, 208.34it/s]\n",
      "Processing 5_ClaritinD12: 100%|██████████| 1008/1008 [00:04<00:00, 201.75it/s]\n"
     ]
    },
    {
     "data": {
      "text/html": [
       "<div>\n",
       "<style scoped>\n",
       "    .dataframe tbody tr th:only-of-type {\n",
       "        vertical-align: middle;\n",
       "    }\n",
       "\n",
       "    .dataframe tbody tr th {\n",
       "        vertical-align: top;\n",
       "    }\n",
       "\n",
       "    .dataframe thead th {\n",
       "        text-align: right;\n",
       "    }\n",
       "</style>\n",
       "<table border=\"1\" class=\"dataframe\">\n",
       "  <thead>\n",
       "    <tr style=\"text-align: right;\">\n",
       "      <th></th>\n",
       "      <th>run_tag</th>\n",
       "      <th>image_name</th>\n",
       "      <th>number_in_gt</th>\n",
       "      <th>number_in_model</th>\n",
       "      <th>model_to_gt_ratio</th>\n",
       "    </tr>\n",
       "  </thead>\n",
       "  <tbody>\n",
       "    <tr>\n",
       "      <th>0</th>\n",
       "      <td>pretrained_tab40_gen35_clar35_zscore245</td>\n",
       "      <td>2_Tablet</td>\n",
       "      <td>31224949</td>\n",
       "      <td>21910430</td>\n",
       "      <td>0.701696</td>\n",
       "    </tr>\n",
       "    <tr>\n",
       "      <th>1</th>\n",
       "      <td>pretrained_tab40_gen35_clar35_zscore245</td>\n",
       "      <td>4_GenericD12</td>\n",
       "      <td>41820600</td>\n",
       "      <td>25278848</td>\n",
       "      <td>0.604459</td>\n",
       "    </tr>\n",
       "    <tr>\n",
       "      <th>2</th>\n",
       "      <td>pretrained_tab40_gen35_clar35_zscore245</td>\n",
       "      <td>5_ClaritinD12</td>\n",
       "      <td>42293472</td>\n",
       "      <td>28342378</td>\n",
       "      <td>0.670136</td>\n",
       "    </tr>\n",
       "  </tbody>\n",
       "</table>\n",
       "</div>"
      ],
      "text/plain": [
       "                                   run_tag     image_name  number_in_gt  \\\n",
       "0  pretrained_tab40_gen35_clar35_zscore245       2_Tablet      31224949   \n",
       "1  pretrained_tab40_gen35_clar35_zscore245   4_GenericD12      41820600   \n",
       "2  pretrained_tab40_gen35_clar35_zscore245  5_ClaritinD12      42293472   \n",
       "\n",
       "   number_in_model  model_to_gt_ratio  \n",
       "0         21910430           0.701696  \n",
       "1         25278848           0.604459  \n",
       "2         28342378           0.670136  "
      ]
     },
     "execution_count": 11,
     "metadata": {},
     "output_type": "execute_result"
    }
   ],
   "source": [
    "# img_names = ['2_Tablet']\n",
    "# img_names = ['4_GenericD12']\n",
    "# img_names = ['5_ClaritinD12']\n",
    "img_names = ['2_Tablet', '4_GenericD12', '5_ClaritinD12']\n",
    "dir_location = 'refine'\n",
    "# run_tag = 'pretrained_gen35_zscore4'\n",
    "# run_tag = 'pretrained_clar35_zscore5'\n",
    "run_tag = 'pretrained_tab40_gen35_clar35_zscore245'\n",
    "\n",
    "ratio_detected(img_names=img_names, dir_location=dir_location, run_tag=run_tag)"
   ]
  }
 ],
 "metadata": {
  "kernelspec": {
   "display_name": "Senior_Design_py310_source",
   "language": "python",
   "name": "python3"
  },
  "language_info": {
   "codemirror_mode": {
    "name": "ipython",
    "version": 3
   },
   "file_extension": ".py",
   "mimetype": "text/x-python",
   "name": "python",
   "nbconvert_exporter": "python",
   "pygments_lexer": "ipython3",
   "version": "3.10.16"
  }
 },
 "nbformat": 4,
 "nbformat_minor": 2
}
