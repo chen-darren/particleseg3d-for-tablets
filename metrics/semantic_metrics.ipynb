{
 "cells": [
  {
   "cell_type": "code",
   "execution_count": 1,
   "metadata": {},
   "outputs": [],
   "source": [
    "import os\n",
    "\n",
    "def setup_paths(dir_location, output_to_cloud, run_tag, is_original_data):\n",
    "    if dir_location.lower() == 'internal':\n",
    "        base_path = r'C:\\Senior_Design'\n",
    "    elif dir_location.lower() == 'external':\n",
    "        base_path = r'D:\\Senior_Design'\n",
    "    elif dir_location.lower() == 'cloud':\n",
    "        base_path = r'C:\\Users\\dchen\\OneDrive - University of Connecticut\\Courses\\Year 4\\Fall 2024\\BME 4900 and 4910W (Kumavor)\\Python\\Files'\n",
    "    elif dir_location.lower() == 'refine':\n",
    "        base_path = r'D:\\Darren\\Files'\n",
    "    else:\n",
    "        raise ValueError('Invalid directory location type')\n",
    "    \n",
    "    base_gt_path = os.path.join(base_path, 'database')\n",
    "    if is_original_data:\n",
    "        gt_sem_path = os.path.join(base_gt_path, 'orignal_dataset', 'binary', 'tiff')\n",
    "        gt_inst_path = os.path.join(base_gt_path, 'orignal_dataset', 'instance', 'tiff')\n",
    "    else:\n",
    "        gt_sem_path = os.path.join(base_gt_path, 'tablet_dataset', 'binary', 'tiff')\n",
    "        gt_inst_path = os.path.join(base_gt_path, 'tablet_dataset', 'instance', 'tiff')\n",
    "\n",
    "    base_output_path = os.path.join(base_path, 'outputs')\n",
    "    pred_path = os.path.join(base_output_path, 'tiff', run_tag)\n",
    "    if output_to_cloud:\n",
    "        base_output_path = os.path.join(r'C:\\Users\\dchen\\OneDrive - University of Connecticut\\Courses\\Year 4\\Fall 2024\\BME 4900 and 4910W (Kumavor)\\Python\\Files', 'outputs')\n",
    "    results_path = os.path.join(base_output_path, 'metrics', 'semantic_metrics')\n",
    "    if not os.path.isdir(results_path):\n",
    "        os.makedirs(results_path)\n",
    "\n",
    "    print('Paths set')\n",
    "    return gt_sem_path, gt_inst_path, pred_path, results_path"
   ]
  },
  {
   "cell_type": "code",
   "execution_count": 2,
   "metadata": {},
   "outputs": [],
   "source": [
    "import os\n",
    "import numpy as np\n",
    "import pandas as pd\n",
    "import tifffile as tiff\n",
    "from pathlib import Path\n",
    "from tqdm import tqdm\n",
    "\n",
    "def calculate_metrics(gt_mask, pred_mask):\n",
    "    intersection = np.sum(gt_mask & pred_mask)\n",
    "    union = np.sum(gt_mask | pred_mask)\n",
    "    total_gt = np.sum(gt_mask)\n",
    "    total_model = np.sum(pred_mask)\n",
    "    true_positive = intersection\n",
    "    false_positive = np.sum(pred_mask) - true_positive\n",
    "    false_negative = np.sum(gt_mask) - true_positive\n",
    "    true_negative = np.sum(~gt_mask & ~pred_mask)\n",
    "\n",
    "    # IoU and Dice Calculation\n",
    "    iou = intersection / union if union > 0 else np.nan\n",
    "    dice = (2 * intersection) / (total_gt + total_model) if (total_gt + total_model) > 0 else np.nan\n",
    "\n",
    "    # Accuracy Calculation\n",
    "    accuracy = (true_positive + true_negative) / (true_positive + false_positive + true_negative + false_negative)\n",
    "\n",
    "    # Precision, Recall, Specificity, FPR, FNR, and MCC Calculation\n",
    "    precision = true_positive / (true_positive + false_positive) if (true_positive + false_positive) > 0 else np.nan\n",
    "    recall = true_positive / (true_positive + false_negative) if (true_positive + false_negative) > 0 else np.nan\n",
    "    specificity = true_negative / (true_negative + false_positive) if (true_negative + false_positive) > 0 else np.nan\n",
    "    fpr = false_positive / (false_positive + true_negative) if (false_positive + true_negative) > 0 else np.nan\n",
    "    fnr = false_negative / (false_negative + true_positive) if (false_negative + true_positive) > 0 else np.nan\n",
    "\n",
    "    return iou, dice, accuracy, precision, recall, specificity, fpr, fnr\n",
    "\n",
    "def process_image(img, gt_sem_path, gt_inst_path, pred_path, run_tag):\n",
    "    # Set up paths for semantic, instance ground truth, and predicted instance files\n",
    "    gt_sem_path = os.path.join(gt_sem_path, img)\n",
    "    gt_inst_path = os.path.join(gt_inst_path, img)\n",
    "    pred_path = os.path.join(pred_path, img)\n",
    "\n",
    "    # Read the 3D volumes of semantic ground truth, instance ground truth, and predicted instances\n",
    "    gt_sem_files = sorted([f for f in os.listdir(gt_sem_path) if f.endswith('.tiff')])\n",
    "    pred_files = sorted([f for f in os.listdir(pred_path) if f.endswith('.tiff')])\n",
    "\n",
    "    gt_sem_image = np.stack([tiff.imread(os.path.join(gt_sem_path, f)) for f in gt_sem_files])\n",
    "    pred_image = np.stack([tiff.imread(os.path.join(pred_path, f)) for f in pred_files])\n",
    "    \n",
    "    # Create semantic masks (binary masks for class presence)\n",
    "    gt_sem_mask = gt_sem_image == 255\n",
    "    pred_sem_mask = pred_image > 0\n",
    "    \n",
    "    # Calculate IoU, Dice, Accuracy, Precision, Recall, Specificity, FPR, FNR for the entire 3D volume\n",
    "    iou, dice, accuracy, precision, recall, specificity, fpr, fnr = calculate_metrics(gt_sem_mask, pred_sem_mask)\n",
    "    \n",
    "    # Return the calculated metrics for the 3D image\n",
    "    return [run_tag, img, iou, dice, accuracy, precision, recall, specificity, fpr, fnr]\n",
    "\n",
    "def save_metrics(img_names=None, dir_location='refine', output_to_cloud=False, run_tag='No Run Tag Inputted', is_original_data=False):\n",
    "    gt_sem_path, gt_inst_path, pred_path, results_path = setup_paths(dir_location, output_to_cloud, run_tag, is_original_data)\n",
    "\n",
    "    if img_names is None:\n",
    "        img_names = [f.name for f in Path(pred_path).iterdir() if f.is_dir()]  # List of directories\n",
    "\n",
    "    results = []\n",
    "    for img in img_names:\n",
    "        results.append(process_image(img, gt_sem_path, gt_inst_path, pred_path, run_tag))\n",
    "    \n",
    "    df = pd.DataFrame(results, columns=['run_tag', 'image_name', 'iou', 'dice', 'accuracy', 'precision', 'recall', 'specificity', 'fpr', 'fnr'])\n",
    "\n",
    "    results_file = os.path.join(results_path, 'semantic_metrics.csv')\n",
    "    if os.path.exists(results_file):\n",
    "        df.to_csv(results_file, mode='a', header=False, index=False)\n",
    "    else:\n",
    "        df.to_csv(results_file, index=False)\n",
    "\n",
    "    return df"
   ]
  },
  {
   "cell_type": "code",
   "execution_count": null,
   "metadata": {},
   "outputs": [
    {
     "name": "stdout",
     "output_type": "stream",
     "text": [
      "Paths set\n"
     ]
    },
    {
     "data": {
      "application/vnd.microsoft.datawrangler.viewer.v0+json": {
       "columns": [
        {
         "name": "index",
         "rawType": "int64",
         "type": "integer"
        },
        {
         "name": "run_tag",
         "rawType": "object",
         "type": "string"
        },
        {
         "name": "image_name",
         "rawType": "object",
         "type": "string"
        },
        {
         "name": "iou",
         "rawType": "float64",
         "type": "float"
        },
        {
         "name": "dice",
         "rawType": "float64",
         "type": "float"
        },
        {
         "name": "accuracy",
         "rawType": "float64",
         "type": "float"
        },
        {
         "name": "precision",
         "rawType": "float64",
         "type": "float"
        },
        {
         "name": "recall",
         "rawType": "float64",
         "type": "float"
        },
        {
         "name": "specificity",
         "rawType": "float64",
         "type": "float"
        },
        {
         "name": "fpr",
         "rawType": "float64",
         "type": "float"
        },
        {
         "name": "fnr",
         "rawType": "float64",
         "type": "float"
        }
       ],
       "conversionMethod": "pd.DataFrame",
       "ref": "4ab48d1e-19a4-4666-b20a-c3da9f85ae9d",
       "rows": [
        [
         "0",
         "pretrained_tab40_gen35_clar35_foldsALL",
         "2_Tablet",
         "0.5509737173792019",
         "0.7104874972481469",
         "0.9567184355302337",
         "0.7053052114006535",
         "0.7157465012993296",
         "0.9760315377382259",
         "0.02396846226177411",
         "0.2842534987006704"
        ],
        [
         "1",
         "pretrained_tab40_gen35_clar35_foldsALL",
         "4_GenericD12",
         "0.6016331371759154",
         "0.7512745874336078",
         "0.967668891471684",
         "0.9884434453647997",
         "0.6058950612855866",
         "0.9993790800127672",
         "0.0006209199872327579",
         "0.3941049387144135"
        ],
        [
         "2",
         "pretrained_tab40_gen35_clar35_foldsALL",
         "5_ClaritinD12",
         "0.6630371205773771",
         "0.7973810233979411",
         "0.9757842719589747",
         "0.9812030437529906",
         "0.6715672574717914",
         "0.999017474705223",
         "0.0009825252947770903",
         "0.3284327425282086"
        ]
       ],
       "shape": {
        "columns": 10,
        "rows": 3
       }
      },
      "text/html": [
       "<div>\n",
       "<style scoped>\n",
       "    .dataframe tbody tr th:only-of-type {\n",
       "        vertical-align: middle;\n",
       "    }\n",
       "\n",
       "    .dataframe tbody tr th {\n",
       "        vertical-align: top;\n",
       "    }\n",
       "\n",
       "    .dataframe thead th {\n",
       "        text-align: right;\n",
       "    }\n",
       "</style>\n",
       "<table border=\"1\" class=\"dataframe\">\n",
       "  <thead>\n",
       "    <tr style=\"text-align: right;\">\n",
       "      <th></th>\n",
       "      <th>run_tag</th>\n",
       "      <th>image_name</th>\n",
       "      <th>iou</th>\n",
       "      <th>dice</th>\n",
       "      <th>accuracy</th>\n",
       "      <th>precision</th>\n",
       "      <th>recall</th>\n",
       "      <th>specificity</th>\n",
       "      <th>fpr</th>\n",
       "      <th>fnr</th>\n",
       "    </tr>\n",
       "  </thead>\n",
       "  <tbody>\n",
       "    <tr>\n",
       "      <th>0</th>\n",
       "      <td>pretrained_tab40_gen35_clar35_foldsALL</td>\n",
       "      <td>2_Tablet</td>\n",
       "      <td>0.550974</td>\n",
       "      <td>0.710487</td>\n",
       "      <td>0.956718</td>\n",
       "      <td>0.705305</td>\n",
       "      <td>0.715747</td>\n",
       "      <td>0.976032</td>\n",
       "      <td>0.023968</td>\n",
       "      <td>0.284253</td>\n",
       "    </tr>\n",
       "    <tr>\n",
       "      <th>1</th>\n",
       "      <td>pretrained_tab40_gen35_clar35_foldsALL</td>\n",
       "      <td>4_GenericD12</td>\n",
       "      <td>0.601633</td>\n",
       "      <td>0.751275</td>\n",
       "      <td>0.967669</td>\n",
       "      <td>0.988443</td>\n",
       "      <td>0.605895</td>\n",
       "      <td>0.999379</td>\n",
       "      <td>0.000621</td>\n",
       "      <td>0.394105</td>\n",
       "    </tr>\n",
       "    <tr>\n",
       "      <th>2</th>\n",
       "      <td>pretrained_tab40_gen35_clar35_foldsALL</td>\n",
       "      <td>5_ClaritinD12</td>\n",
       "      <td>0.663037</td>\n",
       "      <td>0.797381</td>\n",
       "      <td>0.975784</td>\n",
       "      <td>0.981203</td>\n",
       "      <td>0.671567</td>\n",
       "      <td>0.999017</td>\n",
       "      <td>0.000983</td>\n",
       "      <td>0.328433</td>\n",
       "    </tr>\n",
       "  </tbody>\n",
       "</table>\n",
       "</div>"
      ],
      "text/plain": [
       "                                  run_tag     image_name       iou      dice  \\\n",
       "0  pretrained_tab40_gen35_clar35_foldsALL       2_Tablet  0.550974  0.710487   \n",
       "1  pretrained_tab40_gen35_clar35_foldsALL   4_GenericD12  0.601633  0.751275   \n",
       "2  pretrained_tab40_gen35_clar35_foldsALL  5_ClaritinD12  0.663037  0.797381   \n",
       "\n",
       "   accuracy  precision    recall  specificity       fpr       fnr  \n",
       "0  0.956718   0.705305  0.715747     0.976032  0.023968  0.284253  \n",
       "1  0.967669   0.988443  0.605895     0.999379  0.000621  0.394105  \n",
       "2  0.975784   0.981203  0.671567     0.999017  0.000983  0.328433  "
      ]
     },
     "execution_count": 3,
     "metadata": {},
     "output_type": "execute_result"
    }
   ],
   "source": [
    "# img_names = ['2_Tablet']\n",
    "# img_names = ['4_GenericD12']\n",
    "# img_names = ['5_ClaritinD12']\n",
    "img_names = ['2_Tablet', '4_GenericD12', '5_ClaritinD12']\n",
    "dir_location = 'refine'\n",
    "# run_tag = 'pretrained_gen35_zscore4'\n",
    "# run_tag = 'pretrained_clar35_zscore5'\n",
    "run_tag = 'pretrained_tab40_gen35_clar35_fold2'\n",
    "# run_tag = 'pretrained_tab40_gen35_clar35_foldsALL'\n",
    "\n",
    "save_metrics(img_names=img_names, dir_location=dir_location, run_tag=run_tag)"
   ]
  }
 ],
 "metadata": {
  "kernelspec": {
   "display_name": "Senior_Design_py310_source",
   "language": "python",
   "name": "python3"
  },
  "language_info": {
   "codemirror_mode": {
    "name": "ipython",
    "version": 3
   },
   "file_extension": ".py",
   "mimetype": "text/x-python",
   "name": "python",
   "nbconvert_exporter": "python",
   "pygments_lexer": "ipython3",
   "version": "3.10.16"
  }
 },
 "nbformat": 4,
 "nbformat_minor": 2
}
